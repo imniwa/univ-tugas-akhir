{
 "cells": [
  {
   "cell_type": "markdown",
   "metadata": {},
   "source": [
    "# Social Network Analysis"
   ]
  },
  {
   "cell_type": "code",
   "execution_count": 1,
   "metadata": {},
   "outputs": [],
   "source": [
    "import matplotlib.pyplot as plt\n",
    "import numpy as np\n",
    "import pandas as pd\n",
    "import networkx as nx\n",
    "from ast import literal_eval\n",
    "import re"
   ]
  },
  {
   "cell_type": "code",
   "execution_count": 10,
   "metadata": {},
   "outputs": [],
   "source": [
    "data = pd.read_csv(\"./data/tsv/data.tsv\", sep=\"\\t\")"
   ]
  },
  {
   "cell_type": "code",
   "execution_count": 11,
   "metadata": {},
   "outputs": [
    {
     "name": "stdout",
     "output_type": "stream",
     "text": [
      "<class 'pandas.core.frame.DataFrame'>\n",
      "RangeIndex: 5428 entries, 0 to 5427\n",
      "Data columns (total 3 columns):\n",
      " #   Column     Non-Null Count  Dtype \n",
      "---  ------     --------------  ----- \n",
      " 0   content    5428 non-null   object\n",
      " 1   username   5428 non-null   object\n",
      " 2   mentioned  5428 non-null   object\n",
      "dtypes: object(3)\n",
      "memory usage: 127.3+ KB\n"
     ]
    }
   ],
   "source": [
    "data.info()"
   ]
  },
  {
   "cell_type": "code",
   "execution_count": 12,
   "metadata": {},
   "outputs": [],
   "source": [
    "data['mentioned'] = data['mentioned'].apply(lambda x: [re.sub(r'@', '', x) for x in list(literal_eval(x))])"
   ]
  },
  {
   "cell_type": "code",
   "execution_count": 13,
   "metadata": {},
   "outputs": [
    {
     "data": {
      "text/html": [
       "<div>\n",
       "<style scoped>\n",
       "    .dataframe tbody tr th:only-of-type {\n",
       "        vertical-align: middle;\n",
       "    }\n",
       "\n",
       "    .dataframe tbody tr th {\n",
       "        vertical-align: top;\n",
       "    }\n",
       "\n",
       "    .dataframe thead th {\n",
       "        text-align: right;\n",
       "    }\n",
       "</style>\n",
       "<table border=\"1\" class=\"dataframe\">\n",
       "  <thead>\n",
       "    <tr style=\"text-align: right;\">\n",
       "      <th></th>\n",
       "      <th>username</th>\n",
       "      <th>mentioned</th>\n",
       "    </tr>\n",
       "  </thead>\n",
       "  <tbody>\n",
       "    <tr>\n",
       "      <th>0</th>\n",
       "      <td>LSuroyaa</td>\n",
       "      <td>[woootamelon]</td>\n",
       "    </tr>\n",
       "    <tr>\n",
       "      <th>1</th>\n",
       "      <td>COMRADE_SOLAR</td>\n",
       "      <td>[jn_jiu, mistamosby]</td>\n",
       "    </tr>\n",
       "    <tr>\n",
       "      <th>2</th>\n",
       "      <td>bekstreettt</td>\n",
       "      <td>[coldplay]</td>\n",
       "    </tr>\n",
       "    <tr>\n",
       "      <th>3</th>\n",
       "      <td>SeleccionINA</td>\n",
       "      <td>[coldplay, coldplay]</td>\n",
       "    </tr>\n",
       "    <tr>\n",
       "      <th>4</th>\n",
       "      <td>finyjr</td>\n",
       "      <td>[IDWantsColdplay, coldplay]</td>\n",
       "    </tr>\n",
       "    <tr>\n",
       "      <th>...</th>\n",
       "      <td>...</td>\n",
       "      <td>...</td>\n",
       "    </tr>\n",
       "    <tr>\n",
       "      <th>5423</th>\n",
       "      <td>perdott_</td>\n",
       "      <td>[0tk0il]</td>\n",
       "    </tr>\n",
       "    <tr>\n",
       "      <th>5424</th>\n",
       "      <td>Ruangtummbuh</td>\n",
       "      <td>[kegblgnunfaedh]</td>\n",
       "    </tr>\n",
       "    <tr>\n",
       "      <th>5425</th>\n",
       "      <td>titislukita</td>\n",
       "      <td>[yfurip]</td>\n",
       "    </tr>\n",
       "    <tr>\n",
       "      <th>5426</th>\n",
       "      <td>Dwiky_Alfi</td>\n",
       "      <td>[0tk0il]</td>\n",
       "    </tr>\n",
       "    <tr>\n",
       "      <th>5427</th>\n",
       "      <td>yuhuaha</td>\n",
       "      <td>[ILHAM_AVEIRO1, vanry12, 0tk0il]</td>\n",
       "    </tr>\n",
       "  </tbody>\n",
       "</table>\n",
       "<p>5428 rows × 2 columns</p>\n",
       "</div>"
      ],
      "text/plain": [
       "           username                         mentioned\n",
       "0          LSuroyaa                     [woootamelon]\n",
       "1     COMRADE_SOLAR              [jn_jiu, mistamosby]\n",
       "2       bekstreettt                        [coldplay]\n",
       "3      SeleccionINA              [coldplay, coldplay]\n",
       "4            finyjr       [IDWantsColdplay, coldplay]\n",
       "...             ...                               ...\n",
       "5423       perdott_                          [0tk0il]\n",
       "5424   Ruangtummbuh                  [kegblgnunfaedh]\n",
       "5425    titislukita                          [yfurip]\n",
       "5426     Dwiky_Alfi                          [0tk0il]\n",
       "5427        yuhuaha  [ILHAM_AVEIRO1, vanry12, 0tk0il]\n",
       "\n",
       "[5428 rows x 2 columns]"
      ]
     },
     "execution_count": 13,
     "metadata": {},
     "output_type": "execute_result"
    }
   ],
   "source": [
    "data[['username', 'mentioned']]"
   ]
  },
  {
   "cell_type": "code",
   "execution_count": 18,
   "metadata": {},
   "outputs": [],
   "source": [
    "G = nx.DiGraph()\n",
    "nodes = dict()\n",
    "for interaction in data.iloc:\n",
    "    for mention in interaction.mentioned:\n",
    "        source, target = interaction.username, mention\n",
    "        val_source = nodes.get(source, 0)\n",
    "        val_target = nodes.get(target, 0)\n",
    "        nodes[source] = val_source+1\n",
    "        nodes[target] = val_source+1\n",
    "        if G.has_edge(source, target):\n",
    "            G[source][target][\"weight\"] += 1\n",
    "        else:\n",
    "            G.add_edge(source, target, weight=1)\n",
    "edgelist = nx.to_pandas_edgelist(G).sort_values(by=\"weight\", ascending=False, ignore_index=True)"
   ]
  },
  {
   "cell_type": "code",
   "execution_count": 27,
   "metadata": {},
   "outputs": [
    {
     "data": {
      "text/plain": [
       "2.1632302405498223"
      ]
     },
     "execution_count": 27,
     "metadata": {},
     "output_type": "execute_result"
    }
   ],
   "source": [
    "sum(nx.centrality.degree_centrality(G).values())"
   ]
  }
 ],
 "metadata": {
  "kernelspec": {
   "display_name": "skripsi",
   "language": "python",
   "name": "python3"
  },
  "language_info": {
   "codemirror_mode": {
    "name": "ipython",
    "version": 3
   },
   "file_extension": ".py",
   "mimetype": "text/x-python",
   "name": "python",
   "nbconvert_exporter": "python",
   "pygments_lexer": "ipython3",
   "version": "3.11.2"
  }
 },
 "nbformat": 4,
 "nbformat_minor": 2
}
