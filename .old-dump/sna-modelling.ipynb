{
 "cells": [
  {
   "cell_type": "markdown",
   "metadata": {},
   "source": [
    "# Social Network Analysis"
   ]
  },
  {
   "cell_type": "code",
   "execution_count": 1,
   "metadata": {},
   "outputs": [],
   "source": [
    "import matplotlib.pyplot as plt\n",
    "import numpy as np\n",
    "import pandas as pd\n",
    "import networkx as nx\n",
    "from ast import literal_eval\n",
    "import re"
   ]
  },
  {
   "cell_type": "markdown",
   "metadata": {},
   "source": [
    "custom function"
   ]
  },
  {
   "cell_type": "code",
   "execution_count": 54,
   "metadata": {},
   "outputs": [],
   "source": [
    "def export_json(data:dict, export_name:str, indent:int = 4):\n",
    "  import json\n",
    "  with open(export_name, 'w') as f:\n",
    "    json.dump(data, f, indent=indent)"
   ]
  },
  {
   "cell_type": "code",
   "execution_count": 2,
   "metadata": {},
   "outputs": [],
   "source": [
    "data = pd.read_csv('./data/tsv/data.tsv', sep=\"\\t\")"
   ]
  },
  {
   "cell_type": "code",
   "execution_count": 3,
   "metadata": {},
   "outputs": [
    {
     "name": "stdout",
     "output_type": "stream",
     "text": [
      "<class 'pandas.core.frame.DataFrame'>\n",
      "RangeIndex: 5428 entries, 0 to 5427\n",
      "Data columns (total 4 columns):\n",
      " #   Column      Non-Null Count  Dtype \n",
      "---  ------      --------------  ----- \n",
      " 0   content     5395 non-null   object\n",
      " 1   username    5428 non-null   object\n",
      " 2   mentioned   5428 non-null   object\n",
      " 3   rawContent  5428 non-null   object\n",
      "dtypes: object(4)\n",
      "memory usage: 169.8+ KB\n"
     ]
    }
   ],
   "source": [
    "data.info()"
   ]
  },
  {
   "cell_type": "markdown",
   "metadata": {},
   "source": [
    "## Building Graph"
   ]
  },
  {
   "cell_type": "code",
   "execution_count": 6,
   "metadata": {},
   "outputs": [],
   "source": [
    "data['mentioned'] = data['mentioned'].apply(lambda x: literal_eval(x))"
   ]
  },
  {
   "cell_type": "markdown",
   "metadata": {},
   "source": [
    "membuat list edges/links berdasarkan username dengan mention untuk attribut `weight` menggunakan seberapa banyak username dan mentioned berinteraksi "
   ]
  },
  {
   "cell_type": "code",
   "execution_count": 7,
   "metadata": {},
   "outputs": [],
   "source": [
    "G = nx.DiGraph()\n",
    "for interaction in data.iloc:\n",
    "    for mention in interaction.mentioned:\n",
    "        source, target = interaction.username, re.sub(r'@', '' ,mention)\n",
    "        if G.has_edge(source, target):\n",
    "            G[source][target][\"weight\"] += 1\n",
    "        else:\n",
    "            G.add_edge(source, target, weight=1)\n",
    "edgelist = nx.to_pandas_edgelist(G).sort_values(by=\"weight\", ascending=False, ignore_index=True)"
   ]
  },
  {
   "cell_type": "code",
   "execution_count": 8,
   "metadata": {},
   "outputs": [
    {
     "data": {
      "text/html": [
       "<div>\n",
       "<style scoped>\n",
       "    .dataframe tbody tr th:only-of-type {\n",
       "        vertical-align: middle;\n",
       "    }\n",
       "\n",
       "    .dataframe tbody tr th {\n",
       "        vertical-align: top;\n",
       "    }\n",
       "\n",
       "    .dataframe thead th {\n",
       "        text-align: right;\n",
       "    }\n",
       "</style>\n",
       "<table border=\"1\" class=\"dataframe\">\n",
       "  <thead>\n",
       "    <tr style=\"text-align: right;\">\n",
       "      <th></th>\n",
       "      <th>source</th>\n",
       "      <th>target</th>\n",
       "      <th>weight</th>\n",
       "    </tr>\n",
       "  </thead>\n",
       "  <tbody>\n",
       "    <tr>\n",
       "      <th>0</th>\n",
       "      <td>hyuckbestiee</td>\n",
       "      <td>nuna_konser</td>\n",
       "      <td>11</td>\n",
       "    </tr>\n",
       "    <tr>\n",
       "      <th>1</th>\n",
       "      <td>IDWantsColdplay</td>\n",
       "      <td>coldplay</td>\n",
       "      <td>8</td>\n",
       "    </tr>\n",
       "    <tr>\n",
       "      <th>2</th>\n",
       "      <td>fnfj_</td>\n",
       "      <td>IDWantsColdplay</td>\n",
       "      <td>7</td>\n",
       "    </tr>\n",
       "    <tr>\n",
       "      <th>3</th>\n",
       "      <td>missoriginalsix</td>\n",
       "      <td>coldplay</td>\n",
       "      <td>7</td>\n",
       "    </tr>\n",
       "    <tr>\n",
       "      <th>4</th>\n",
       "      <td>missoriginalsix</td>\n",
       "      <td>IDWantsColdplay</td>\n",
       "      <td>7</td>\n",
       "    </tr>\n",
       "    <tr>\n",
       "      <th>5</th>\n",
       "      <td>nasyaElpnt</td>\n",
       "      <td>coldplay</td>\n",
       "      <td>7</td>\n",
       "    </tr>\n",
       "    <tr>\n",
       "      <th>6</th>\n",
       "      <td>fnfj_</td>\n",
       "      <td>coldplay</td>\n",
       "      <td>7</td>\n",
       "    </tr>\n",
       "    <tr>\n",
       "      <th>7</th>\n",
       "      <td>rohitsebastiian</td>\n",
       "      <td>coldplay</td>\n",
       "      <td>6</td>\n",
       "    </tr>\n",
       "    <tr>\n",
       "      <th>8</th>\n",
       "      <td>rohitsebastiian</td>\n",
       "      <td>IDWantsColdplay</td>\n",
       "      <td>6</td>\n",
       "    </tr>\n",
       "    <tr>\n",
       "      <th>9</th>\n",
       "      <td>thebuzzzsixties</td>\n",
       "      <td>idextratime</td>\n",
       "      <td>6</td>\n",
       "    </tr>\n",
       "  </tbody>\n",
       "</table>\n",
       "</div>"
      ],
      "text/plain": [
       "            source           target  weight\n",
       "0     hyuckbestiee      nuna_konser      11\n",
       "1  IDWantsColdplay         coldplay       8\n",
       "2            fnfj_  IDWantsColdplay       7\n",
       "3  missoriginalsix         coldplay       7\n",
       "4  missoriginalsix  IDWantsColdplay       7\n",
       "5       nasyaElpnt         coldplay       7\n",
       "6            fnfj_         coldplay       7\n",
       "7  rohitsebastiian         coldplay       6\n",
       "8  rohitsebastiian  IDWantsColdplay       6\n",
       "9  thebuzzzsixties      idextratime       6"
      ]
     },
     "execution_count": 8,
     "metadata": {},
     "output_type": "execute_result"
    }
   ],
   "source": [
    "edgelist.sort_values(by='weight', ascending=False).head(10)"
   ]
  },
  {
   "cell_type": "code",
   "execution_count": 9,
   "metadata": {},
   "outputs": [],
   "source": [
    "chart_label = []\n",
    "chart_size = []\n",
    "for num, x in edgelist.groupby(by='weight'):\n",
    "  chart_label.append(num)\n",
    "  chart_size.append(len(x))"
   ]
  },
  {
   "cell_type": "markdown",
   "metadata": {},
   "source": [
    "persebaran weight tiap edges"
   ]
  },
  {
   "cell_type": "code",
   "execution_count": 10,
   "metadata": {},
   "outputs": [
    {
     "data": {
      "image/png": "[encoded data removed]",
      "text/plain": [
       "<Figure size 1800x500 with 1 Axes>"
      ]
     },
     "metadata": {},
     "output_type": "display_data"
    }
   ],
   "source": [
    "plt.figure(figsize=(18,5))\n",
    "plt.bar(chart_label, chart_size, align='edge')\n",
    "plt.show()"
   ]
  },
  {
   "cell_type": "code",
   "execution_count": 17,
   "metadata": {},
   "outputs": [],
   "source": [
    "# temporary list\n",
    "sources = list(set(edgelist.source))\n",
    "targets = list(set(edgelist.target))\n",
    "nodes = list(set(sources + targets))\n",
    "\n",
    "# change names to id as primary\n",
    "nodelist = pd.DataFrame(nodes).reset_index()\n",
    "nodelist.columns = [\"id\", \"name\"]\n",
    "nodelist[\"id\"] = np.arange(1, len(nodelist) + 1)\n",
    "\n",
    "# mengambil id berdasarkan nama atau sebaliknya\n",
    "node_dict = {k: v for k, v in zip(nodelist.name, nodelist.id)}\n",
    "name_dict = {k: v for k, v in zip(nodelist.id, nodelist.name)}\n",
    "\n",
    "# temporary variable\n",
    "nodes = node_dict.keys()\n",
    "node_ids = node_dict.values()\n",
    "sources = [node_dict.get(s) for s in edgelist.source]\n",
    "targets = [node_dict.get(s) for s in edgelist.target]\n",
    "weights = [w for w in edgelist.weight]\n",
    "\n",
    "# temporary list\n",
    "edge_tuples = []\n",
    "for s, t, w in zip(sources, targets, weights):\n",
    "    edge_tuples.append((s, t, w))"
   ]
  },
  {
   "cell_type": "code",
   "execution_count": 18,
   "metadata": {},
   "outputs": [],
   "source": [
    "G = nx.Graph()\n",
    "G.add_nodes_from(list(node_ids))\n",
    "G.add_weighted_edges_from(edge_tuples)"
   ]
  },
  {
   "cell_type": "code",
   "execution_count": 19,
   "metadata": {},
   "outputs": [],
   "source": [
    "groups = nx.algorithms.community.louvain_communities(G)\n",
    "test_groups = dict()\n",
    "for i, x in enumerate(groups):\n",
    "    for node in x:\n",
    "        test_groups[node] = i + 1\n",
    "groups = pd.DataFrame(test_groups.items(), columns=[\"id\", \"groups\"]).sort_values(by=\"id\", ignore_index=True)"
   ]
  },
  {
   "cell_type": "code",
   "execution_count": 20,
   "metadata": {},
   "outputs": [],
   "source": [
    "nx.set_node_attributes(G, name=\"category\", values=groups[\"groups\"].to_dict())\n",
    "nx.set_node_attributes(G, name=\"name\", values=name_dict)"
   ]
  },
  {
   "cell_type": "code",
   "execution_count": 21,
   "metadata": {},
   "outputs": [],
   "source": [
    "degree = nx.algorithms.centrality.degree_centrality(G)\n",
    "nx.set_node_attributes(G, name=\"degree\", values=degree)"
   ]
  },
  {
   "cell_type": "code",
   "execution_count": 42,
   "metadata": {},
   "outputs": [],
   "source": [
    "dc_g = pd.DataFrame(degree.items(), columns=['id', 'degree']).sort_values(by='degree', ascending=False)\n",
    "dc_g['username'] = dc_g['id'].apply(lambda x: G.nodes.get(x)['name'])"
   ]
  },
  {
   "cell_type": "code",
   "execution_count": 43,
   "metadata": {},
   "outputs": [
    {
     "data": {
      "text/html": [
       "<div>\n",
       "<style scoped>\n",
       "    .dataframe tbody tr th:only-of-type {\n",
       "        vertical-align: middle;\n",
       "    }\n",
       "\n",
       "    .dataframe tbody tr th {\n",
       "        vertical-align: top;\n",
       "    }\n",
       "\n",
       "    .dataframe thead th {\n",
       "        text-align: right;\n",
       "    }\n",
       "</style>\n",
       "<table border=\"1\" class=\"dataframe\">\n",
       "  <thead>\n",
       "    <tr style=\"text-align: right;\">\n",
       "      <th></th>\n",
       "      <th>id</th>\n",
       "      <th>degree</th>\n",
       "      <th>username</th>\n",
       "    </tr>\n",
       "  </thead>\n",
       "  <tbody>\n",
       "    <tr>\n",
       "      <th>1596</th>\n",
       "      <td>1597</td>\n",
       "      <td>0.196019</td>\n",
       "      <td>coldplay</td>\n",
       "    </tr>\n",
       "    <tr>\n",
       "      <th>6969</th>\n",
       "      <td>6970</td>\n",
       "      <td>0.102090</td>\n",
       "      <td>IDWantsColdplay</td>\n",
       "    </tr>\n",
       "    <tr>\n",
       "      <th>3580</th>\n",
       "      <td>3581</td>\n",
       "      <td>0.044674</td>\n",
       "      <td>tanyakanrl</td>\n",
       "    </tr>\n",
       "    <tr>\n",
       "      <th>5314</th>\n",
       "      <td>5315</td>\n",
       "      <td>0.025344</td>\n",
       "      <td>westenthu</td>\n",
       "    </tr>\n",
       "    <tr>\n",
       "      <th>3704</th>\n",
       "      <td>3705</td>\n",
       "      <td>0.023769</td>\n",
       "      <td>idextratime</td>\n",
       "    </tr>\n",
       "    <tr>\n",
       "      <th>5703</th>\n",
       "      <td>5704</td>\n",
       "      <td>0.019759</td>\n",
       "      <td>coldplayxtra</td>\n",
       "    </tr>\n",
       "    <tr>\n",
       "      <th>4496</th>\n",
       "      <td>4497</td>\n",
       "      <td>0.019330</td>\n",
       "      <td>BonnySidharta</td>\n",
       "    </tr>\n",
       "    <tr>\n",
       "      <th>5629</th>\n",
       "      <td>5630</td>\n",
       "      <td>0.018184</td>\n",
       "      <td>coldplaying</td>\n",
       "    </tr>\n",
       "    <tr>\n",
       "      <th>5942</th>\n",
       "      <td>5943</td>\n",
       "      <td>0.008162</td>\n",
       "      <td>santo91192</td>\n",
       "    </tr>\n",
       "    <tr>\n",
       "      <th>6724</th>\n",
       "      <td>6725</td>\n",
       "      <td>0.007875</td>\n",
       "      <td>tixseoulution</td>\n",
       "    </tr>\n",
       "  </tbody>\n",
       "</table>\n",
       "</div>"
      ],
      "text/plain": [
       "        id    degree         username\n",
       "1596  1597  0.196019         coldplay\n",
       "6969  6970  0.102090  IDWantsColdplay\n",
       "3580  3581  0.044674       tanyakanrl\n",
       "5314  5315  0.025344        westenthu\n",
       "3704  3705  0.023769      idextratime\n",
       "5703  5704  0.019759     coldplayxtra\n",
       "4496  4497  0.019330    BonnySidharta\n",
       "5629  5630  0.018184      coldplaying\n",
       "5942  5943  0.008162       santo91192\n",
       "6724  6725  0.007875    tixseoulution"
      ]
     },
     "execution_count": 43,
     "metadata": {},
     "output_type": "execute_result"
    }
   ],
   "source": [
    "dc_g.head(10)"
   ]
  },
  {
   "cell_type": "code",
   "execution_count": 23,
   "metadata": {},
   "outputs": [],
   "source": [
    "betweenness = nx.algorithms.centrality.betweenness_centrality(G, weight=\"weight\")\n",
    "nx.set_node_attributes(G, name=\"betweenness\", values=betweenness)"
   ]
  },
  {
   "cell_type": "code",
   "execution_count": 44,
   "metadata": {},
   "outputs": [],
   "source": [
    "bc_g = pd.DataFrame(betweenness.items(), columns=['id', 'bc']).sort_values(by='bc', ascending=False)\n",
    "bc_g['username'] = bc_g['id'].apply(lambda x: G.nodes.get(x)['name'])"
   ]
  },
  {
   "cell_type": "code",
   "execution_count": 45,
   "metadata": {},
   "outputs": [
    {
     "data": {
      "text/html": [
       "<div>\n",
       "<style scoped>\n",
       "    .dataframe tbody tr th:only-of-type {\n",
       "        vertical-align: middle;\n",
       "    }\n",
       "\n",
       "    .dataframe tbody tr th {\n",
       "        vertical-align: top;\n",
       "    }\n",
       "\n",
       "    .dataframe thead th {\n",
       "        text-align: right;\n",
       "    }\n",
       "</style>\n",
       "<table border=\"1\" class=\"dataframe\">\n",
       "  <thead>\n",
       "    <tr style=\"text-align: right;\">\n",
       "      <th></th>\n",
       "      <th>id</th>\n",
       "      <th>bc</th>\n",
       "      <th>username</th>\n",
       "    </tr>\n",
       "  </thead>\n",
       "  <tbody>\n",
       "    <tr>\n",
       "      <th>1596</th>\n",
       "      <td>1597</td>\n",
       "      <td>0.196991</td>\n",
       "      <td>coldplay</td>\n",
       "    </tr>\n",
       "    <tr>\n",
       "      <th>3580</th>\n",
       "      <td>3581</td>\n",
       "      <td>0.056255</td>\n",
       "      <td>tanyakanrl</td>\n",
       "    </tr>\n",
       "    <tr>\n",
       "      <th>5314</th>\n",
       "      <td>5315</td>\n",
       "      <td>0.043148</td>\n",
       "      <td>westenthu</td>\n",
       "    </tr>\n",
       "    <tr>\n",
       "      <th>6969</th>\n",
       "      <td>6970</td>\n",
       "      <td>0.041314</td>\n",
       "      <td>IDWantsColdplay</td>\n",
       "    </tr>\n",
       "    <tr>\n",
       "      <th>3704</th>\n",
       "      <td>3705</td>\n",
       "      <td>0.033345</td>\n",
       "      <td>idextratime</td>\n",
       "    </tr>\n",
       "    <tr>\n",
       "      <th>4496</th>\n",
       "      <td>4497</td>\n",
       "      <td>0.025140</td>\n",
       "      <td>BonnySidharta</td>\n",
       "    </tr>\n",
       "    <tr>\n",
       "      <th>1817</th>\n",
       "      <td>1818</td>\n",
       "      <td>0.023031</td>\n",
       "      <td>celixalexandra</td>\n",
       "    </tr>\n",
       "    <tr>\n",
       "      <th>5820</th>\n",
       "      <td>5821</td>\n",
       "      <td>0.020670</td>\n",
       "      <td>tmlnsnxlouiss</td>\n",
       "    </tr>\n",
       "    <tr>\n",
       "      <th>6560</th>\n",
       "      <td>6561</td>\n",
       "      <td>0.013763</td>\n",
       "      <td>7Jktoru</td>\n",
       "    </tr>\n",
       "    <tr>\n",
       "      <th>5206</th>\n",
       "      <td>5207</td>\n",
       "      <td>0.012442</td>\n",
       "      <td>tawakkaI</td>\n",
       "    </tr>\n",
       "  </tbody>\n",
       "</table>\n",
       "</div>"
      ],
      "text/plain": [
       "        id        bc         username\n",
       "1596  1597  0.196991         coldplay\n",
       "3580  3581  0.056255       tanyakanrl\n",
       "5314  5315  0.043148        westenthu\n",
       "6969  6970  0.041314  IDWantsColdplay\n",
       "3704  3705  0.033345      idextratime\n",
       "4496  4497  0.025140    BonnySidharta\n",
       "1817  1818  0.023031   celixalexandra\n",
       "5820  5821  0.020670    tmlnsnxlouiss\n",
       "6560  6561  0.013763          7Jktoru\n",
       "5206  5207  0.012442         tawakkaI"
      ]
     },
     "execution_count": 45,
     "metadata": {},
     "output_type": "execute_result"
    }
   ],
   "source": [
    "bc_g.head(10)"
   ]
  },
  {
   "cell_type": "code",
   "execution_count": 25,
   "metadata": {},
   "outputs": [],
   "source": [
    "eigenvector = nx.algorithms.centrality.eigenvector_centrality_numpy(G, weight=\"weight\")\n",
    "nx.set_node_attributes(G, name=\"eigenvector\", values=eigenvector)"
   ]
  },
  {
   "cell_type": "code",
   "execution_count": 46,
   "metadata": {},
   "outputs": [],
   "source": [
    "ec_g = pd.DataFrame(eigenvector.items(), columns=['id', 'ec']). sort_values(by='ec', ascending=False)\n",
    "ec_g['username'] = ec_g['id'].apply(lambda x: G.nodes.get(x)['name'])"
   ]
  },
  {
   "cell_type": "code",
   "execution_count": 47,
   "metadata": {},
   "outputs": [
    {
     "data": {
      "text/html": [
       "<div>\n",
       "<style scoped>\n",
       "    .dataframe tbody tr th:only-of-type {\n",
       "        vertical-align: middle;\n",
       "    }\n",
       "\n",
       "    .dataframe tbody tr th {\n",
       "        vertical-align: top;\n",
       "    }\n",
       "\n",
       "    .dataframe thead th {\n",
       "        text-align: right;\n",
       "    }\n",
       "</style>\n",
       "<table border=\"1\" class=\"dataframe\">\n",
       "  <thead>\n",
       "    <tr style=\"text-align: right;\">\n",
       "      <th></th>\n",
       "      <th>id</th>\n",
       "      <th>ec</th>\n",
       "      <th>username</th>\n",
       "    </tr>\n",
       "  </thead>\n",
       "  <tbody>\n",
       "    <tr>\n",
       "      <th>1596</th>\n",
       "      <td>1597</td>\n",
       "      <td>0.576797</td>\n",
       "      <td>coldplay</td>\n",
       "    </tr>\n",
       "    <tr>\n",
       "      <th>6969</th>\n",
       "      <td>6970</td>\n",
       "      <td>0.397158</td>\n",
       "      <td>IDWantsColdplay</td>\n",
       "    </tr>\n",
       "    <tr>\n",
       "      <th>3090</th>\n",
       "      <td>3091</td>\n",
       "      <td>0.113896</td>\n",
       "      <td>missoriginalsix</td>\n",
       "    </tr>\n",
       "    <tr>\n",
       "      <th>1713</th>\n",
       "      <td>1714</td>\n",
       "      <td>0.111161</td>\n",
       "      <td>fnfj_</td>\n",
       "    </tr>\n",
       "    <tr>\n",
       "      <th>3820</th>\n",
       "      <td>3821</td>\n",
       "      <td>0.100109</td>\n",
       "      <td>rohitsebastiian</td>\n",
       "    </tr>\n",
       "    <tr>\n",
       "      <th>5703</th>\n",
       "      <td>5704</td>\n",
       "      <td>0.075965</td>\n",
       "      <td>coldplayxtra</td>\n",
       "    </tr>\n",
       "    <tr>\n",
       "      <th>2938</th>\n",
       "      <td>2939</td>\n",
       "      <td>0.074183</td>\n",
       "      <td>GRhs292374</td>\n",
       "    </tr>\n",
       "    <tr>\n",
       "      <th>4847</th>\n",
       "      <td>4848</td>\n",
       "      <td>0.068934</td>\n",
       "      <td>nasyaElpnt</td>\n",
       "    </tr>\n",
       "    <tr>\n",
       "      <th>2660</th>\n",
       "      <td>2661</td>\n",
       "      <td>0.065988</td>\n",
       "      <td>bulanaprilduarb</td>\n",
       "    </tr>\n",
       "    <tr>\n",
       "      <th>839</th>\n",
       "      <td>840</td>\n",
       "      <td>0.065332</td>\n",
       "      <td>jijunnnn</td>\n",
       "    </tr>\n",
       "  </tbody>\n",
       "</table>\n",
       "</div>"
      ],
      "text/plain": [
       "        id        ec         username\n",
       "1596  1597  0.576797         coldplay\n",
       "6969  6970  0.397158  IDWantsColdplay\n",
       "3090  3091  0.113896  missoriginalsix\n",
       "1713  1714  0.111161            fnfj_\n",
       "3820  3821  0.100109  rohitsebastiian\n",
       "5703  5704  0.075965     coldplayxtra\n",
       "2938  2939  0.074183       GRhs292374\n",
       "4847  4848  0.068934       nasyaElpnt\n",
       "2660  2661  0.065988  bulanaprilduarb\n",
       "839    840  0.065332         jijunnnn"
      ]
     },
     "execution_count": 47,
     "metadata": {},
     "output_type": "execute_result"
    }
   ],
   "source": [
    "ec_g.head(10)"
   ]
  },
  {
   "cell_type": "markdown",
   "metadata": {},
   "source": [
    "export hasil graph ke json"
   ]
  },
  {
   "cell_type": "code",
   "execution_count": 55,
   "metadata": {},
   "outputs": [],
   "source": [
    "export_json(nx.readwrite.json_graph.node_link_data(G), './out/output.json')"
   ]
  },
  {
   "cell_type": "markdown",
   "metadata": {},
   "source": [
    "custom function"
   ]
  },
  {
   "cell_type": "code",
   "execution_count": null,
   "metadata": {},
   "outputs": [],
   "source": [
    "def create_graph(edgelist:pd.DataFrame):\n",
    "  # temporary list\n",
    "  sources = list(set(edgelist.source))\n",
    "  targets = list(set(edgelist.target))\n",
    "  nodes = list(set(sources + targets))\n",
    "\n",
    "  # change names to id as primary\n",
    "  nodelist = pd.DataFrame(nodes).reset_index()\n",
    "  nodelist.columns = [\"id\", \"name\"]\n",
    "  nodelist[\"id\"] = np.arange(1, len(nodelist) + 1)\n",
    "\n",
    "  # mengambil id berdasarkan nama atau sebaliknya\n",
    "  node_dict = {k: v for k, v in zip(nodelist.name, nodelist.id)}\n",
    "  name_dict = {k: v for k, v in zip(nodelist.id, nodelist.name)}\n",
    "\n",
    "  # temporary variable\n",
    "  nodes = node_dict.keys()\n",
    "  node_ids = node_dict.values()\n",
    "  sources = [node_dict.get(s) for s in edgelist.source]\n",
    "  targets = [node_dict.get(s) for s in edgelist.target]\n",
    "  weights = [w for w in edgelist.weight]\n",
    "\n",
    "  # temporary list\n",
    "  edge_tuples = []\n",
    "  for s, t, w in zip(sources, targets, weights):\n",
    "      edge_tuples.append((s, t, w))\n",
    "      \n",
    "  G = nx.Graph()\n",
    "  G.add_nodes_from(list(node_ids))\n",
    "  G.add_weighted_edges_from(edge_tuples)\n",
    "  \n",
    "  groups = nx.algorithms.community.louvain_communities(G)\n",
    "  test_groups = dict()\n",
    "  for i, x in enumerate(groups):\n",
    "      for node in x:\n",
    "          test_groups[node] = i + 1\n",
    "  groups = pd.DataFrame(test_groups.items(), columns=[\"id\", \"groups\"]).sort_values(by=\"id\", ignore_index=True)\n",
    "  \n",
    "  nx.set_node_attributes(G, name=\"category\", values=groups[\"groups\"].to_dict())\n",
    "  nx.set_node_attributes(G, name=\"name\", values=name_dict)\n",
    "  degree = nx.algorithms.centrality.degree_centrality(G)\n",
    "  nx.set_node_attributes(G, name=\"degree\", values=degree)\n",
    "  betweenness = nx.algorithms.centrality.betweenness_centrality(G, weight=\"weight\")\n",
    "  nx.set_node_attributes(G, name=\"betweenness\", values=betweenness)\n",
    "  eigenvector = nx.algorithms.centrality.eigenvector_centrality_numpy(G, weight=\"weight\")\n",
    "  nx.set_node_attributes(G, name=\"eigenvector\", values=eigenvector)\n",
    "  \n",
    "  return {\n",
    "    \"Graph\": G,\n",
    "    \"degree\": degree,\n",
    "    \"betweenness\": betweenness,\n",
    "    \"eigenvector\": eigenvector\n",
    "  }"
   ]
  },
  {
   "cell_type": "markdown",
   "metadata": {},
   "source": [
    "## Mengambil hanya edge yang memiliki weight > 1"
   ]
  },
  {
   "cell_type": "code",
   "execution_count": 12,
   "metadata": {},
   "outputs": [],
   "source": [
    "edgelist_gt1 = edgelist[edgelist['weight'] > 1]"
   ]
  },
  {
   "cell_type": "code",
   "execution_count": 13,
   "metadata": {},
   "outputs": [],
   "source": [
    "G_gt1 = create_graph(edgelist_gt1)"
   ]
  },
  {
   "cell_type": "code",
   "execution_count": 30,
   "metadata": {},
   "outputs": [],
   "source": [
    "Graph_of_gt1:nx.DiGraph = G_gt1['Graph']"
   ]
  },
  {
   "cell_type": "code",
   "execution_count": 48,
   "metadata": {},
   "outputs": [],
   "source": [
    "dc_ggte1 = pd.DataFrame(G_gt1['degree'].items(), columns=['id', 'dc']).sort_values(by=\"dc\", ascending=False)\n",
    "dc_ggte1['username'] = dc_ggte1['id'].apply(lambda x: Graph_of_gt1.nodes.get(x)['name'])"
   ]
  },
  {
   "cell_type": "code",
   "execution_count": 49,
   "metadata": {},
   "outputs": [
    {
     "data": {
      "text/html": [
       "<div>\n",
       "<style scoped>\n",
       "    .dataframe tbody tr th:only-of-type {\n",
       "        vertical-align: middle;\n",
       "    }\n",
       "\n",
       "    .dataframe tbody tr th {\n",
       "        vertical-align: top;\n",
       "    }\n",
       "\n",
       "    .dataframe thead th {\n",
       "        text-align: right;\n",
       "    }\n",
       "</style>\n",
       "<table border=\"1\" class=\"dataframe\">\n",
       "  <thead>\n",
       "    <tr style=\"text-align: right;\">\n",
       "      <th></th>\n",
       "      <th>id</th>\n",
       "      <th>dc</th>\n",
       "      <th>username</th>\n",
       "    </tr>\n",
       "  </thead>\n",
       "  <tbody>\n",
       "    <tr>\n",
       "      <th>486</th>\n",
       "      <td>487</td>\n",
       "      <td>0.367816</td>\n",
       "      <td>coldplay</td>\n",
       "    </tr>\n",
       "    <tr>\n",
       "      <th>582</th>\n",
       "      <td>583</td>\n",
       "      <td>0.220033</td>\n",
       "      <td>IDWantsColdplay</td>\n",
       "    </tr>\n",
       "    <tr>\n",
       "      <th>201</th>\n",
       "      <td>202</td>\n",
       "      <td>0.027915</td>\n",
       "      <td>tanyakanrl</td>\n",
       "    </tr>\n",
       "    <tr>\n",
       "      <th>351</th>\n",
       "      <td>352</td>\n",
       "      <td>0.021346</td>\n",
       "      <td>idextratime</td>\n",
       "    </tr>\n",
       "    <tr>\n",
       "      <th>262</th>\n",
       "      <td>263</td>\n",
       "      <td>0.019704</td>\n",
       "      <td>BonnySidharta</td>\n",
       "    </tr>\n",
       "    <tr>\n",
       "      <th>68</th>\n",
       "      <td>69</td>\n",
       "      <td>0.018062</td>\n",
       "      <td>coldplayxtra</td>\n",
       "    </tr>\n",
       "    <tr>\n",
       "      <th>578</th>\n",
       "      <td>579</td>\n",
       "      <td>0.016420</td>\n",
       "      <td>coldplaying</td>\n",
       "    </tr>\n",
       "    <tr>\n",
       "      <th>185</th>\n",
       "      <td>186</td>\n",
       "      <td>0.016420</td>\n",
       "      <td>butikhnw</td>\n",
       "    </tr>\n",
       "    <tr>\n",
       "      <th>392</th>\n",
       "      <td>393</td>\n",
       "      <td>0.011494</td>\n",
       "      <td>ColdplayMsia</td>\n",
       "    </tr>\n",
       "    <tr>\n",
       "      <th>187</th>\n",
       "      <td>188</td>\n",
       "      <td>0.011494</td>\n",
       "      <td>westenthu</td>\n",
       "    </tr>\n",
       "  </tbody>\n",
       "</table>\n",
       "</div>"
      ],
      "text/plain": [
       "      id        dc         username\n",
       "486  487  0.367816         coldplay\n",
       "582  583  0.220033  IDWantsColdplay\n",
       "201  202  0.027915       tanyakanrl\n",
       "351  352  0.021346      idextratime\n",
       "262  263  0.019704    BonnySidharta\n",
       "68    69  0.018062     coldplayxtra\n",
       "578  579  0.016420      coldplaying\n",
       "185  186  0.016420         butikhnw\n",
       "392  393  0.011494     ColdplayMsia\n",
       "187  188  0.011494        westenthu"
      ]
     },
     "execution_count": 49,
     "metadata": {},
     "output_type": "execute_result"
    }
   ],
   "source": [
    "dc_ggte1.head(10)"
   ]
  },
  {
   "cell_type": "code",
   "execution_count": 50,
   "metadata": {},
   "outputs": [],
   "source": [
    "bc_ggte1 = pd.DataFrame(G_gt1['betweenness'].items(), columns=['id', 'bc']).sort_values(by=\"bc\", ascending=False)\n",
    "bc_ggte1['username'] = bc_ggte1['id'].apply(lambda x: Graph_of_gt1.nodes.get(x)['name'])"
   ]
  },
  {
   "cell_type": "code",
   "execution_count": 51,
   "metadata": {},
   "outputs": [
    {
     "data": {
      "text/html": [
       "<div>\n",
       "<style scoped>\n",
       "    .dataframe tbody tr th:only-of-type {\n",
       "        vertical-align: middle;\n",
       "    }\n",
       "\n",
       "    .dataframe tbody tr th {\n",
       "        vertical-align: top;\n",
       "    }\n",
       "\n",
       "    .dataframe thead th {\n",
       "        text-align: right;\n",
       "    }\n",
       "</style>\n",
       "<table border=\"1\" class=\"dataframe\">\n",
       "  <thead>\n",
       "    <tr style=\"text-align: right;\">\n",
       "      <th></th>\n",
       "      <th>id</th>\n",
       "      <th>bc</th>\n",
       "      <th>username</th>\n",
       "    </tr>\n",
       "  </thead>\n",
       "  <tbody>\n",
       "    <tr>\n",
       "      <th>486</th>\n",
       "      <td>487</td>\n",
       "      <td>0.185569</td>\n",
       "      <td>coldplay</td>\n",
       "    </tr>\n",
       "    <tr>\n",
       "      <th>582</th>\n",
       "      <td>583</td>\n",
       "      <td>0.044477</td>\n",
       "      <td>IDWantsColdplay</td>\n",
       "    </tr>\n",
       "    <tr>\n",
       "      <th>21</th>\n",
       "      <td>22</td>\n",
       "      <td>0.006179</td>\n",
       "      <td>Qasrinaa</td>\n",
       "    </tr>\n",
       "    <tr>\n",
       "      <th>394</th>\n",
       "      <td>395</td>\n",
       "      <td>0.003183</td>\n",
       "      <td>ewropp</td>\n",
       "    </tr>\n",
       "    <tr>\n",
       "      <th>391</th>\n",
       "      <td>392</td>\n",
       "      <td>0.003127</td>\n",
       "      <td>shiru_ka21</td>\n",
       "    </tr>\n",
       "    <tr>\n",
       "      <th>583</th>\n",
       "      <td>584</td>\n",
       "      <td>0.003127</td>\n",
       "      <td>itsyourbill</td>\n",
       "    </tr>\n",
       "    <tr>\n",
       "      <th>371</th>\n",
       "      <td>372</td>\n",
       "      <td>0.003127</td>\n",
       "      <td>gagituraiii</td>\n",
       "    </tr>\n",
       "    <tr>\n",
       "      <th>301</th>\n",
       "      <td>302</td>\n",
       "      <td>0.003127</td>\n",
       "      <td>vliffadam</td>\n",
       "    </tr>\n",
       "    <tr>\n",
       "      <th>576</th>\n",
       "      <td>577</td>\n",
       "      <td>0.003122</td>\n",
       "      <td>gadisoengoe</td>\n",
       "    </tr>\n",
       "    <tr>\n",
       "      <th>311</th>\n",
       "      <td>312</td>\n",
       "      <td>0.002339</td>\n",
       "      <td>herjunxt</td>\n",
       "    </tr>\n",
       "  </tbody>\n",
       "</table>\n",
       "</div>"
      ],
      "text/plain": [
       "      id        bc         username\n",
       "486  487  0.185569         coldplay\n",
       "582  583  0.044477  IDWantsColdplay\n",
       "21    22  0.006179         Qasrinaa\n",
       "394  395  0.003183           ewropp\n",
       "391  392  0.003127       shiru_ka21\n",
       "583  584  0.003127      itsyourbill\n",
       "371  372  0.003127      gagituraiii\n",
       "301  302  0.003127        vliffadam\n",
       "576  577  0.003122      gadisoengoe\n",
       "311  312  0.002339         herjunxt"
      ]
     },
     "execution_count": 51,
     "metadata": {},
     "output_type": "execute_result"
    }
   ],
   "source": [
    "bc_ggte1.head(10)"
   ]
  },
  {
   "cell_type": "code",
   "execution_count": 52,
   "metadata": {},
   "outputs": [],
   "source": [
    "ec_ggte1 = pd.DataFrame(G_gt1['eigenvector'].items(), columns=['id', 'ec']).sort_values(by=\"ec\", ascending=False)\n",
    "ec_ggte1['username'] = ec_ggte1['id'].apply(lambda x: Graph_of_gt1.nodes.get(x)['name'])"
   ]
  },
  {
   "cell_type": "code",
   "execution_count": 53,
   "metadata": {},
   "outputs": [
    {
     "data": {
      "text/html": [
       "<div>\n",
       "<style scoped>\n",
       "    .dataframe tbody tr th:only-of-type {\n",
       "        vertical-align: middle;\n",
       "    }\n",
       "\n",
       "    .dataframe tbody tr th {\n",
       "        vertical-align: top;\n",
       "    }\n",
       "\n",
       "    .dataframe thead th {\n",
       "        text-align: right;\n",
       "    }\n",
       "</style>\n",
       "<table border=\"1\" class=\"dataframe\">\n",
       "  <thead>\n",
       "    <tr style=\"text-align: right;\">\n",
       "      <th></th>\n",
       "      <th>id</th>\n",
       "      <th>ec</th>\n",
       "      <th>username</th>\n",
       "    </tr>\n",
       "  </thead>\n",
       "  <tbody>\n",
       "    <tr>\n",
       "      <th>486</th>\n",
       "      <td>487</td>\n",
       "      <td>0.577037</td>\n",
       "      <td>coldplay</td>\n",
       "    </tr>\n",
       "    <tr>\n",
       "      <th>582</th>\n",
       "      <td>583</td>\n",
       "      <td>0.450891</td>\n",
       "      <td>IDWantsColdplay</td>\n",
       "    </tr>\n",
       "    <tr>\n",
       "      <th>150</th>\n",
       "      <td>151</td>\n",
       "      <td>0.144361</td>\n",
       "      <td>missoriginalsix</td>\n",
       "    </tr>\n",
       "    <tr>\n",
       "      <th>25</th>\n",
       "      <td>26</td>\n",
       "      <td>0.142746</td>\n",
       "      <td>fnfj_</td>\n",
       "    </tr>\n",
       "    <tr>\n",
       "      <th>524</th>\n",
       "      <td>525</td>\n",
       "      <td>0.124934</td>\n",
       "      <td>rohitsebastiian</td>\n",
       "    </tr>\n",
       "    <tr>\n",
       "      <th>547</th>\n",
       "      <td>548</td>\n",
       "      <td>0.092870</td>\n",
       "      <td>GRhs292374</td>\n",
       "    </tr>\n",
       "    <tr>\n",
       "      <th>168</th>\n",
       "      <td>169</td>\n",
       "      <td>0.084515</td>\n",
       "      <td>nasyaElpnt</td>\n",
       "    </tr>\n",
       "    <tr>\n",
       "      <th>88</th>\n",
       "      <td>89</td>\n",
       "      <td>0.082401</td>\n",
       "      <td>bulanaprilduarb</td>\n",
       "    </tr>\n",
       "    <tr>\n",
       "      <th>511</th>\n",
       "      <td>512</td>\n",
       "      <td>0.081955</td>\n",
       "      <td>luvmatch4</td>\n",
       "    </tr>\n",
       "    <tr>\n",
       "      <th>366</th>\n",
       "      <td>367</td>\n",
       "      <td>0.081569</td>\n",
       "      <td>pnksbbs</td>\n",
       "    </tr>\n",
       "  </tbody>\n",
       "</table>\n",
       "</div>"
      ],
      "text/plain": [
       "      id        ec         username\n",
       "486  487  0.577037         coldplay\n",
       "582  583  0.450891  IDWantsColdplay\n",
       "150  151  0.144361  missoriginalsix\n",
       "25    26  0.142746            fnfj_\n",
       "524  525  0.124934  rohitsebastiian\n",
       "547  548  0.092870       GRhs292374\n",
       "168  169  0.084515       nasyaElpnt\n",
       "88    89  0.082401  bulanaprilduarb\n",
       "511  512  0.081955        luvmatch4\n",
       "366  367  0.081569          pnksbbs"
      ]
     },
     "execution_count": 53,
     "metadata": {},
     "output_type": "execute_result"
    }
   ],
   "source": [
    "ec_ggte1.head(10)"
   ]
  },
  {
   "cell_type": "code",
   "execution_count": 57,
   "metadata": {},
   "outputs": [],
   "source": [
    "export_json(nx.readwrite.node_link_data(Graph_of_gt1), './out/output_gt1.json')"
   ]
  }
 ],
 "metadata": {
  "kernelspec": {
   "display_name": "skripsi",
   "language": "python",
   "name": "python3"
  },
  "language_info": {
   "codemirror_mode": {
    "name": "ipython",
    "version": 3
   },
   "file_extension": ".py",
   "mimetype": "text/x-python",
   "name": "python",
   "nbconvert_exporter": "python",
   "pygments_lexer": "ipython3",
   "version": "3.11.5"
  }
 },
 "nbformat": 4,
 "nbformat_minor": 2
}
