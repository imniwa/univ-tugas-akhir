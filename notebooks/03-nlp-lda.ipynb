{
 "cells": [
  {
   "cell_type": "markdown",
   "metadata": {},
   "source": [
    "# Latent Dirichlet Allocation"
   ]
  },
  {
   "cell_type": "code",
   "execution_count": 1,
   "metadata": {},
   "outputs": [],
   "source": [
    "from sklearn.feature_extraction.text import TfidfVectorizer\n",
    "from sklearn.decomposition import LatentDirichletAllocation as LDA\n",
    "from ast import literal_eval\n",
    "\n",
    "import pandas as pd\n",
    "import numpy as np\n",
    "import json"
   ]
  },
  {
   "cell_type": "code",
   "execution_count": 2,
   "metadata": {},
   "outputs": [],
   "source": [
    "data = pd.read_csv('../out/01-preprocessing.tsv', sep='\\t')\n",
    "data = data[['raw_content', 'username', 'mention', 'cleaned_content']]\n",
    "data['mention'] = data['mention'].apply(literal_eval)"
   ]
  },
  {
   "cell_type": "code",
   "execution_count": 3,
   "metadata": {},
   "outputs": [],
   "source": [
    "def extract_topic(tfidf_input, num_topics = 1, num_top_words = 20):\n",
    "    tfidf_vectorizer = TfidfVectorizer()\n",
    "    tfidf_matrix = tfidf_vectorizer.fit_transform(tfidf_input)\n",
    "    lda_model = LDA(n_components=num_topics, random_state=48)\n",
    "    lda_model.fit(tfidf_matrix)\n",
    "    \n",
    "    feature_names = tfidf_vectorizer.get_feature_names_out()\n",
    "\n",
    "    extracted_topics = []\n",
    "    for topic_idx, topic in enumerate(lda_model.components_):\n",
    "        extracted_topics = [feature_names[i] for i in topic.argsort()[:-num_top_words - 1:-1]]\n",
    "    \n",
    "    return extracted_topics"
   ]
  },
  {
   "cell_type": "code",
   "execution_count": 4,
   "metadata": {},
   "outputs": [],
   "source": [
    "data_by_mention = data.explode('mention').reset_index(drop=True).copy(deep=True)"
   ]
  },
  {
   "cell_type": "code",
   "execution_count": 5,
   "metadata": {},
   "outputs": [],
   "source": [
    "data_output = {}"
   ]
  },
  {
   "cell_type": "code",
   "execution_count": 6,
   "metadata": {},
   "outputs": [],
   "source": [
    "for mention, df in data_by_mention.groupby(by='mention'):\n",
    "    # if len(df) == 1:\n",
    "    #     continue\n",
    "    content = list(df['cleaned_content'].apply(literal_eval))\n",
    "    mentioned = list(df['username'])\n",
    "    raw_content = list(df['raw_content'])\n",
    "    \n",
    "    tfidf_input = [\" \".join(c) for c in content]\n",
    "    topic = extract_topic(tfidf_input)\n",
    "    \n",
    "    data_output[mention.lower()] = {\n",
    "        'topic': topic,\n",
    "        'source': [{\n",
    "            'username': m.lower(),\n",
    "            'content': c\n",
    "        } for m, c in zip(mentioned, raw_content)]\n",
    "    }"
   ]
  },
  {
   "cell_type": "code",
   "execution_count": 7,
   "metadata": {},
   "outputs": [],
   "source": [
    "for username, df in data.groupby(by='username'):\n",
    "    # if len(df) == 1:\n",
    "    #     continue\n",
    "    content = list(df['cleaned_content'].apply(literal_eval))\n",
    "    mention = list(df['mention'])\n",
    "    raw_content = list(df['raw_content'])\n",
    "    \n",
    "    tfidf_input = [\" \".join(c) for c in content]\n",
    "    topic = extract_topic(tfidf_input)\n",
    "    \n",
    "    data_output[username.lower()] = {\n",
    "        'topic': topic,\n",
    "        'source': [{\n",
    "            'username': username.lower(),\n",
    "            'content': c\n",
    "        } for m, c in zip(mention, raw_content)]\n",
    "    }\n",
    "    "
   ]
  },
  {
   "cell_type": "code",
   "execution_count": 14,
   "metadata": {},
   "outputs": [],
   "source": [
    "output = {\n",
    "    'data': [{'username': k, 'topic': v['topic'], 'source': v['source']} for k, v in data_output.items()]\n",
    "}"
   ]
  },
  {
   "cell_type": "code",
   "execution_count": 15,
   "metadata": {},
   "outputs": [],
   "source": [
    "with open('../out/02-lda.json', 'w') as f:\n",
    "    json.dump(output, f, indent=4)"
   ]
  }
 ],
 "metadata": {
  "kernelspec": {
   "display_name": "research-3.10",
   "language": "python",
   "name": "python3"
  },
  "language_info": {
   "codemirror_mode": {
    "name": "ipython",
    "version": 3
   },
   "file_extension": ".py",
   "mimetype": "text/x-python",
   "name": "python",
   "nbconvert_exporter": "python",
   "pygments_lexer": "ipython3",
   "version": "3.10.14"
  }
 },
 "nbformat": 4,
 "nbformat_minor": 2
}
