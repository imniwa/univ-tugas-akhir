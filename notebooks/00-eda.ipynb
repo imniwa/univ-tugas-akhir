{
 "cells": [
  {
   "cell_type": "markdown",
   "metadata": {},
   "source": [
    "# Exploratory Data Analysis\n"
   ]
  },
  {
   "cell_type": "markdown",
   "metadata": {},
   "source": [
    "pada bagian ini dilakukan tahapan explorasi data untuk memahami karakteristik data, struktur, pola yang terdapat dalam data."
   ]
  },
  {
   "cell_type": "code",
   "execution_count": 1,
   "metadata": {},
   "outputs": [],
   "source": [
    "# beberapa library dasar untuk melakukan explorasi data\n",
    "import pandas as pd\n",
    "import matplotlib.pyplot as plt\n",
    "import datetime as dt\n",
    "import re, os"
   ]
  },
  {
   "cell_type": "markdown",
   "metadata": {},
   "source": [
    "## Read and Exploration\n",
    "\n",
    "mengambil sampel data dan memahami karakteristik data"
   ]
  },
  {
   "cell_type": "code",
   "execution_count": 7,
   "metadata": {},
   "outputs": [
    {
     "name": "stdout",
     "output_type": "stream",
     "text": [
      "<class 'pandas.core.frame.DataFrame'>\n",
      "RangeIndex: 20895 entries, 0 to 20894\n",
      "Data columns (total 4 columns):\n",
      " #   Column              Non-Null Count  Dtype \n",
      "---  ------              --------------  ----- \n",
      " 0   content             20895 non-null  object\n",
      " 1   username            20895 non-null  object\n",
      " 2   tweet_published_at  20895 non-null  object\n",
      " 3   type                20895 non-null  object\n",
      "dtypes: object(4)\n",
      "memory usage: 653.1+ KB\n"
     ]
    }
   ],
   "source": [
    "data = pd.read_csv('../data/raw.csv')\n",
    "data.info()"
   ]
  },
  {
   "cell_type": "code",
   "execution_count": 6,
   "metadata": {},
   "outputs": [
    {
     "data": {
      "text/html": [
       "<div>\n",
       "<style scoped>\n",
       "    .dataframe tbody tr th:only-of-type {\n",
       "        vertical-align: middle;\n",
       "    }\n",
       "\n",
       "    .dataframe tbody tr th {\n",
       "        vertical-align: top;\n",
       "    }\n",
       "\n",
       "    .dataframe thead th {\n",
       "        text-align: right;\n",
       "    }\n",
       "</style>\n",
       "<table border=\"1\" class=\"dataframe\">\n",
       "  <thead>\n",
       "    <tr style=\"text-align: right;\">\n",
       "      <th></th>\n",
       "      <th>content</th>\n",
       "      <th>username</th>\n",
       "      <th>tweet_published_at</th>\n",
       "      <th>type</th>\n",
       "    </tr>\n",
       "  </thead>\n",
       "  <tbody>\n",
       "    <tr>\n",
       "      <th>0</th>\n",
       "      <td>ini serius Coldplay mau konser di Indo?</td>\n",
       "      <td>fahmiach_</td>\n",
       "      <td>2023-05-02 06:43:55+07</td>\n",
       "      <td>tweet</td>\n",
       "    </tr>\n",
       "    <tr>\n",
       "      <th>1</th>\n",
       "      <td>Gak sabar nonton coldplay 🥹🥲 @woootamelon semo...</td>\n",
       "      <td>LSuroyaa</td>\n",
       "      <td>2023-05-02 06:42:14+07</td>\n",
       "      <td>tweet</td>\n",
       "    </tr>\n",
       "    <tr>\n",
       "      <th>2</th>\n",
       "      <td>Kayak 50% masih nangisin ten, 25% kepikiran tx...</td>\n",
       "      <td>chittenyawn</td>\n",
       "      <td>2023-05-02 06:29:04+07</td>\n",
       "      <td>tweet</td>\n",
       "    </tr>\n",
       "    <tr>\n",
       "      <th>3</th>\n",
       "      <td>Trus apa Coldplay ngerasa dia plagiat? Enggak....</td>\n",
       "      <td>lacvnna</td>\n",
       "      <td>2023-05-02 06:16:23+07</td>\n",
       "      <td>replied_to</td>\n",
       "    </tr>\n",
       "    <tr>\n",
       "      <th>4</th>\n",
       "      <td>coldplay ke indonesia cmn 1x yang mo b nntn kr...</td>\n",
       "      <td>rialdi_achmad</td>\n",
       "      <td>2023-05-11 19:36:52+07</td>\n",
       "      <td>tweet</td>\n",
       "    </tr>\n",
       "  </tbody>\n",
       "</table>\n",
       "</div>"
      ],
      "text/plain": [
       "                                             content       username  \\\n",
       "0            ini serius Coldplay mau konser di Indo?      fahmiach_   \n",
       "1  Gak sabar nonton coldplay 🥹🥲 @woootamelon semo...       LSuroyaa   \n",
       "2  Kayak 50% masih nangisin ten, 25% kepikiran tx...    chittenyawn   \n",
       "3  Trus apa Coldplay ngerasa dia plagiat? Enggak....        lacvnna   \n",
       "4  coldplay ke indonesia cmn 1x yang mo b nntn kr...  rialdi_achmad   \n",
       "\n",
       "       tweet_published_at        type  \n",
       "0  2023-05-02 06:43:55+07       tweet  \n",
       "1  2023-05-02 06:42:14+07       tweet  \n",
       "2  2023-05-02 06:29:04+07       tweet  \n",
       "3  2023-05-02 06:16:23+07  replied_to  \n",
       "4  2023-05-11 19:36:52+07       tweet  "
      ]
     },
     "execution_count": 6,
     "metadata": {},
     "output_type": "execute_result"
    }
   ],
   "source": [
    "data.head()"
   ]
  },
  {
   "cell_type": "code",
   "execution_count": 8,
   "metadata": {},
   "outputs": [
    {
     "data": {
      "text/plain": [
       "array(['tweet', 'replied_to', 'retweet'], dtype=object)"
      ]
     },
     "execution_count": 8,
     "metadata": {},
     "output_type": "execute_result"
    }
   ],
   "source": [
    "# mengambil sampel unique dari attribut type\n",
    "data['type'].unique()"
   ]
  },
  {
   "cell_type": "markdown",
   "metadata": {},
   "source": [
    "dari hasil tersebut kita dapat melihat bahwa `20895` baris data tanpa adanya missing value dan terdapat 4 attribut, diantaranya :\n",
    "- `content` -> isi content suatu tweet \n",
    "- `username` -> nama pengguna pembuat tweet\n",
    "- `tweet_published_at` -> kapan tweet tersebut diposting\n",
    "- `type` -> jenis tweet tersebut apakah murni tweet, atau sebuah tweet untuk menanggapi tweet lain, dan retweet dimana seorang pengguna memposting ulang suatu tweet"
   ]
  },
  {
   "cell_type": "code",
   "execution_count": 9,
   "metadata": {},
   "outputs": [
    {
     "data": {
      "image/png": "[encoded data removed]",
      "text/plain": [
       "<Figure size 640x480 with 1 Axes>"
      ]
     },
     "metadata": {},
     "output_type": "display_data"
    }
   ],
   "source": [
    "chart_labels = data['type'].unique()\n",
    "chart_size = [len(data[data['type'] == key]) for key in chart_labels]\n",
    "\n",
    "fig, ax = plt.subplots()\n",
    "ax.pie(chart_size, labels=chart_labels, autopct='%1.1f%%')\n",
    "plt.show()"
   ]
  },
  {
   "cell_type": "markdown",
   "metadata": {},
   "source": [
    "mencoba mengambil perbandingan jumlah data berdasarkan attribut type pada data. Dari pie chart tersebut terlihat bahwa mayoritas dari tweet tersebut merupakan tweet murni."
   ]
  },
  {
   "cell_type": "markdown",
   "metadata": {},
   "source": [
    "### Memfilter data berdasarkan tweet yang mengandung mention"
   ]
  },
  {
   "cell_type": "code",
   "execution_count": 10,
   "metadata": {},
   "outputs": [
    {
     "data": {
      "text/html": [
       "<div>\n",
       "<style scoped>\n",
       "    .dataframe tbody tr th:only-of-type {\n",
       "        vertical-align: middle;\n",
       "    }\n",
       "\n",
       "    .dataframe tbody tr th {\n",
       "        vertical-align: top;\n",
       "    }\n",
       "\n",
       "    .dataframe thead th {\n",
       "        text-align: right;\n",
       "    }\n",
       "</style>\n",
       "<table border=\"1\" class=\"dataframe\">\n",
       "  <thead>\n",
       "    <tr style=\"text-align: right;\">\n",
       "      <th></th>\n",
       "      <th>content</th>\n",
       "      <th>username</th>\n",
       "      <th>tweet_published_at</th>\n",
       "      <th>type</th>\n",
       "    </tr>\n",
       "  </thead>\n",
       "  <tbody>\n",
       "    <tr>\n",
       "      <th>1</th>\n",
       "      <td>Gak sabar nonton coldplay 🥹🥲 @woootamelon semo...</td>\n",
       "      <td>LSuroyaa</td>\n",
       "      <td>2023-05-02 06:42:14+07</td>\n",
       "      <td>tweet</td>\n",
       "    </tr>\n",
       "    <tr>\n",
       "      <th>25</th>\n",
       "      <td>@jn_jiu @mistamosby Ga suka coldplay 😭😭😭</td>\n",
       "      <td>COMRADE_SOLAR</td>\n",
       "      <td>2023-05-04 00:07:38+07</td>\n",
       "      <td>replied_to</td>\n",
       "    </tr>\n",
       "    <tr>\n",
       "      <th>29</th>\n",
       "      <td>Huhu ada lagiii, HALOOO @coldplay https://t.co...</td>\n",
       "      <td>bekstreettt</td>\n",
       "      <td>2023-05-05 12:46:14+07</td>\n",
       "      <td>replied_to</td>\n",
       "    </tr>\n",
       "    <tr>\n",
       "      <th>33</th>\n",
       "      <td>Salah satu tanda @coldplay ke Indonesia untuk ...</td>\n",
       "      <td>SeleccionINA</td>\n",
       "      <td>2023-05-07 10:42:19+07</td>\n",
       "      <td>tweet</td>\n",
       "    </tr>\n",
       "    <tr>\n",
       "      <th>38</th>\n",
       "      <td>@IDWantsColdplay @coldplay Bismillah menang wa...</td>\n",
       "      <td>finyjr</td>\n",
       "      <td>2023-05-08 23:02:38+07</td>\n",
       "      <td>replied_to</td>\n",
       "    </tr>\n",
       "    <tr>\n",
       "      <th>...</th>\n",
       "      <td>...</td>\n",
       "      <td>...</td>\n",
       "      <td>...</td>\n",
       "      <td>...</td>\n",
       "    </tr>\n",
       "    <tr>\n",
       "      <th>20877</th>\n",
       "      <td>@0tk0il man666 ots kenapa yah aku kalo denger ...</td>\n",
       "      <td>perdott_</td>\n",
       "      <td>2023-05-11 00:55:10+07</td>\n",
       "      <td>replied_to</td>\n",
       "    </tr>\n",
       "    <tr>\n",
       "      <th>20880</th>\n",
       "      <td>@kegblgnunfaedh Yakali ngga coldplay\\n\\nhttps:...</td>\n",
       "      <td>Ruangtummbuh</td>\n",
       "      <td>2023-05-11 00:54:42+07</td>\n",
       "      <td>replied_to</td>\n",
       "    </tr>\n",
       "    <tr>\n",
       "      <th>20883</th>\n",
       "      <td>@yfurip Beliin gue tiket coldplay buruan!!</td>\n",
       "      <td>titislukita</td>\n",
       "      <td>2023-05-11 00:53:05+07</td>\n",
       "      <td>replied_to</td>\n",
       "    </tr>\n",
       "    <tr>\n",
       "      <th>20884</th>\n",
       "      <td>@0tk0il wkwk menurut gue coldplay juga b aja, ...</td>\n",
       "      <td>Dwiky_Alfi</td>\n",
       "      <td>2023-05-11 00:52:51+07</td>\n",
       "      <td>replied_to</td>\n",
       "    </tr>\n",
       "    <tr>\n",
       "      <th>20894</th>\n",
       "      <td>@ILHAM_AVEIRO1 @vanry12 @0tk0il Beatles dengan...</td>\n",
       "      <td>yuhuaha</td>\n",
       "      <td>2023-05-11 00:51:10+07</td>\n",
       "      <td>replied_to</td>\n",
       "    </tr>\n",
       "  </tbody>\n",
       "</table>\n",
       "<p>5435 rows × 4 columns</p>\n",
       "</div>"
      ],
      "text/plain": [
       "                                                 content       username  \\\n",
       "1      Gak sabar nonton coldplay 🥹🥲 @woootamelon semo...       LSuroyaa   \n",
       "25              @jn_jiu @mistamosby Ga suka coldplay 😭😭😭  COMRADE_SOLAR   \n",
       "29     Huhu ada lagiii, HALOOO @coldplay https://t.co...    bekstreettt   \n",
       "33     Salah satu tanda @coldplay ke Indonesia untuk ...   SeleccionINA   \n",
       "38     @IDWantsColdplay @coldplay Bismillah menang wa...         finyjr   \n",
       "...                                                  ...            ...   \n",
       "20877  @0tk0il man666 ots kenapa yah aku kalo denger ...       perdott_   \n",
       "20880  @kegblgnunfaedh Yakali ngga coldplay\\n\\nhttps:...   Ruangtummbuh   \n",
       "20883         @yfurip Beliin gue tiket coldplay buruan!!    titislukita   \n",
       "20884  @0tk0il wkwk menurut gue coldplay juga b aja, ...     Dwiky_Alfi   \n",
       "20894  @ILHAM_AVEIRO1 @vanry12 @0tk0il Beatles dengan...        yuhuaha   \n",
       "\n",
       "           tweet_published_at        type  \n",
       "1      2023-05-02 06:42:14+07       tweet  \n",
       "25     2023-05-04 00:07:38+07  replied_to  \n",
       "29     2023-05-05 12:46:14+07  replied_to  \n",
       "33     2023-05-07 10:42:19+07       tweet  \n",
       "38     2023-05-08 23:02:38+07  replied_to  \n",
       "...                       ...         ...  \n",
       "20877  2023-05-11 00:55:10+07  replied_to  \n",
       "20880  2023-05-11 00:54:42+07  replied_to  \n",
       "20883  2023-05-11 00:53:05+07  replied_to  \n",
       "20884  2023-05-11 00:52:51+07  replied_to  \n",
       "20894  2023-05-11 00:51:10+07  replied_to  \n",
       "\n",
       "[5435 rows x 4 columns]"
      ]
     },
     "execution_count": 10,
     "metadata": {},
     "output_type": "execute_result"
    }
   ],
   "source": [
    "data_mention_only = data[data['content'].apply(lambda x: len(re.findall(r'(\\@\\w+)', x)) > 0)]\n",
    "data_mention_only"
   ]
  },
  {
   "cell_type": "markdown",
   "metadata": {},
   "source": [
    "setelah melakukan filter data untuk menampilkan data tweet yang mengandung mention didapati ternyata hanya ada `5435` baris data dari `20895` data sebelumnya"
   ]
  },
  {
   "cell_type": "code",
   "execution_count": 11,
   "metadata": {},
   "outputs": [
    {
     "name": "stdout",
     "output_type": "stream",
     "text": [
      "<class 'pandas.core.frame.DataFrame'>\n",
      "Index: 5435 entries, 1 to 20894\n",
      "Data columns (total 4 columns):\n",
      " #   Column              Non-Null Count  Dtype \n",
      "---  ------              --------------  ----- \n",
      " 0   content             5435 non-null   object\n",
      " 1   username            5435 non-null   object\n",
      " 2   tweet_published_at  5435 non-null   object\n",
      " 3   type                5435 non-null   object\n",
      "dtypes: object(4)\n",
      "memory usage: 212.3+ KB\n"
     ]
    }
   ],
   "source": [
    "data_mention_only.info()"
   ]
  },
  {
   "cell_type": "code",
   "execution_count": 12,
   "metadata": {},
   "outputs": [
    {
     "data": {
      "image/png": "[encoded data removed]",
      "text/plain": [
       "<Figure size 640x480 with 1 Axes>"
      ]
     },
     "metadata": {},
     "output_type": "display_data"
    }
   ],
   "source": [
    "chart_labels = data_mention_only['type'].unique()\n",
    "chart_size = [len(data_mention_only[data_mention_only['type'] == key]) for key in chart_labels]\n",
    "\n",
    "fig, ax = plt.subplots()\n",
    "ax.pie(chart_size, labels=chart_labels, autopct='%1.1f%%')\n",
    "plt.show()"
   ]
  },
  {
   "cell_type": "markdown",
   "metadata": {},
   "source": [
    "setelah dilakukan plotting menggunakan pie chart lagi terlihat bahwa sekarang mayoritas data berada pada jenis tweet `replied_to`. Dengan hanya mengambil data yang mengandung mention dapat mempercepat proses analisa jaringan sosial (SNA). karena tweet yang tidak melakukan mention terhadap pengguna lain dianggap sebagai komunikasi 1 arah, sedangkan dengan melakukan mention kita dapat berasumsi bahwa komunikasi yang dilakukan komunikasi 2 arah."
   ]
  },
  {
   "cell_type": "markdown",
   "metadata": {},
   "source": [
    "### User dengan tweet paling banyak\n",
    "mencoba mengambil data pengguna yang memiliki postingan terbanyak, dengan cara melakukan grouping data berdasarkan nama pengguna (username)."
   ]
  },
  {
   "cell_type": "code",
   "execution_count": 13,
   "metadata": {},
   "outputs": [],
   "source": [
    "count_tweets = []\n",
    "for username, data_group in data.groupby(by='username'):\n",
    "  count_tweets.append((username, len(data_group)))\n",
    "count_tweets = pd.DataFrame(count_tweets, columns=['username', 'count'])"
   ]
  },
  {
   "cell_type": "code",
   "execution_count": 14,
   "metadata": {},
   "outputs": [],
   "source": [
    "data_count_tweets = count_tweets.sort_values(by='count', ascending=False)[:10]"
   ]
  },
  {
   "cell_type": "code",
   "execution_count": 15,
   "metadata": {},
   "outputs": [
    {
     "data": {
      "text/html": [
       "<div>\n",
       "<style scoped>\n",
       "    .dataframe tbody tr th:only-of-type {\n",
       "        vertical-align: middle;\n",
       "    }\n",
       "\n",
       "    .dataframe tbody tr th {\n",
       "        vertical-align: top;\n",
       "    }\n",
       "\n",
       "    .dataframe thead th {\n",
       "        text-align: right;\n",
       "    }\n",
       "</style>\n",
       "<table border=\"1\" class=\"dataframe\">\n",
       "  <thead>\n",
       "    <tr style=\"text-align: right;\">\n",
       "      <th></th>\n",
       "      <th>username</th>\n",
       "      <th>count</th>\n",
       "    </tr>\n",
       "  </thead>\n",
       "  <tbody>\n",
       "    <tr>\n",
       "      <th>14463</th>\n",
       "      <td>tixseoulution</td>\n",
       "      <td>61</td>\n",
       "    </tr>\n",
       "    <tr>\n",
       "      <th>8670</th>\n",
       "      <td>jastiparfazah</td>\n",
       "      <td>39</td>\n",
       "    </tr>\n",
       "    <tr>\n",
       "      <th>15126</th>\n",
       "      <td>westenthu</td>\n",
       "      <td>35</td>\n",
       "    </tr>\n",
       "    <tr>\n",
       "      <th>1219</th>\n",
       "      <td>IDWantsColdplay</td>\n",
       "      <td>28</td>\n",
       "    </tr>\n",
       "    <tr>\n",
       "      <th>9233</th>\n",
       "      <td>kimminjqi</td>\n",
       "      <td>28</td>\n",
       "    </tr>\n",
       "    <tr>\n",
       "      <th>14541</th>\n",
       "      <td>tribunpontianak</td>\n",
       "      <td>26</td>\n",
       "    </tr>\n",
       "    <tr>\n",
       "      <th>15678</th>\n",
       "      <td>yukhematbareng</td>\n",
       "      <td>22</td>\n",
       "    </tr>\n",
       "    <tr>\n",
       "      <th>2063</th>\n",
       "      <td>Puspitaaaa__</td>\n",
       "      <td>21</td>\n",
       "    </tr>\n",
       "    <tr>\n",
       "      <th>4163</th>\n",
       "      <td>awloola</td>\n",
       "      <td>20</td>\n",
       "    </tr>\n",
       "    <tr>\n",
       "      <th>8297</th>\n",
       "      <td>infobaranglucuk</td>\n",
       "      <td>20</td>\n",
       "    </tr>\n",
       "  </tbody>\n",
       "</table>\n",
       "</div>"
      ],
      "text/plain": [
       "              username  count\n",
       "14463    tixseoulution     61\n",
       "8670     jastiparfazah     39\n",
       "15126        westenthu     35\n",
       "1219   IDWantsColdplay     28\n",
       "9233         kimminjqi     28\n",
       "14541  tribunpontianak     26\n",
       "15678   yukhematbareng     22\n",
       "2063      Puspitaaaa__     21\n",
       "4163           awloola     20\n",
       "8297   infobaranglucuk     20"
      ]
     },
     "execution_count": 15,
     "metadata": {},
     "output_type": "execute_result"
    }
   ],
   "source": [
    "data_count_tweets"
   ]
  },
  {
   "cell_type": "code",
   "execution_count": 16,
   "metadata": {},
   "outputs": [
    {
     "data": {
      "image/png": "[encoded data removed]",
      "text/plain": [
       "<Figure size 1800x500 with 1 Axes>"
      ]
     },
     "metadata": {},
     "output_type": "display_data"
    }
   ],
   "source": [
    "chart_labels = data_count_tweets['username'].to_numpy()\n",
    "chart_size = data_count_tweets['count'].to_numpy()\n",
    "\n",
    "plt.figure(figsize=(18,5))\n",
    "plt.bar(chart_labels, chart_size)\n",
    "plt.show()"
   ]
  },
  {
   "cell_type": "markdown",
   "metadata": {},
   "source": [
    "### Mengelompokan data berdasarkan tanggal\n",
    "karena terdapat attribut waktu, mari kita mencoba mengelompokan data berdasarkan bulan dan tahun untukmelihat persebaran tweet dilakukan di bulan apa."
   ]
  },
  {
   "cell_type": "code",
   "execution_count": 17,
   "metadata": {},
   "outputs": [],
   "source": [
    "data_bydate = data['tweet_published_at'].apply(lambda x: f\"{dt.datetime.fromisoformat(x).date().year}-{dt.datetime.fromisoformat(x).date().month}\")"
   ]
  },
  {
   "cell_type": "code",
   "execution_count": 18,
   "metadata": {},
   "outputs": [
    {
     "data": {
      "text/plain": [
       "array(['2023-5', '2023-4', '2023-3', '2023-6', '2021-7', '2022-10',\n",
       "       '2022-11', '2012-8', '2022-12', '2023-2', '2023-1', '2022-8',\n",
       "       '2022-4', '2022-7', '2021-5', '2022-3', '2010-12', '2020-1',\n",
       "       '2020-2', '2017-5', '2022-9', '2020-11', '2019-3', '2019-9'],\n",
       "      dtype=object)"
      ]
     },
     "execution_count": 18,
     "metadata": {},
     "output_type": "execute_result"
    }
   ],
   "source": [
    "data_bydate.unique()"
   ]
  },
  {
   "cell_type": "markdown",
   "metadata": {},
   "source": [
    "dari sini terlihat bahwa data ternyata ada selain di Q2 tahun 2023. mencoba mengambil data yang hanya berada di tahun 2023"
   ]
  },
  {
   "cell_type": "code",
   "execution_count": 19,
   "metadata": {},
   "outputs": [],
   "source": [
    "data_bydate = data_bydate[data_bydate.apply(lambda x: len(re.findall(r'2023-\\w+',x)) > 0)]\n",
    "chart_labels = data_bydate.apply(lambda x: str(x)).unique()\n",
    "chart_size = [len(data_bydate[data_bydate == x]) for x in chart_labels]"
   ]
  },
  {
   "cell_type": "code",
   "execution_count": 20,
   "metadata": {},
   "outputs": [
    {
     "data": {
      "image/png": "[encoded data removed]",
      "text/plain": [
       "<Figure size 1800x500 with 1 Axes>"
      ]
     },
     "metadata": {},
     "output_type": "display_data"
    }
   ],
   "source": [
    "plt.figure(figsize=(18,5))\n",
    "plt.bar(chart_labels, chart_size)\n",
    "plt.show()"
   ]
  },
  {
   "cell_type": "markdown",
   "metadata": {},
   "source": [
    "### Feature Extraction\n",
    "dari eksplorasi yang dilakukan diputuskan untuk mengambil data yang yang merupakan data tweet yang berada di tahun 2023 dan tweet yang mengandung mention pada contentnya."
   ]
  },
  {
   "cell_type": "code",
   "execution_count": 21,
   "metadata": {},
   "outputs": [],
   "source": [
    "data['date'] = data['tweet_published_at'].apply(lambda x: dt.datetime.fromisoformat(x).date())\n",
    "df = data[data['date'].apply(lambda x: len(re.findall(r'(2023-\\w+)', str(x))) > 0)]"
   ]
  },
  {
   "cell_type": "markdown",
   "metadata": {},
   "source": [
    "perbandingan jumlah setelah diambil hanya data tweet di tahun 2023"
   ]
  },
  {
   "cell_type": "code",
   "execution_count": 22,
   "metadata": {},
   "outputs": [
    {
     "data": {
      "text/plain": [
       "(20895, 20864)"
      ]
     },
     "execution_count": 22,
     "metadata": {},
     "output_type": "execute_result"
    }
   ],
   "source": [
    "len(data), len(df)"
   ]
  },
  {
   "cell_type": "code",
   "execution_count": 23,
   "metadata": {},
   "outputs": [
    {
     "data": {
      "text/plain": [
       "(15850, 15845)"
      ]
     },
     "execution_count": 23,
     "metadata": {},
     "output_type": "execute_result"
    }
   ],
   "source": [
    "len(data['username'].unique()), len(df['username'].unique())"
   ]
  },
  {
   "cell_type": "markdown",
   "metadata": {},
   "source": [
    "mengambil tweet yang hanya memiliki mention"
   ]
  },
  {
   "cell_type": "code",
   "execution_count": 24,
   "metadata": {},
   "outputs": [
    {
     "name": "stderr",
     "output_type": "stream",
     "text": [
      "/tmp/ipykernel_5113/1558286854.py:1: SettingWithCopyWarning: \n",
      "A value is trying to be set on a copy of a slice from a DataFrame.\n",
      "Try using .loc[row_indexer,col_indexer] = value instead\n",
      "\n",
      "See the caveats in the documentation: https://pandas.pydata.org/pandas-docs/stable/user_guide/indexing.html#returning-a-view-versus-a-copy\n",
      "  df['mentioned'] = df['content'].apply(lambda x: re.findall(r'(\\@\\w+)', x))\n"
     ]
    }
   ],
   "source": [
    "df['mentioned'] = df['content'].apply(lambda x: re.findall(r'(\\@\\w+)', x))"
   ]
  },
  {
   "cell_type": "code",
   "execution_count": 25,
   "metadata": {},
   "outputs": [],
   "source": [
    "df = df[df['mentioned'].apply(lambda x: len(x) > 0)]"
   ]
  },
  {
   "cell_type": "markdown",
   "metadata": {},
   "source": [
    "perbandingan tweet yang hanya memiliki mention"
   ]
  },
  {
   "cell_type": "code",
   "execution_count": 26,
   "metadata": {},
   "outputs": [
    {
     "data": {
      "text/plain": [
       "(20895, 5428)"
      ]
     },
     "execution_count": 26,
     "metadata": {},
     "output_type": "execute_result"
    }
   ],
   "source": [
    "len(data), len(df)"
   ]
  },
  {
   "cell_type": "code",
   "execution_count": 27,
   "metadata": {},
   "outputs": [
    {
     "data": {
      "text/plain": [
       "(15850, 4393)"
      ]
     },
     "execution_count": 27,
     "metadata": {},
     "output_type": "execute_result"
    }
   ],
   "source": [
    "len(data['username'].unique()), len(df['username'].unique())"
   ]
  },
  {
   "cell_type": "markdown",
   "metadata": {},
   "source": [
    "menggabungkan kedua filter"
   ]
  },
  {
   "cell_type": "code",
   "execution_count": 31,
   "metadata": {},
   "outputs": [
    {
     "data": {
      "text/html": [
       "<div>\n",
       "<style scoped>\n",
       "    .dataframe tbody tr th:only-of-type {\n",
       "        vertical-align: middle;\n",
       "    }\n",
       "\n",
       "    .dataframe tbody tr th {\n",
       "        vertical-align: top;\n",
       "    }\n",
       "\n",
       "    .dataframe thead th {\n",
       "        text-align: right;\n",
       "    }\n",
       "</style>\n",
       "<table border=\"1\" class=\"dataframe\">\n",
       "  <thead>\n",
       "    <tr style=\"text-align: right;\">\n",
       "      <th></th>\n",
       "      <th>content</th>\n",
       "      <th>username</th>\n",
       "      <th>tweet_published_at</th>\n",
       "      <th>type</th>\n",
       "    </tr>\n",
       "  </thead>\n",
       "  <tbody>\n",
       "    <tr>\n",
       "      <th>1</th>\n",
       "      <td>Gak sabar nonton coldplay 🥹🥲 @woootamelon semo...</td>\n",
       "      <td>LSuroyaa</td>\n",
       "      <td>2023-05-02 06:42:14+07</td>\n",
       "      <td>tweet</td>\n",
       "    </tr>\n",
       "    <tr>\n",
       "      <th>25</th>\n",
       "      <td>@jn_jiu @mistamosby Ga suka coldplay 😭😭😭</td>\n",
       "      <td>COMRADE_SOLAR</td>\n",
       "      <td>2023-05-04 00:07:38+07</td>\n",
       "      <td>replied_to</td>\n",
       "    </tr>\n",
       "    <tr>\n",
       "      <th>29</th>\n",
       "      <td>Huhu ada lagiii, HALOOO @coldplay https://t.co...</td>\n",
       "      <td>bekstreettt</td>\n",
       "      <td>2023-05-05 12:46:14+07</td>\n",
       "      <td>replied_to</td>\n",
       "    </tr>\n",
       "    <tr>\n",
       "      <th>33</th>\n",
       "      <td>Salah satu tanda @coldplay ke Indonesia untuk ...</td>\n",
       "      <td>SeleccionINA</td>\n",
       "      <td>2023-05-07 10:42:19+07</td>\n",
       "      <td>tweet</td>\n",
       "    </tr>\n",
       "    <tr>\n",
       "      <th>38</th>\n",
       "      <td>@IDWantsColdplay @coldplay Bismillah menang wa...</td>\n",
       "      <td>finyjr</td>\n",
       "      <td>2023-05-08 23:02:38+07</td>\n",
       "      <td>replied_to</td>\n",
       "    </tr>\n",
       "    <tr>\n",
       "      <th>...</th>\n",
       "      <td>...</td>\n",
       "      <td>...</td>\n",
       "      <td>...</td>\n",
       "      <td>...</td>\n",
       "    </tr>\n",
       "    <tr>\n",
       "      <th>20877</th>\n",
       "      <td>@0tk0il man666 ots kenapa yah aku kalo denger ...</td>\n",
       "      <td>perdott_</td>\n",
       "      <td>2023-05-11 00:55:10+07</td>\n",
       "      <td>replied_to</td>\n",
       "    </tr>\n",
       "    <tr>\n",
       "      <th>20880</th>\n",
       "      <td>@kegblgnunfaedh Yakali ngga coldplay\\n\\nhttps:...</td>\n",
       "      <td>Ruangtummbuh</td>\n",
       "      <td>2023-05-11 00:54:42+07</td>\n",
       "      <td>replied_to</td>\n",
       "    </tr>\n",
       "    <tr>\n",
       "      <th>20883</th>\n",
       "      <td>@yfurip Beliin gue tiket coldplay buruan!!</td>\n",
       "      <td>titislukita</td>\n",
       "      <td>2023-05-11 00:53:05+07</td>\n",
       "      <td>replied_to</td>\n",
       "    </tr>\n",
       "    <tr>\n",
       "      <th>20884</th>\n",
       "      <td>@0tk0il wkwk menurut gue coldplay juga b aja, ...</td>\n",
       "      <td>Dwiky_Alfi</td>\n",
       "      <td>2023-05-11 00:52:51+07</td>\n",
       "      <td>replied_to</td>\n",
       "    </tr>\n",
       "    <tr>\n",
       "      <th>20894</th>\n",
       "      <td>@ILHAM_AVEIRO1 @vanry12 @0tk0il Beatles dengan...</td>\n",
       "      <td>yuhuaha</td>\n",
       "      <td>2023-05-11 00:51:10+07</td>\n",
       "      <td>replied_to</td>\n",
       "    </tr>\n",
       "  </tbody>\n",
       "</table>\n",
       "<p>5428 rows × 4 columns</p>\n",
       "</div>"
      ],
      "text/plain": [
       "                                                 content       username  \\\n",
       "1      Gak sabar nonton coldplay 🥹🥲 @woootamelon semo...       LSuroyaa   \n",
       "25              @jn_jiu @mistamosby Ga suka coldplay 😭😭😭  COMRADE_SOLAR   \n",
       "29     Huhu ada lagiii, HALOOO @coldplay https://t.co...    bekstreettt   \n",
       "33     Salah satu tanda @coldplay ke Indonesia untuk ...   SeleccionINA   \n",
       "38     @IDWantsColdplay @coldplay Bismillah menang wa...         finyjr   \n",
       "...                                                  ...            ...   \n",
       "20877  @0tk0il man666 ots kenapa yah aku kalo denger ...       perdott_   \n",
       "20880  @kegblgnunfaedh Yakali ngga coldplay\\n\\nhttps:...   Ruangtummbuh   \n",
       "20883         @yfurip Beliin gue tiket coldplay buruan!!    titislukita   \n",
       "20884  @0tk0il wkwk menurut gue coldplay juga b aja, ...     Dwiky_Alfi   \n",
       "20894  @ILHAM_AVEIRO1 @vanry12 @0tk0il Beatles dengan...        yuhuaha   \n",
       "\n",
       "           tweet_published_at        type  \n",
       "1      2023-05-02 06:42:14+07       tweet  \n",
       "25     2023-05-04 00:07:38+07  replied_to  \n",
       "29     2023-05-05 12:46:14+07  replied_to  \n",
       "33     2023-05-07 10:42:19+07       tweet  \n",
       "38     2023-05-08 23:02:38+07  replied_to  \n",
       "...                       ...         ...  \n",
       "20877  2023-05-11 00:55:10+07  replied_to  \n",
       "20880  2023-05-11 00:54:42+07  replied_to  \n",
       "20883  2023-05-11 00:53:05+07  replied_to  \n",
       "20884  2023-05-11 00:52:51+07  replied_to  \n",
       "20894  2023-05-11 00:51:10+07  replied_to  \n",
       "\n",
       "[5428 rows x 4 columns]"
      ]
     },
     "execution_count": 31,
     "metadata": {},
     "output_type": "execute_result"
    }
   ],
   "source": [
    "df = data_mention_only[data_mention_only['tweet_published_at'].apply(lambda x: len(re.findall(r'(2023-\\w+)', str(dt.datetime.fromisoformat(x).date()))) > 0)]\n",
    "df"
   ]
  },
  {
   "cell_type": "markdown",
   "metadata": {},
   "source": [
    "setelah data selesai dilakukan explorasi data dan feature extraction selanjutnya data akan diexport untuk dilakukan ke tahap berikutnya"
   ]
  },
  {
   "cell_type": "code",
   "execution_count": 33,
   "metadata": {},
   "outputs": [],
   "source": [
    "df.to_csv(\"../out/00-result-eda.tsv\", index=False, sep=\"\\t\")"
   ]
  }
 ],
 "metadata": {
  "kernelspec": {
   "display_name": "skripsi",
   "language": "python",
   "name": "python3"
  },
  "language_info": {
   "codemirror_mode": {
    "name": "ipython",
    "version": 3
   },
   "file_extension": ".py",
   "mimetype": "text/x-python",
   "name": "python",
   "nbconvert_exporter": "python",
   "pygments_lexer": "ipython3",
   "version": "3.10.14"
  }
 },
 "nbformat": 4,
 "nbformat_minor": 2
}
