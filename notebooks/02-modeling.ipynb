{
 "cells": [
  {
   "cell_type": "markdown",
   "metadata": {},
   "source": [
    "# Membuat model jaringan (graph)\n",
    "pada tahapan ini dilakukan pembuatan jaringan dengan menggunakan attribut `username` dan `mentioned`.\n",
    "setiap baris data akan memiliki `username` namun pada `mentioned` bisa terdapat lebih dari 1 username.\n",
    "example:\n",
    "```json\n",
    "{\n",
    "    \"username\": \"kurniawan\",\n",
    "    \"mentioned\": [\"niwa\", \"ronaldi\", \"purnama\"]\n",
    "}\n",
    "```\n",
    "dari contoh data tersebut maka terdapat 3 `edges` yang dapat dihasilkan\n",
    "```json\n",
    "{\n",
    "    \"edges\": [{\n",
    "        \"source\": \"kurniawan\",\n",
    "        \"target\": \"niwa\"\n",
    "    },{\n",
    "        \"source\": \"kurniawan\",\n",
    "        \"target\": \"ronaldi\"\n",
    "    },{\n",
    "        \"source\": \"kurniawan\",\n",
    "        \"target\": \"purnama\n",
    "    }]\n",
    "}\n",
    "```"
   ]
  },
  {
   "cell_type": "code",
   "execution_count": 8,
   "metadata": {},
   "outputs": [],
   "source": [
    "# import library yang digunakan\n",
    "import pandas as pd\n",
    "import networkx as nx\n",
    "import json\n",
    "\n",
    "# untuk memperbaiki array yang dianggap sebagai str\n",
    "from ast import literal_eval"
   ]
  },
  {
   "cell_type": "markdown",
   "metadata": {},
   "source": [
    "#### Membaca data dari proses sebelumnya\n",
    "pada tahapan ini hanya mengambil attribut `username` dan `mentioned`"
   ]
  },
  {
   "cell_type": "code",
   "execution_count": 3,
   "metadata": {},
   "outputs": [
    {
     "name": "stdout",
     "output_type": "stream",
     "text": [
      "<class 'pandas.core.frame.DataFrame'>\n",
      "RangeIndex: 5428 entries, 0 to 5427\n",
      "Data columns (total 6 columns):\n",
      " #   Column              Non-Null Count  Dtype \n",
      "---  ------              --------------  ----- \n",
      " 0   raw_content         5428 non-null   object\n",
      " 1   username            5428 non-null   object\n",
      " 2   tweet_published_at  5428 non-null   object\n",
      " 3   type                5428 non-null   object\n",
      " 4   cleaned_content     5428 non-null   object\n",
      " 5   mentioned           5428 non-null   object\n",
      "dtypes: object(6)\n",
      "memory usage: 254.6+ KB\n"
     ]
    }
   ],
   "source": [
    "data = pd.read_csv(\"../out/01-preprocessing.tsv\", sep=\"\\t\")\n",
    "data.info()"
   ]
  },
  {
   "cell_type": "markdown",
   "metadata": {},
   "source": [
    "## Membuat Graph"
   ]
  },
  {
   "cell_type": "code",
   "execution_count": 4,
   "metadata": {},
   "outputs": [],
   "source": [
    "G = nx.DiGraph()"
   ]
  },
  {
   "cell_type": "code",
   "execution_count": 5,
   "metadata": {},
   "outputs": [],
   "source": [
    "for x in data[['username', 'mentioned']].iloc:\n",
    "    source = x.username\n",
    "    for target in literal_eval(x.mentioned):\n",
    "        if G.has_edge(source, target):\n",
    "            G[source][target]['weight'] += 1\n",
    "        else:\n",
    "            G.add_edge(source, target, weight=1)"
   ]
  },
  {
   "cell_type": "markdown",
   "metadata": {},
   "source": [
    "mengexport graph ke dalam bentuk `.gexf` dan `.json`"
   ]
  },
  {
   "cell_type": "code",
   "execution_count": 7,
   "metadata": {},
   "outputs": [],
   "source": [
    "nx.write_gexf(G, \"../out/02-network.gexf\")"
   ]
  },
  {
   "cell_type": "code",
   "execution_count": 9,
   "metadata": {},
   "outputs": [],
   "source": [
    "with open(\"../out/02-network.json\", \"w\") as f:\n",
    "    json.dump(nx.node_link_data(G), f)"
   ]
  },
  {
   "cell_type": "markdown",
   "metadata": {},
   "source": [
    "# Membuat model Latent Dirichlet Allocation"
   ]
  }
 ],
 "metadata": {
  "kernelspec": {
   "display_name": "research",
   "language": "python",
   "name": "python3"
  },
  "language_info": {
   "codemirror_mode": {
    "name": "ipython",
    "version": 3
   },
   "file_extension": ".py",
   "mimetype": "text/x-python",
   "name": "python",
   "nbconvert_exporter": "python",
   "pygments_lexer": "ipython3",
   "version": "3.12.3"
  }
 },
 "nbformat": 4,
 "nbformat_minor": 2
}
