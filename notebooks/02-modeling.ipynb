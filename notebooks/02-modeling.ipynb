{
 "cells": [
  {
   "cell_type": "markdown",
   "metadata": {},
   "source": [
    "# Membuat model jaringan (graph)\n",
    "pada tahapan ini dilakukan pembuatan jaringan dengan menggunakan attribut `username` dan `mention`.\n",
    "setiap baris data akan memiliki `username` namun pada `mention` bisa terdapat lebih dari 1 username.\n",
    "example:\n",
    "```json\n",
    "{\n",
    "    \"username\": \"kurniawan\",\n",
    "    \"mention\": [\"niwa\", \"ronaldi\", \"purnama\"]\n",
    "}\n",
    "```\n",
    "dari contoh data tersebut maka terdapat 3 `edges` yang dapat dihasilkan\n",
    "```json\n",
    "{\n",
    "    \"edges\": [{\n",
    "        \"source\": \"kurniawan\",\n",
    "        \"target\": \"niwa\"\n",
    "    },{\n",
    "        \"source\": \"kurniawan\",\n",
    "        \"target\": \"ronaldi\"\n",
    "    },{\n",
    "        \"source\": \"kurniawan\",\n",
    "        \"target\": \"purnama\n",
    "    }]\n",
    "}\n",
    "```"
   ]
  },
  {
   "cell_type": "code",
   "execution_count": 1,
   "metadata": {},
   "outputs": [],
   "source": [
    "# import library yang digunakan\n",
    "import pandas as pd\n",
    "import networkx as nx\n",
    "import numpy as np\n",
    "import json\n",
    "\n",
    "# untuk memperbaiki array yang dianggap sebagai str\n",
    "from ast import literal_eval"
   ]
  },
  {
   "cell_type": "markdown",
   "metadata": {},
   "source": [
    "#### Membaca data dari proses sebelumnya\n",
    "pada tahapan ini hanya mengambil attribut `username` dan `mention`"
   ]
  },
  {
   "cell_type": "code",
   "execution_count": 2,
   "metadata": {},
   "outputs": [
    {
     "name": "stdout",
     "output_type": "stream",
     "text": [
      "<class 'pandas.core.frame.DataFrame'>\n",
      "RangeIndex: 5428 entries, 0 to 5427\n",
      "Data columns (total 6 columns):\n",
      " #   Column              Non-Null Count  Dtype \n",
      "---  ------              --------------  ----- \n",
      " 0   raw_content         5428 non-null   object\n",
      " 1   username            5428 non-null   object\n",
      " 2   tweet_published_at  5428 non-null   object\n",
      " 3   type                5428 non-null   object\n",
      " 4   cleaned_content     5428 non-null   object\n",
      " 5   mention             5428 non-null   object\n",
      "dtypes: object(6)\n",
      "memory usage: 254.6+ KB\n"
     ]
    }
   ],
   "source": [
    "data = pd.read_csv(\"../out/01-preprocessing.tsv\", sep=\"\\t\")\n",
    "data.info()"
   ]
  },
  {
   "cell_type": "markdown",
   "metadata": {},
   "source": [
    "## Membuat Graph"
   ]
  },
  {
   "cell_type": "code",
   "execution_count": 3,
   "metadata": {},
   "outputs": [],
   "source": [
    "G = nx.DiGraph()"
   ]
  },
  {
   "cell_type": "code",
   "execution_count": 4,
   "metadata": {},
   "outputs": [],
   "source": [
    "for x in data[['username', 'mention']][:1000].iloc:\n",
    "    source = x.username\n",
    "    for target in literal_eval(x.mention):\n",
    "        if G.has_edge(source, target):\n",
    "            G[source][target]['weight'] += 1\n",
    "        else:\n",
    "            G.add_edge(source, target, weight=1)"
   ]
  },
  {
   "cell_type": "code",
   "execution_count": 5,
   "metadata": {},
   "outputs": [
    {
     "data": {
      "text/plain": [
       "OutEdgeView([('LSuroyaa', 'woootamelon'), ('COMRADE_SOLAR', 'jn_jiu'), ('COMRADE_SOLAR', 'mistamosby'), ('jn_jiu', 'COMRADE_SOLAR'), ('jn_jiu', 'mistamosby'), ('bekstreettt', 'coldplay'), ('coldplay', 'rrzzaa__'), ('coldplay', 'IDWantsColdplay'), ('coldplay', 'thepauldugdale'), ('SeleccionINA', 'coldplay'), ('finyjr', 'IDWantsColdplay'), ('finyjr', 'coldplay'), ('IDWantsColdplay', 'coldplay'), ('IDWantsColdplay', 'CGV_ID'), ('IDWantsColdplay', 'cinepolisID'), ('IDWantsColdplay', 'alienradiofm'), ('Mommyshark1717', '_titaamelia'), ('buddykuofficial', 'jakartakonser'), ('leisbedumb', 'hrdbacot'), ('nciNINGIE', 'COLDEpikmi'), ('nciNINGIE', 'THVpikmi'), ('syarif_acil', 'bankbsi_id'), ('denanfalah', 'windyaqma'), ('pemudalincah', 'pinchipowww'), ('paparazilicous', 'IDWantsColdplay'), ('paparazilicous', 'coldplay'), ('arzenaers', 'ronyjrk'), ('arzenaers', 'Frimawan'), ('anggriawwan', 'astydewi'), ('anggriawwan', 'roshiro_'), ('rrex_xona', 'buahnanaaas'), ('msyanandaa', 'gisellmaf'), ('Dhikalicious', 'GOAL_ID'), ('GOAL_ID', 'gastonedul'), ('susanucan', 'shidqihooligan'), ('riscowahyudii', 'pendakilawas'), ('nayelpotatoes', 'PeoplePlues62'), ('nayelpotatoes', 'rakasurya1806_'), ('nayelpotatoes', 'GOAL_ID'), ('monorahab', 'komikazer'), ('Lalapolala__', 'txtdrpengusaha'), ('tifaarqi', 'txtdrpengusaha'), ('AdyasariReina', 'txtdrpengusaha'), ('ulfiabasry', 'txtdrpengusaha'), ('nurfayaalfa', 'txtdrpengusaha'), ('ilangwe', 'lunarrmagic'), ('pabloestafet', 'Maharannys'), ('FallennnnS', 'gimmeursweater'), ('ekoesetiawan11', 'adeliaerlina'), ('Sego_karak13', 'coldplay'), ('adammmsan', 'kixtchen'), ('iamshrkhd', 'cisiasf'), ('Thesinnerishere', 'kazenoshippo'), ('Thesinnerishere', 'txtfrombrand'), ('dimasadan_', 'Indomieaceh4'), ('masihnooob', 'ssefnum'), ('JoeArifiando92', 'MafiaWasit'), ('hkml07_', 'syahiraa27'), ('babeyaga_', 'rickjaa_'), ('rizaldiabdilah', 'coldplay'), ('marcellinaape', 'radenrauf'), ('xamperinn', 'bctpsj'), ('jezziejel', 'pendakilawas'), ('sungoldhin', 'pendakilawas'), ('arifnrokhman', 'gadisoengoe'), ('arifnrokhman', 'coldplay'), ('arifnrokhman', 'mangyayi'), ('gadisoengoe', 'arifnrokhman'), ('gadisoengoe', 'coldplay'), ('rhxans', 'pendakilawas'), ('malkaleegra', 'brookllyne'), ('malkaleegra', 'laceblux'), ('malkaleegra', 'undipmenfess'), ('miloknight77', '6737RIEEE'), ('miloknight77', 'dianoaxl'), ('miloknight77', 'FikriMunafi'), ('miloknight77', 'idextratime'), ('miloknight77', 'ganjarpranowo'), ('miloknight77', 'coldplay'), ('idextratime', 'gastonedul'), ('herdiansyh__', 'kegblgnunfaedh'), ('inasmfdti', 'worksfess'), ('Styopebri', 'aazisamin'), ('aridwan05', 'fadrimerdianto'), ('abangudinn_', 'worksfess'), ('lauvyoubeb', 'PK_ent_id'), ('lauvyoubeb', 'TEMGMT'), ('ahmadfaiqfkhr', 'TxtdariHI'), ('Slurrpee2', 'idextratime'), ('thehot_man', '0GEKKK'), ('Tari_Sun_Flower', 'kegblgnunfaedh'), ('boombongie', 'ikanatassa'), ('kikir', 'Percumha'), ('pink_ranger05', 'detikcom'), ('rafirsin', 'kegblgnunfaedh'), ('kitoorah', 'Poconggg'), ('Yudiansyahjr', 'kegblgnunfaedh'), ('Ravico27', 'tvOneNews'), ('wish_14', 'LurahEliite'), ('wish_14', 'ybaindonesia'), ('rois_arbisaid', 'txtdrpemerintah'), ('remahan_peyeek', 'tanyarlfes'), ('Portal_PWT', 'm'), ('henrique_hertz', 'AngelMoonBR'), ('henrique_hertz', 'coldplay'), ('henrique_hertz', 'alienradiofm'), ('sheeshjade_', 'sosmedkeras'), ('egilalohhh', 'sosmedkeras'), ('ASummerTruffle', 'sosmedkeras'), ('oturanad', 'sosmedkeras'), ('zuzumbabi', 'racunincenter'), ('zuzumbabi', 'eIegantc'), ('zuzumbabi', 'sosmedkeras'), ('zuzumbabi', 'dikkdikkk'), ('ardhnsyah', 'BankBCA'), ('ardhnsyah', 'coldplay'), ('doubleFnyadua', 'tanyarlfes'), ('Darihat41109139', 'Sro19963'), ('Darihat41109139', 'IDNTimes'), ('loserbii', 'Maliaaa____'), ('loserbii', 'Heri_Horeh'), ('AzazelRich', 'psi_id'), ('AzazelRich', 'coldplay'), ('AzazelRich', 'adearmando61'), ('NarasiNewsroom', 'aiaindonesia'), ('jajange666', 'sosmedkeras'), ('rubychulisie', 'dinhihope'), ('cheezzzieu', 'sosmedkeras'), ('Denald', 'efenerr'), ('Denald', 'iamretty'), ('BernardNabban14', 'malameze'), ('deBUGsy', 'Metro_TV'), ('deBUGsy', 'coldplay'), ('yutatangsel', 'tanyarlfes'), ('venttry', 'FadlyPradana'), ('koganenohikari', 'PZeroVelo'), ('RytRoc', 'gentalubawan'), ('namasayadrk', 'As_Kurnn'), ('littlecilung', 'sosmedkeras'), ('jiochwe', 'nawamsirk'), ('jiochwe', 'sosmedkeras'), ('_amoy', 'sandiuno'), ('ShenoWirang', 'MUIPusat'), ('wurdianto', 'muse'), ('wurdianto', 'coldplay'), ('wurdianto', 'movelikeyeager'), ('keburuhujan_', 'tanyakanrl'), ('Chhattisggarh', 'ZulfadliZulfa17'), ('Chhattisggarh', 'vonnycornellya_'), ('alzanzea_', 'tanyakanrl'), ('whatthehappier', 'KompasTV'), ('otodanarz', 'noire172'), ('bouskazoro', 'AstoZou'), ('Awefroger', 'tvOneNews'), ('hitirediamdad', 'tanyakanrl'), ('taurusnads', 'SudahBukanMaba'), ('lokernyagacha', 'joysolong'), ('lokernyagacha', 'RD_4WR1212'), ('lokernyagacha', 'antoniusdwisap1'), ('dpd_ummatCiamis', 'sandiuno'), ('KompasData', 'ArdBrahmantya'), ('debuatomik', 'kipasgoyang'), ('debuatomik', 'rizkyXprasetya'), ('dinrayaujazla', 'tanyakanrl'), ('b16slow', 'coldplay'), ('soursadly', 'sskinnypandaxx'), ('soursadly', 'coldplay'), ('ktpjajank', 'MUSIKMENFESS'), ('zendafiar', 'MUSIKMENFESS'), ('panggilajajuu', 'inigladisss'), ('ardsandd', 'convomfs'), ('beporizal', 'erickthohir'), ('vegetablefried1', 'detikcom'), ('boysoftheyear', 'tanyakanrl'), ('GRhs292374', 'IDWantsColdplay'), ('GRhs292374', 'coldplay'), ('GRhs292374', 'NajwaShihab'), ('GRhs292374', 'MataNajwa'), ('GRhs292374', 'NarasiNewsroom'), ('GRhs292374', 'narasitv'), ('istighfarrs', 'PSSI'), ('laurenevemay', 'coldplay'), ('ahmadalfaris_', 'PSSI'), ('LiarRonin', 'SiaranBolaLive'), ('LiarRonin', 'erickthohir'), ('anakmamanurr', 'idextratime'), ('IJUN666', 'coldplay'), ('rachman0565', 'SINGAYEHUDA51'), ('rachman0565', 'coldplay'), ('rachman0565', 'sandiuno'), ('yagovic', 'arbainrambey'), ('VeinDee', 'pe2nn'), ('VeinDee', 'GOAL_ID'), ('gerardomayolla', 'erickthohir'), ('gerardomayolla', 'sandiuno'), ('gerardomayolla', 'YaqutCQoumas'), ('garinp4', 'FaktaSepakbola'), ('garinp4', 'leoparadizo'), ('FaktaSepakbola', 'gastonedul'), ('ardianfrmnsyah', 'Box2BoxBola'), ('ardianfrmnsyah', 'leoparadizo'), ('Bungwil', 'ernestprakasa'), ('zulhamyachya', 'dwikaputra'), ('zulhamyachya', 'sandiuno'), ('sdnarm', 'iga_massardi'), ('uyeuyeuyeee', 'RezaFHW'), ('uyeuyeuyeee', 'coldplay'), ('DonIsilop', 'coldplay'), ('Don_Musc', 'qtbbymoan'), ('WMaulana_', 'pandji'), ('Mohaguss1708', 'registaco'), ('fitriandiani', 'IDWantsColdplay'), ('fitriandiani', 'alienradiofm'), ('fitriandiani', 'coldplay'), ('irwinfesal', 'idextratime'), ('itsyour_abe', 'sosmedkeras'), ('riossummers', 'tiketXid'), ('rmengnici', 'coldplay'), ('hasgardians', 'Rasyadh_'), ('hasgardians', 'XtremeMerch'), ('nrmjtn', 'westenthu'), ('viestarona', 'HaloBCA'), ('JadineGood', 'votsssss_'), ('maungngomul', 'yudamlna'), ('maungngomul', 'PSSI'), ('maungngomul', 'pt_lib'), ('ferzukay_', 'coldplay'), ('Frzadam', 'IDWantsColdplay'), ('creamfie', 'satewortel'), ('binokularid', 'SupirPete2'), ('uu_hlg', 'IDWantsColdplay'), ('uu_hlg', 'coldplay'), ('vrijeman', 'rayvieralaxmana'), ('lalanacorp', 'sandiuno'), ('lalanacorp', 'coldplay'), ('ghibran_mardani', 'constantane'), ('constantane', 'westenthu'), ('constantane', 'sandiuno'), ('awesomejinhyung', 'lilacpalette_'), ('peninggidosa', 'moviemenfes'), ('carapherneliar', 'Nachtzzeit'), ('carapherneliar', 'MINPRIVIOUS'), ('velantion', 'dodikID'), ('velantion', 'recehtapisayng'), ('durkcloudev', 'coldplay'), ('parkjimbby', 'Jinaeeee'), ('prodvantes', 'prodsugadearest'), ('urbbysky', 'aciadkr'), ('_memoryusang', 'hilman_070'), ('Gurlseche', 'doyoungsehun'), ('doyoungsehun', 'Gurlseche'), ('nolinguistik', 'lesyeuxdevosye'), ('nolinguistik', 'morenasirena12'), ('nolinguistik', 'westenthu'), ('freakygurlll_', 'IDWantsColdplay'), ('freakygurlll_', 'CGV_ID'), ('freakygurlll_', 'cinepolisID'), ('freakygurlll_', 'coldplay'), ('joawofelix', 'tanyarlfes'), ('whinskyy', 'murniahmadi'), ('whinskyy', 'IDWantsColdplay'), ('whinskyy', 'CGV_ID'), ('whinskyy', 'cinepolisID'), ('whinskyy', 'coldplay'), ('murniahmadi', 'whinskyy'), ('murniahmadi', 'IDWantsColdplay'), ('murniahmadi', 'CGV_ID'), ('murniahmadi', 'cinepolisID'), ('murniahmadi', 'coldplay'), ('Yukiza__', 'yeovanta'), ('n291821', 'gibran_tweet'), ('Rainbee39413812', 'IDWantsColdplay'), ('Rainbee39413812', 'CGV_ID'), ('Rainbee39413812', 'cinepolisID'), ('Rainbee39413812', 'coldplay'), ('im_risty', 'ysitsmine'), ('JMatip32', 'tanyarlfes'), ('pradanaca', 'PARADlSCO'), ('fitarmy7', 'babyblack133'), ('fitarmy7', 'minaminomano'), ('fitarmy7', 'touringdata'), ('fitarmy7', 'coldplay'), ('fitarmy7', 'edsheeran'), ('fitarmy7', 'sanbenito'), ('fitarmy7', 'eltonofficial'), ('fitarmy7', 'RSprachrohr'), ('fitarmy7', 'Harry_Styles'), ('fitarmy7', 'daddy_yankee'), ('fitarmy7', 'BTS_twt'), ('fitarmy7', 'gunsnroses'), ('fitarmy7', 'garthbrooks'), ('imyourcalico_', 'MUSIKMENFESS'), ('wtfheree', 'MUSIKMENFESS'), ('shelaism', 'PalgunadiJuwita'), ('moienne', 'ssefnum'), ('iconiclau', 'bucinJeykey16'), ('iconiclau', 'Yoonggimin23'), ('iconiclau', 'imamksj'), ('iconiclau', 'the_popbase'), ('iconiclau', 'coldplay'), ('bucinJeykey16', 'iconiclau'), ('bucinJeykey16', 'Yoonggimin23'), ('bucinJeykey16', 'imamksj'), ('bucinJeykey16', 'the_popbase'), ('bucinJeykey16', 'coldplay'), ('ncv1997well', 'tanyakanrl'), ('honeypieofhood', 'MUSIKMENFESS'), ('judithyaangel', 'kadalinee'), ('howsungoesdown', 'MUSIKMENFESS'), ('Waffen_SS54', 'blinx182'), ('fadhilrithwan', 'Nzieraiman'), ('angelrachel_', 'MUSIKMENFESS'), ('plebengers', 'nsyifaqp'), ('woovannys', 'kqent'), ('woovannys', 'ATEEZofficial'), ('woovannys', 'coldplay'), ('blckswaaan', 'sukunabah'), ('blckswaaan', 'hblfess'), ('addadudu_', 'dumexzi'), ('dumexzi', 'addadudu_'), ('GeronimoFM', 'sidiqsetiawan80'), ('GeronimoFM', 'coldplay'), ('layl_m', 'abeyo0'), ('meegaaww', 'txtsiaul'), ('loketscreen', 'coldplay'), ('gepreksogood', 'redvelfess'), ('oppal_id', 'coldplay'), ('oppal_id', 'sandiuno'), ('rmjsjjvjk_bts', 'abangsinefil'), ('rmjsjjvjk_bts', 'myYOUniverse7'), ('althafviani', 'annakhoiru'), ('althafviani', 'ime_indonesia'), ('Rjulinas13', 'dian_anstsy'), ('Rjulinas13', 'IDWantsColdplay'), ('Rjulinas13', 'coldplay'), ('Rjulinas13', 'coldplayxtra'), ('Rjulinas13', 'coldplaying'), ('Kyrzkyw', 'tanyarlfes'), ('dialoque_', 'ColdplayMsia'), ('nisaafifa10', 'coldplay'), ('wesly_damanik', 'SupirPete2'), ('Sh4mmmm', 'seyay_'), ('captainameliza', 'sflovverst'), ('captainameliza', 'nctzenbase'), ('amirshariman', 'xdidiandrax'), ('winteervbearr', 'ime_indonesia'), ('emmaespinaltx', 'MasipJudit68191'), ('emmaespinaltx', 'coldplay'), ('believinmine', 'JCKTEROP'), ('believinmine', 'tanyakanrl'), ('xrbrxv', 'coldplay'), ('xrbrxv', 'IDWantsColdplay'), ('anggiamlhh', 'Ferraa__'), ('enadermehinhir', 'chenowoop_'), ('aiyunho99', 'aespa_official'), ('txtdarisukabumi', 'Okkyradith'), ('changgoroo', 'funkizeu'), ('changgoroo', 'jilunt'), ('funkizeu', 'changgoroo'), ('funkizeu', 'jilunt'), ('Too_awesomee', 'takeaRiz'), ('tearrrdrops', 'fnysra'), ('tearrrdrops', 'faizaarr'), ('sigitraharjo101', 'recehtapisayng'), ('bestl234', 'ancrevertte'), ('_jebatfuu', 'Ieeye0n'), ('_jebatfuu', 'dahwishkebelom'), ('mirajmee', 'aquuuaaaaaz'), ('taroaddicts', 'tawakkaI'), ('tawakkaI', 'lidicaine'), ('tawakkaI', 'celixalexandra'), ('tatssuomi', 'tanyakanrl'), ('saosambalnim', 'cherriecats'), ('halfbprincess', 'dzakicheen'), ('riyudianto', 'AditGustiana'), ('riyudianto', 'IDWantsColdplay'), ('riyudianto', 'alienradiofm'), ('riyudianto', 'coldplay'), ('AditGustiana', 'IDWantsColdplay'), ('AditGustiana', 'alienradiofm'), ('AditGustiana', 'coldplay'), ('AditGustiana', 'riyudianto'), ('wlcmhoney', 'calonkumlod'), ('rimbasurya', 'haikalnoorjamil'), ('rimbasurya', 'Edwinms69'), ('rimbasurya', 'liamgfansclub'), ('pratamsz', 'IDWantsColdplay'), ('pratamsz', 'coldplay'), ('pratamsz', 'coldplayxtra'), ('pratamsz', 'coldplaying'), ('madforgarlicc', 'GIVENNHY'), ('shndw', 'depipuy'), ('NKM0TOYUTA', 'rahmaniaudita'), ('shasimi99', 'Andrabhaskara'), ('skjnlsvttn', 'tanyakanrl'), ('putrimeid', 'beludage'), ('putrimeid', 'saltedboba_'), ('huddkhalessi', 'ArepJawa'), ('jackjackparrr', 'IDWantsColdplay'), ('jackjackparrr', 'coldplay'), ('jackjackparrr', 'coldplayxtra'), ('jackjackparrr', 'coldplaying'), ('nnataliagomezx', 'ecnelisedicius'), ('nnataliagomezx', 'coldplayspain'), ('nnataliagomezx', 'coldplay'), ('DYS_debhy', 'tiketXid'), ('murxv_', 'znkhmmn'), ('murxv_', 'CigsAfterSexx'), ('yurayunita', 'loketcom'), ('amannjiwo', 'tanyakanrl'), ('berry4gin', 'eitakhagf'), ('noona_be_like', 'user12220114'), ('Jaychee_A', 'aluujoki'), ('Jaychee_A', 'tanyakanrl'), ('lilslothhh', 'SofiaEliasz'), ('firanamiaho', 'grizisdead'), ('SyazaRahizad', 'inazallya'), ('Iyaaaa_iniaku', 'chaa_unkVR1'), ('tiraMIssY0oU', 'somuchlov33'), ('tiraMIssY0oU', 'ohmybeautybank'), ('arigum', 'sabrinaaynv'), ('buatandedek', 'flawwsomee'), ('masasihguys', 'riyansupyans'), ('myloxylohope', 'westenthu'), ('curiousguyjkt_', 'coldplay'), ('kupseniyo', 'my1004yjh'), ('doubleyuly', 'bangmicc'), ('Ry_Odji', 'IDWantsColdplay'), ('Ry_Odji', 'coldplay'), ('pejuanghidup26', 'ViantyTJP'), ('pejuanghidup26', 'vinodii'), ('vinodii', 'ditepilangit'), ('tiramissad', 'nna'), ('kr1spykremee', 'IDWantsColdplay'), ('kr1spykremee', 'coldplay'), ('randy_kempel', 'talodhy_'), ('BowoAreztu', 'chermawan93'), ('27082min', 'sunkisstmh'), ('27082min', 'coldplay'), ('katanyaptus', 'lollxoxoxx'), ('fransiratna', 'jilansy'), ('fitriaandika01', 'DinoKuning12'), ('reginaerer', 'keziatrista'), ('Supri50_', 'txtdrjkt'), ('Supri50_', 'tanyakanrl'), ('thiazaindn', 'yoongidive_'), ('haridaresa', 'nalyora'), ('haridaresa', 'rahmdess27'), ('akubbycarat', 'SerenityGObyia'), ('Wantrmln', 'fdlhrmdhn'), ('_noedels', 'syahmi26'), ('_noedels', 'ColdplayMsia'), ('_noedels', 'coldplay'), ('rayhanyit', 'dimasngehe'), ('cathydjaya', 'kr39__'), ('kr39__', 'cathydjaya'), ('Haveraine', 'honedews'), ('notjustpitstop', 'tiifaraa'), ('hendinuhade', 'gibran_tweet'), ('hendinuhade', 'coldplay'), ('cille_26', 'BiebsBro14'), ('Geraamanda', 'NadiaChikita'), ('hattamaulana07', 'MUSIKMENFESS'), ('hattamaulana07', 'gatauuahcape'), ('genzlerrr', 'derindesu_'), ('azazarif', 'RazzmirAshraff'), ('loexbije', 'so_sonyaaa'), ('so_sonyaaa', 'loexbije'), ('danindrakaff', 'yudaabdd'), ('sarapantahu', 'Box2boxID'), ('sarapantahu', 'coldplay'), ('Box2boxID', 'coldplay'), ('odezze', 'sorryumaiden'), ('odezze', 'wannafigh'), ('odezze', 'Txtmlbb'), ('ikatrasa', 'ditepilangit'), ('peachymarkyy', 'junmyeonjhjs'), ('okkymaritasari', 'junmyeonjhjs'), ('my_dreamhanguk', 'bokubene'), ('my_dreamhanguk', 'purapuraoke'), ('my_dreamhanguk', 'graceoncrack'), ('my_dreamhanguk', 'heybilbillie'), ('my_dreamhanguk', 'ZulvandiB'), ('my_dreamhanguk', 'bombaztix'), ('cibebey_', 'celixalexandra'), ('celixalexandra', 'ayuyuliantika'), ('celixalexandra', '_Hrst'), ('celixalexandra', 'akunusam'), ('cheltudesea', 'sbmptnfess'), ('sarmanda26', 'ditepilangit'), ('cinnamongirlc', 'ts_alaya'), ('cinnamongirlc', 'wedwedwed'), ('ATM_GarisLunak', 'abdiiillah'), ('ATM_GarisLunak', 'Box2boxID'), ('Dominance1ce', 'deapressed_'), ('Yeonji62', 'nlvasdyt'), ('Yeonji62', 'celixalexandra'), ('nlvasdyt', 'celixalexandra'), ('ohwellowhell', 'rbynsh_'), ('ohwellowhell', 'itsmeog_'), ('ohwellowhell', 'Adtykrnwn'), ('honeytoast102', 'aangra_'), ('vmscollect', 'fortaetune'), ('iantiawan', 'noturfavboypren'), ('almost_apricot', 'celixalexandra'), ('almost_apricot', 'malnawidahta'), ('kubisputih', 'Box2boxID'), ('kubisputih', 'coldplay'), ('kubisputih', 'sharfinaelsa'), ('kubisputih', 'powerpuffbluee'), ('muthialatief', 'owlbluesky'), ('azramadhani', 'roy1alien'), ('azramadhani', 'sbyfess'), ('snstleo', 'alim_alita'), ('ariskyba', 'satyabirulaut'), ('luvbananapie', 'nemesist_id'), ('MolenDomba', '0GEKKK'), ('azuansyakirin99', 'thepatriotsasia'), ('SebutSajaAji', 'ditepilangit'), ('moacartie', 'Theyhna'), ('moacartie', 'itsjunelav'), ('moacartie', 'piirighthere'), ('moacartie', 'AdeliaHaswii'), ('moacartie', '405files'), ('moacartie', 'thanisaurus'), ('moacartie', 'SuciAnggraeyni'), ('moacartie', 'bokubene'), ('moacartie', 'ouraass'), ('moacartie', 'hotcoffealatte'), ('moacartie', 'Dianaewt_'), ('moacartie', 'decasick'), ('moacartie', 'ailabyujinjin'), ('moacartie', 'krezzyrinaa'), ('moacartie', 'jxekissd'), ('moacartie', 'sherlyotavia'), ('ayman_amirovic', 'CapPriest'), ('czthiswillbeend', 'jellypastaa'), ('wartiketidofc', 'masasihguys'), ('wartiketidofc', 'Yeager6125'), ('wartiketidofc', 'celixalexandra'), ('wartiketidofc', 'endaaRN'), ('wartiketidofc', 'Ulyaadee'), ('wartiketidofc', 'futheeee'), ('wartiketidofc', 'suitpods_'), ('wartiketidofc', 'amaziaptr'), ('wartiketidofc', 'mhsalma_'), ('wartiketidofc', 'chocoworry'), ('wartiketidofc', 'Saprol_Dhin'), ('wartiketidofc', 'HerlinaSihotang'), ('alifmulhaq', 'srmein'), ('rijqaa', '_amod_'), ('rijqaa', 'coldplay'), ('chrystob3ryl', 'Fardhan_Wahbi'), ('ditnosaurs', 'naibee_sidepony'), ('nengapril___', 'insidefolkative'), ('ditanyainkok', 'kunaonaixia'), ('intisarijeruk', 'sskinnypandaxx'), ('intisarijeruk', 'celixalexandra'), ('ibizabarz', 'coldplay'), ('wandafath', 'sbyfess'), ('yuvnjin_', 'celixalexandra'), ('yuvnjin_', 'kithsatur'), ('AdhiPace1', 'joawofelix'), ('djibrutbonbon', 'tiketXid'), ('ramadhoniss', 'aliefngrh'), ('aliefngrh', 'ramadhoniss'), ('novaldigr', 'joawofelix'), ('rifelsgod', 'NabilaSlshabila'), ('windandyan', 'sfomfs'), ('isahrs_', 'tawakkaI'), ('aprakablue', 'kinantiws'), ('sunkistdust', 'JohnnyFyuture'), ('naufalfikrim', 'joawofelix'), ('Rami___28', 'YouTube'), ('JJondarto', 'coldplay'), ('nthngprsnll', '_ravenclavv'), ('nthngprsnll', 'sbyfess'), ('hardiman6066', 'AArul28'), ('Firliinthesky', 'siapaituyaaaa'), ('momotaroROCK', 'noturtink'), ('blackelsevesha', 'mrkush31'), ('superjumanto7', 'hyungdamm'), ('varshasalsaa', 'celixalexandra'), ('arshadazme', 'THEapeng'), ('arshadazme', 'ColdplayMsia'), ('arshadazme', 'coldplay'), ('adietz_Edogawa', 'coldplay'), ('firfiii', '_bunnypeaach_'), ('4mod_', 'coldplay'), ('patriawhura', 'erickthohir'), ('patriawhura', 'Liga1Match'), ('patriawhura', 'kontakBRI'), ('patriawhura', 'HaloBCA'), ('patriawhura', 'Telkomsel'), ('patriawhura', 'indosat'), ('patriawhura', 'IndiHomeCare'), ('patriawhura', 'KemenBUMN'), ('patriawhura', 'mohmahfudmd'), ('gopiffle', 'desssynurul'), ('hmmmapaaayaaaa', 'celixalexandra'), ('ulisisme', 'haelaahh'), ('ulisisme', 'sbyfess'), ('valmorgensterns', 'moringews'), ('sizzlecymb', 'teteteteww'), ('acipanser', 'doe__van'), ('komolangma', 'coldplay'), ('itbjeongwoo', 'winygs'), ('gagituraiii', 'cakwemania'), ('gagituraiii', 'NOAH_ID'), ('gagituraiii', 'coldplay'), ('swargiloka', 'coldplay'), ('swargiloka', 'gombalislyfeee'), ('OBARAMA_', 'joshuanade'), ('OBARAMA_', 'wehearuuu'), ('ANurhalitzah', 'nerosalt'), ('__springYOUN', 'regyunited'), ('maukemekdi', 'IDWantsColdplay'), ('maukemekdi', 'coldplay'), ('dtinyz', 'angpaobear'), ('dtinyz', 'riapjrstu'), ('dtinyz', 'riskiaamelindaa'), ('u4iyeah', 'TokoJayamakmur2'), ('tyararecto', 'octoputss'), ('weaupon', 'intisarijeruk'), ('weaupon', 'sskinnypandaxx'), ('yrantidote', 'FWBESS'), ('iwannazarudin_', 'syahriz_55'), ('ERrrrmm_', 'TXT_members'), ('ERrrrmm_', 'coldplay'), ('peedscurhat', 'coldplay'), ('irsanpratama', 'tanyarlfes'), ('AnnaAlmayda', 'pledis_17'), ('misterqueeen', 'sbyfess'), ('ameliahermawani', 'omsanto'), ('salsaltss', 'IDWantsColdplay'), ('salsaltss', 'coldplay'), ('Pickacuuuu', 'hanjisvngiee'), ('rasyidahtahir', 'nuriffahnadihah'), ('Aimanarif77', 'hafizkenny'), ('Admireyounghoo', 'sbyfess'), ('deantaraxan', 'PANJISATRIA__'), ('JS2OO4O2', 'emboorrassed'), ('ancrutt', 'curiousguyjkt_'), ('ancrutt', 'coldplay'), ('diesvope', 'tokopedia'), ('bintangsarana', 'gmail'), ('utamipicca', 'viniyanvilia'), ('utamipicca', 'elmatrianaaa'), ('utamipicca', 'JEPRUTSENDIRI'), ('volstaiggen13', 'FWBESS'), ('dumpofshalila', 'sbyfess'), ('AgataDiguna', 'sbyfess'), ('AgataDiguna', 'apriyadidit'), ('notkhaleessii', 'am_okayy'), ('Devioasky', 'insidefolkative'), ('kittenkweenn', 'greenstripes_'), ('AndrewLapikov', 'HoiDianne'), ('AndrewLapikov', 'coldplay'), ('tixseoulution', 'sherifwooody'), ('tixseoulution', 'bluegarden_nuna'), ('tixseoulution', 'bgsilhm_'), ('tixseoulution', 'Hanakhrn'), ('tixseoulution', 'enxtot'), ('tixseoulution', 'horanuniqlo'), ('tixseoulution', 'eaiuiiaoa'), ('tixseoulution', 'amaziaptr'), ('tixseoulution', 'carameilst'), ('tixseoulution', 'Ulyaadee'), ('tixseoulution', 'suitpods_'), ('tixseoulution', 'lacostearon'), ('tixseoulution', 'izzazhafira'), ('tixseoulution', 'fauziyahashifa'), ('tixseoulution', 'Ashkaathallah'), ('tixseoulution', 'ayuuuck'), ('punipunichim', 'westenthu'), ('aunya_auly', 'xuxiilucaas'), ('Fitriad61280895', 'redbloomsz'), ('dominikuspaksi', 'coldplay'), ('prassetyoAD', 'akusaranin'), ('sisszi', 'nfadhl'), ('Bilqistiamf', 'dinastwt'), ('tidurhan', 'favoerite_'), ('nanaonaneta', 'convomfs'), ('whiskeyonic3', 'jooheraa'), ('Drakaarz', 'ffarizun'), ('Aldifauzaaan', 'Freya_JKT48'), ('Aldifauzaaan', 'dreamteezy'), ('anothertalkk', 'celixalexandra'), ('fxxppiccu', 'Fatalis_Dark'), ('LaricyaMalakian', 'summrswift'), ('LaricyaMalakian', 'westenthu'), ('LaricyaMalakian', 'coldplay'), ('summrswift', 'westenthu'), ('summrswift', 'coldplay'), ('liamagdalenaaa', 'enwildann'), ('johflamer', 'suhflauwer'), ('supposedtbfun', 'aRyZtyaa'), ('supposedtbfun', 'moonie1011'), ('supposedtbfun', 'westenthu'), ('lordperceval63', 'golretzka'), ('lordperceval63', 'leclercsamour'), ('kuchinxx', 'idextratime'), ('adhierio', 'IDWantsColdplay'), ('adhierio', 'coldplay'), ('mazz_bas', 'thisiskiddo'), ('RimaKusuma06', 'GrabID'), ('iyooooi__', 'vousmesavezs'), ('iwannabelobstah', 'hblfess'), ('andreeaaawwwsss', 'chatimeic'), ('maistuesbelle', 'ieiin3'), ('detwooo', 'sskinnypandaxx'), ('detwooo', 'taktaurus'), ('sambatsejenak', 'tanyakanrl'), ('latangkabagas', 'YUJINexp'), ('ndaily99', '0501privatess'), ('ndaily99', 'ahhgobil'), ('kyutiesaiurs', 'mochiishiho'), ('kyutiesaiurs', 'soulcried'), ('ryanJuang2', 'abharinafnaf'), ('ryanJuang2', 'adisdvn'), ('Duriaaahn', 'sbyfess'), ('heiseonberg', '28myoon'), ('heiseonberg', 'coldplay'), ('lyrzics', 'celixalexandra'), ('ocedibalik', 'tanyakanrl'), ('mgptrb', 'aMrazing'), ('chintyappertiwi', 'coldplay'), ('SeptiSM__', 'hartassuwastika'), ('nofeember_', 'Rosi_Occhie'), ('lnsjprnxx', 'tanyakanrl'), ('glossyb0mb', 'westenthu'), ('1O8am', 'convomfs'), ('catnixs', 'IDWantsColdplay'), ('catnixs', 'coldplay'), ('teteehkay', 'bluerainbowcake'), ('teteehkay', 'itsjunelav'), ('nurlisaulfa', 'pusparmdhn'), ('szzharszz', 'dindsneyland__'), ('oedit', 'human0oid'), ('oedit', 'aerbe'), ('afternojaem', 'dustllama'), ('inijeongini', 'eeicsohn'), ('fckxxu', 'caraamellattte'), ('fckxxu', 'howrary'), ('Suddendecision', 'keziameidy'), ('greywineee', 'hdrxiao'), ('kunfayakun_jadi', 'coldplay'), ('sher_locked7', 'Box2boxID'), ('sher_locked7', 'coldplay'), ('frozenpaines', 'uuunderthename'), ('frozenpaines', 'literarybase'), ('necdlace', 'tzuyuindosat'), ('tisanrd', 'violetrum101'), ('GunturH', 'coldplay'), ('GunturH', 'PaulMcCartney'), ('gakdengbecanda', 'IDWantsColdplay'), ('gakdengbecanda', 'coldplay'), ('arifinammm', 'notfficially'), ('psykewlogy', 'stvdyeah'), ('heynuna11', 'amiravoir'), ('cantchosemytop5', 'dwiayu11_'), ('cantchosemytop5', 'MSyunkimin'), ('abcdmiiiii', 'westenthu'), ('heeshoul', 'IDWantsColdplay'), ('heeshoul', 'coldplay'), ('tabroni177', 'Box2boxID'), ('tabroni177', 'coldplay'), ('avcadosky', 'westenthu'), ('avcadosky', 'rebusanberas'), ('b3omyzn', 'alpacalicocat'), ('alpacalicocat', 'urchoego'), ('nabilahaulia_', 'debitaism'), ('Ailisya3', 'yoonginaa23'), ('Ailisya3', 'sbyfess'), ('jongseongssi', 'rabdit1501'), ('itsnokky_', 'hdrxiao'), ('slideawayand', 'txtdrjkt'), ('momogiluv', 'sereneediblue'), ('Canoopi_', 'coldplay'), ('febbyaliana', 'yoppikgirindra'), ('yeuxdouxla', 'westenthu'), ('rosaandinioct', 'zorapunkshit'), ('yskarr', 'celixalexandra'), ('DIORSBN', 'cwyeonjun'), ('ilhamhidayats', 'antrhmf'), ('ilhamhidayats', 'alienradiofm'), ('sorrybozoicant', 'mesyoonggg'), ('DhikaNugrahaaa', 'blackduke_'), ('DhikaNugrahaaa', 'fayestherrr'), ('SlatkoVersko', 'venomousveina'), ('Kioxi6', 'itsmemizuka'), ('Kioxi6', 'IDWantsColdplay'), ('Kioxi6', 'coldplay'), ('hellojastix_', 'siomaypangsitt'), ('hellojastix_', 'celixalexandra'), ('hellojastix_', 'endaaRN'), ('moivluv', 'waifyousimp'), ('waifyousimp', 'skinnyparanoid'), ('waifyousimp', 'graniash'), ('jeonyheart', 'hi_estimothy'), ('arddhe', 'dbrahmantyo'), ('waktukuterbuang', 'wannabetiara'), ('waktukuterbuang', 'celixalexandra'), ('alopulici', 'westenthu'), ('stillyoahttp', 'coldplay'), ('goulealabee', 'senniayua'), ('stillwithyjk', 'hi_estimothy'), ('linautarini', 'celixalexandra'), ('tsehyng', 'imVargania'), ('yoe2nz', 'IDWantsColdplay'), ('yoe2nz', 'coldplay'), ('youngkrrrr', 'woohiterose'), ('harutooyaa', 'tanyakanrl'), ('zaxxfa', 'celixalexandra'), ('calumchubby', 'westenthu'), ('aerlyra', 'tanyakanrl'), ('BOMB0MKAR', 'SYUNAves'), ('Jejeandr21', 'alexamauve'), ('2721bwin_', 'thesunsetlight'), ('xucxess', 'westenthu'), ('kikiaqifah', 'nuruliaaa_'), ('kikiaqifah', 'coldplay'), ('purplena23', 'sbyfess'), ('nkaimusou170899', 'zarryhendrik'), ('haris_patsy', 'cursedkidd'), ('Andiani25_', 'TXT_members'), ('Andiani25_', 'coldplay'), ('Andiani25_', 'taylorswift13'), ('erforger', 'westenthu'), ('emldii', 'tanyakanrl'), ('Virrlly', 'westenthu'), ('tsabnw', 'thesunsetlight'), ('kicauaniki', 'westenthu'), ('kicauaniki', 'coldplay'), ('kicauaniki', 'alienradiofm'), ('minglossies', 'hi_estimothy'), ('jaeza_vln', 'westenthu'), ('noakonoka', 'westenthu'), ('zys91', 'westenthu'), ('formerrec', 'Spreadluuvv'), ('formerrec', '_clarich_'), ('formerrec', 'meltqeen'), ('formerrec', 'annaejobling'), ('mcdreamyiy', 'moonlightsky_'), ('mcdreamyiy', 'westenthu'), ('cupycakeyyy', 'westenthu'), ('thejjkimm', 'zaharassi'), ('tetragonia', 'westenthu'), ('goingornella', 'taylorswift13'), ('0verdoshit', 'IDWantsColdplay'), ('kitextoe', 'celixalexandra'), ('nawaitujulid', 'tanyakanrl'), ('seninselasarsbu', 'celixalexandra'), ('cutiethvv', 'hi_estimothy'), ('tenmakenzoo', 'coldplay'), ('ayangiseokhan', 'noonaformingyu'), ('____i____l26', 'coldplay'), ('fabellabel', 'Isnan___'), ('akurebahanaja', 'coldplay'), ('dikifahmii', 'celixalexandra'), ('flawlssjoonie', 'hi_estimothy'), ('wahyuutomos', 'ditandrii'), ('Ririridha98', 'niaskn'), ('Ririridha98', 'celixalexandra'), ('sibabymochi', 'hi_estimothy'), ('kadesaka', 'ArdianPand'), ('dhikadharma', 'karfianda'), ('dhikadharma', 'coldplay'), ('pholamdia', 'Fardhan_Wahbi'), ('deannigel97', 'westenthu'), ('gimmecchocolate', 'waifyousimp'), ('rizqiradityafjr', 'coldplay'), ('indraXapud', 'ijalgonjow'), ('noupeh', 'yoursweetaepie'), ('Annaschbb_', 'hdrxiao'), ('graniash', 'waifyousimp'), ('ddaaannee', 'IDWantsColdplay'), ('ddaaannee', 'coldplay'), ('secretnda', 'sbyfess'), ('secretnda', 'waculukenet'), ('MiskinTV_', 'txtdrMagelang'), ('profangga', 'insyekurity'), ('taecyron', 'jaehyunarcm'), ('oi_filix315', 'NurmeiMei'), ('pepskypaw', 'mattchalova'), ('pepskypaw', 'celixalexandra'), ('boy_seagul', 'SoundRhythm'), ('boy_seagul', 'AhmadSatrio3'), ('koacipermen', 'rayhansatr'), ('koacipermen', 'lejekkk'), ('salmaadzk', 'celixalexandra'), ('salmaadzk', 'Hfidh_'), ('kinderjoyzzzx', 'coldplay'), ('ridtyd', 'sbyfess'), ('kikimulkimuch', 'zarryhendrik'), ('lalishaay', 'angewwie'), ('Chupacuphs', 'bellaldnvt'), ('dillakarnamu', 'kaonashick'), ('dillakarnamu', 'celixalexandra'), ('sweetchaotics', 'lg_nangis'), ('disenthrax', 'kegblgnunfaedh'), ('spinksorbet', 'celixalexandra'), ('alinestarryshi', 'sayabuttercup'), ('imalpinnn', 'recehtapisayng'), ('tok1oboi', 'menfesspelangi_'), ('ktgusbaha', 'YouTube'), ('hmbhay', 'celixalexandra'), ('petrusgal_', 'coldplay'), ('yudasarabia', 'luculucuaaan'), ('yudasarabia', 'Midjan_La_2'), ('yudasarabia', 'tanyakanrl'), ('yudasarabia', 'sundastruggle'), ('yudasarabia', 'LucuLucuVideo'), ('revaldrieva', 'imdfdln'), ('revaldrieva', 'celixalexandra'), ('jodoh___orang', 'Frmnalfarisi'), ('jodoh___orang', 'sbyfess'), ('operavile', 'convomf'), ('AnisaNurbaniah', 'dimbsp'), ('arkanrahman', 'marjanlemon'), ('arkanrahman', 'celixalexandra'), ('FahrezaEbol', 'worksfess'), ('fikrifingkreww', 'ureuseful'), ('fikrifingkreww', 'sbyfess'), ('keilaid01', 'convomf'), ('depresheat', 'nasyaElpnt'), ('depresheat', 'coldplay'), ('Kesar_mr2ent', 'sandiuno'), ('syafiras_', 'jadiiniapasih'), ('ekoyudha', 'hxfitda'), ('beleumsampeuuu', 'dancingastro'), ('beleumsampeuuu', 'coldplay'), ('meaza777', 'Box2boxID'), ('meaza777', 'coldplay'), ('moonlightsgrey', 'shadownocturn'), ('andriAgassi_', 'Box2boxID'), ('andriAgassi_', 'coldplay'), ('jvnlstln', 'coldplay'), ('kafsaagf', 'hdrxiao'), ('nifahsalsabila', 'jellypastaa'), ('dlpnagsts', 'roy1alien'), ('dlpnagsts', 'sbyfess'), ('DesiSilent', 'shashunk'), ('DesiSilent', 'urstrulyAG'), ('DesiSilent', 'coldplay'), ('shashunk', 'DarkKnight_'), ('shashunk', 'DesiSilent'), ('shashunk', 'urstrulyAG'), ('shashunk', 'coldplay'), ('krikkrikkriu', 'ianhugen'), ('Its_Tama', 'Areloghy'), ('andreprtaama', 'angewwie'), ('Candra_Nanta', 'bmthofficial'), ('Candra_Nanta', 'olobersyko'), ('enhydralutrisea', 'tanyakanrl'), ('AGTBLHKK', 'vinodii'), ('anshooor', 'angewwie'), ('namgilahjussi', 'mesolaviyeza'), ('namgilahjussi', '_ruxi95'), ('yeolsooy', 'ocehanbintang'), ('yeolsooy', 'tiketXid'), ('billayM', 'angewwie'), ('naya_fai', 'isaidyesssss'), ('naya_fai', 'IDWantsColdplay'), ('naya_fai', 'coldplay'), ('naya_fai', 'coldplayxtra'), ('naya_fai', 'coldplaying'), ('isaidyesssss', 'westenthu'), ('isaidyesssss', 'Box2boxID'), ('isaidyesssss', 'coldplay'), ('anngoldqn', 'FahrezaEbol'), ('anngoldqn', 'worksfess'), ('your50percent', 'beasraskin_'), ('beasraskin_', 'your50percent'), ('matchaassb', 'HaloBCA'), ('ksatriakoala', 'emffnfn'), ('minggudesu', 'daeesicc'), ('minggudesu', 'iyainajasiya'), ('saelonophile', 'AndeniAuria'), ('nondesistasz', 'ayika117'), ('inipriyanggaaa', 'dmayaputri'), ('catokanlurus', 'IDWantsColdplay'), ('catokanlurus', 'coldplay'), ('catokanlurus', 'coldplayxtra'), ('catokanlurus', 'coldplaying'), ('HudaM_16', 'oktvne'), ('ainzwatdepak', 'westenthu'), ('skalaskele', 'bacotkymak'), ('Bayiibesarr', 'rut5lv'), ('daggerword', 'coldplay'), ('_____INITEH', 'celixalexandra'), ('SaefulAriff', 'gemgurll_'), ('musetaghfiriash', 'eveninx'), ('Gregoriusbetet', 'coldplay'), ('aand_tjg', 'IDWantsColdplay'), ('aand_tjg', 'coldplay'), ('aand_tjg', 'coldplayxtra'), ('aand_tjg', 'coldplaying'), ('SiPalingBiru', '_anggihasibuan_'), ('inibiting', 'stellatellii'), ('gapyourbae', 'stellarthalia'), ('JMFerana', 'futheeee'), ('JMFerana', 'celixalexandra'), ('frogstoneco', 'coldplay'), ('frogstoneco', 'zZulfan'), ('feairyrosiee', 'vanyla0'), ('sastroentertain', 'rimbapartikel'), ('abcedefghinoo', 'depichann'), ('seblaccute', 'convomf'), ('pratamaditt', 'megalagol'), ('pratamaditt', 'IDWantsColdplay'), ('pratamaditt', 'alienradiofm'), ('pratamaditt', 'coldplay'), ('xyphrenia', 'angewwie'), ('LinaYustie', 'sosmedkeras'), ('dex_dxtr', 'matchaayayu'), ('amalialuthfi_', 'Jayaak_'), ('RcnShop33', 'RcnShop33'), ('ovayl', 'nnzhraazy'), ('ovayl', 'sandiuno'), ('thickskullllll', 'ciasenju'), ('BajajktM', 'YouTube'), ('hellorivaa', 'yourmochi95'), ('yourmochi95', 'hellorivaa'), ('bundleofmiwa', 'IDWantsColdplay'), ('bundleofmiwa', 'coldplay'), ('hiddennotwell', 'namaygunik'), ('elenanovp', 'Rtnaypspta'), ('firzadwp', 'coldplay'), ('firzadwp', 'rethayee'), ('5ecretcodes_', 'tokopedia'), ('dummyy____', 'kepengenmain'), ('dummyy____', 'celixalexandra'), ('dummyy____', 'sherrrockya'), ('dummyy____', 'sanjuniar1'), ('dummyy____', 'andiano_dewata'), ('megamaraditya', 'dekgits'), ('destanuevo', 'westenthu'), ('nushaibahh', 'ditafebrianna'), ('brie2910', 'dyanayaja'), ('amelsg', 'angewwie'), ('skkngwr_', 'westenthu'), ('potonganbolu', 'Fardhan_Wahbi'), ('KultusKaleng', 'f3vrier'), ('hiimawari107', 'convomf'), ('bubububuuu_', 'rizal_septyan'), ('bubububuuu_', 'sbyfess'), ('TribunJualBeli', 'tribunjualbeli'), ('moshokkksih', 'kpuspajayanti'), ('bornt00die', 'IDWantsColdplay'), ('bornt00die', 'coldplay'), ('riebaebae', 'sagwajixx'), ('vhdayn', 'tanyakanrl'), ('idvanmln', 'brenbrndn'), ('paflace', 'demitassed'), ('demitassed', 'paflace'), ('saadahsiti84', 'celixalexandra'), ('TRIBUNTravel', 'TribunTravel'), ('hayani25', 'celixalexandra'), ('SampahFajar', 'Box2boxID'), ('SampahFajar', 'coldplay'), ('Kitsuch', 'convomf'), ('bukan_onterr', 'angewwie'), ('mingyueyo', 'everyjeonsa'), ('mingyueyo', 'vyoxyyy'), ('mingyueyo', 'hellopettylee'), ('pjsyj__', 'jakeeeygf'), ('stress_realise', 'coldplay'), ('yourtami97', 'BankMegaID'), ('dudiidudiidam', 'tanyakanrl'), ('tissuepanda', 'taylorswift13'), ('fahmiiiiii14', 'realmadridindo1'), ('jijunnnn', 'westenthu'), ('pratiwiart', 'hanindiyadl'), ('pratiwiart', 'celixalexandra'), ('pratiwiart', 'monnafinisya'), ('pratiwiart', 'nurhandayaniii'), ('pratiwiart', 'endaaRN'), ('alikanadh', 'cutiesbubu'), ('shwaca', 'cumsbu'), ('LePetra', 'bazkoro'), ('kartykadewi', 'sagwajixx'), ('fadhlulhaq', 'Box2boxID'), ('fadhlulhaq', 'coldplay'), ('ilonaazzzz', 'loliapo_'), ('belongtotae', 'coldplay'), ('Hwanayas', 'aan__'), ('JakzRedss', 'kumparan'), ('sqainz', 'tanyakanrl'), ('mienteri', 'smileyrelin'), ('agbrilyan', 'nidiamustikaa'), ('starhaver', 'monotriasz'), ('psychosath', 'deleinca'), ('xxdzhbych', 'geciaaaaa'), ('annisawidi', 'celixalexandra'), ('iyakan_', 'westenthu'), ('iwiniww', 'gogochiiii'), ('riyanstsy', 'treasuremenfess'), ('tamskuuuyyy', 'frndaas'), ('tamskuuuyyy', 'brenbrndn'), ('tamskuuuyyy', 'doridoridam'), ('agungmuhar11194', 'Box2boxID'), ('agungmuhar11194', 'coldplay'), ('mrlindov_', 'tanyakanrl'), ('seraindipitae', 'tanyakanrl'), ('gystvrr_', 'bknsecondacc'), ('MangJhoooope', 'tanyakanrl'), ('Bellanuraa', 'jonasbrothers'), ('khalishadow', 'PradityoP'), ('do0_nctsmtown', 'tanyakanrl'), ('sushiboy_20', 'SiPalingBiru'), ('beartaeby_', 'tanyakanrl'), ('ditsthoughts', 'iamvswifey'), ('rjshjjva0613', 'tanyakanrl'), ('sugarvenomx', 'Elevenmabok'), ('Heyndii', 'IDWantsColdplay'), ('dlwadns', 'rumyblue_7'), ('dlwadns', 'tanyakanrl'), ('Rudigesper', 'cristyvanesha'), ('Rudigesper', 'ninaputt2'), ('shioMounyet', 'tanyakanrl'), ('raplee', 'coldplay'), ('Iattecookie', 'tanyakanrl'), ('kimrnd__', 'tanyakanrl'), ('annisabalqis', 'RudyRoedyanto'), ('ItsAwe_', 'Saham_fess'), ('babooyen2', 'tanyakanrl'), ('mmrrllssyyffqq', 'NaimNawrouz'), ('uchihaagustd', 'tanyakanrl'), ('riraniss', 'tanyakanrl'), ('artbleuu', 'tanyakanrl'), ('bulanaprilduarb', 'tanyakanrl'), ('kiiqueel', 'tanyakanrl'), ('jjkmcmxcvii', 'tanyakanrl'), ('anaksoelthan', 'celixalexandra'), ('rumyblue', 'dlwadns'), ('rumyblue', 'tanyakanrl'), ('rumyblue', 'KLAPAUClUS'), ('dinris15', 'tanyakanrl'), ('MelvinS1298', 'ezekielvr7'), ('MelvinS1298', 'AngkolNil'), ('catfurry____', 'tanyakanrl'), ('ireona29', 'ayaprameswari'), ('Minyongki1', 'tanyakanrl'), ('novitanonagon', 'tanyakanrl'), ('svtunning', 'tanyakanrl'), ('KimMuthiaaa', 'tanyakanrl'), ('ordinarypeo_0pl', 'tanyakanrl'), ('mostfavoredboy', 'a_lowkeycarat'), ('mostfavoredboy', 'munloper'), ('mostfavoredboy', 'coldplay'), ('SayidR13', 'clarayslw'), ('clarayslw', 'SayidR13'), ('naiethereal', 'moneeeybags'), ('BobbyDahni', 'IDWantsColdplay'), ('fullbatt92', 'sbyfess'), ('ricann97', 'JYPETWICE'), ('alextwiting', 'cristyvanesha'), ('medcom_id', 'coldplay'), ('fullsunrose__', 'cutiesbubu'), ('PrimaPradipta7', 'dinstarks'), ('PrimaPradipta7', 'celixalexandra'), ('_yourwinterbear', 'cajinsauce'), ('___npj___', 'coldplay'), ('ansiyeti', 'nanami_krn'), ('rollingitson', 'angewwie'), ('anindyaokttt', 'westenthu'), ('Eshocta', 'febiratry'), ('iamretty', 'Denald'), ('NysaaIsmail', 'shazanasam'), ('windyauliaac', 'inibeneranuna'), ('boby1003', 'infolokerjogja'), ('boby1003', 'parttimeJOGJA'), ('boby1003', 'jogja_lowker'), ('Ismawati05_', 'IDWantsColdplay'), ('Ismawati05_', 'coldplay'), ('agungkristiono', 'Superlive'), ('rismaindriya', 'brenbrndn'), ('kalenksarden', 'aitoochan'), ('AhmadZulfakar_', 'IDWantsColdplay'), ('AhmadZulfakar_', 'coldplay'), ('AhmadZulfakar_', 'zoelkarnainz'), ('wawakzk', 'zZulfan'), ('wawakzk', 'frogstoneco'), ('wawakzk', 'coldplay'), ('zZulfan', 'frogstoneco'), ('zZulfan', 'coldplay'), ('abcdwel', 'tanyarlfes'), ('piscesins', 'taylorswift13'), ('yostrikomandanu', 'aureliciousss'), ('uarmyhomee_', 'coldplay'), ('BarukenaNasi', 'jastairvine'), ('precdiksi', 'hdrxiao'), ('awloola', 'HerlinaSihotang'), ('alfirm12_', 'idextratime'), ('alfirm12_', 'gastonedul'), ('vidiraaas', 'idextratime'), ('vidiraaas', 'gastonedul'), ('everyone_wyy', 'minggudesu'), ('ihwanfikri', 'gastonedul'), ('fadhilardiansyh', 'idextratime'), ('saputrooagung', 'idextratime'), ('saputrooagung', 'gastonedul'), ('saputrooagung', 'elpangestu'), ('kecikpratama', 'gastonedul'), ('RizalFa60903288', 'Box2boxID'), ('RizalFa60903288', 'coldplay'), ('finskk', 'idextratime'), ('finskk', 'gastonedul'), ('anceliiban', 'qitzskies'), ('anceliiban', 'krywnsvir'), ('anceliiban', 'idextratime'), ('anceliiban', 'gastonedul'), ('qitzskies', 'krywnsvir'), ('qitzskies', 'idextratime'), ('qitzskies', 'gastonedul'), ('krywnsvir', 'idextratime'), ('krywnsvir', 'gastonedul'), ('fthrdh', 'erhuthut'), ('AlbicelesteTalk', 'gastonedul'), ('sugaringjellyyy', 'tanyakanrl'), ('fernandalfin', 'IDWantsColdplay'), ('fernandalfin', 'coldplay'), ('arrumherjati13', 'krywnsvir'), ('arrumherjati13', 'idextratime'), ('arrumherjati13', 'gastonedul'), ('mipanipan', 'idextratime'), ('mipanipan', 'gastonedul'), ('IcedAmericano0', 'idextratime'), ('netfIixnchilll', 'idextratime'), ('netfIixnchilll', 'gastonedul'), ('netfIixnchilll', 'PSSI'), ('ID_Albiceleste', 'gastonedul'), ('shlisjam', 'jihann_32'), ('cjakaa', 'aripandudy_'), ('dumptrxxsh', 'westenthu'), ('Tebe_lams', 'idextratime'), ('Tebe_lams', 'gastonedul'), ('azzammuth_', 'scramblepasta'), ('W2LAZY', 'karrdust'), ('luvguluguluu', 'ramdhyn'), ('Hamdiirawan17', 'amiwwww27'), ('_liuxintian', 'namgilahjussi'), ('kuincidence', 'idextratime'), ('kuincidence', 'gastonedul'), ('choco__choux', 'cheonsalees'), ('irularr_', 'idextratime'), ('irularr_', 'gastonedul'), ('azizyoo1', 'onkthlights'), ('azizyoo1', 'chartdata'), ('azizyoo1', 'coldplay'), ('azizyoo1', 'azizyoo'), ('Topokkipurple', 'cysuhh'), ('clingyinprivate', 'csngpvmnt'), ('pxlstht', 'aidahssn'), ('pxlstht', 'SNAtikahHassan'), ('aerylya', 'coldplay'), ('BRITs', 'coldplay'), ('g0ldnvinyl', 'novrainber'), ('kuliexcel', 'callmebibimbap'), ('ruthamandac', 'fachreeeee'), ('avadakadavraah', 'westenthu'), ('nandoy', 'meowraaaa'), ('chindiia', 'Alfianwisnu087'), ('chindiia', 'tirta_cipeng'), ('chindiia', 'Julpikrar'), ('cathalvi', 'harsadakara'), ('gunawana_', 'swargiloka'), ('gunawana_', 'coldplay'), ('stealthblcck', 'septyaning_'), ('stealthblcck', 'celixalexandra'), ('badutmekdi24', 'marlbouy'), ('ahmad_harry', 'coldplay'), ('matchasourr', 'txtdrjkt'), ('banyakvikiran', 'tanyakanrl'), ('tmlnsnxlouiss', 'tanyakanrl'), ('lailasiii', 'tanyakanrl'), ('nextarcoklact_', 'angewwie'), ('sugoideseu', 'faldoarganata'), ('sugoideseu', 'IDWantsColdplay'), ('sugoideseu', 'coldplay'), ('sugoideseu', 'coldplayxtra'), ('sugoideseu', 'coldplaying'), ('mathori__', 'hustlerforbread'), ('lazuardizahran', 'RioRioMustiko'), ('wildxflwrr', 'tanyakanrl'), ('dimsuunn', 'westenthu'), ('nukiinugraha', 'meepitaa'), ('dittoppr', 'khalishadow'), ('HondaHRV_', '_onyoursmark'), ('kubiskubiskuu', 'iampierrr'), ('WarungPasta', 'coldplay'), ('saturnlunette', 'idextratime'), ('saturnlunette', 'gastonedul'), ('jenxxmy', 'gezzdea'), ('jenxxmy', 'coldplay'), ('JatikusumoWisnu', 'IDWantsColdplay'), ('JatikusumoWisnu', 'coldplay'), ('JatikusumoWisnu', 'coldplayxtra'), ('JatikusumoWisnu', 'coldplaying'), ('cloudybluz', 'mutiaanuranii'), ('muaffyyy', 'IDWantsColdplay'), ('muaffyyy', 'coldplay'), ('muaffyyy', 'coldplayxtra'), ('muaffyyy', 'coldplaying'), ('AdeliaCynthia12', 'idextratime'), ('AdeliaCynthia12', 'gastonedul'), ('dannnnnnnzzzzzz', 'idextratime'), ('dannnnnnnzzzzzz', 'gastonedul'), ('vexxo8', 'saxxyking_'), ('thenacne', 'iyakan_'), ('thenacne', 'westenthu'), ('awangesti', 'arindaidris')])"
      ]
     },
     "execution_count": 5,
     "metadata": {},
     "output_type": "execute_result"
    }
   ],
   "source": [
    "# karena hasil dari edges disini merupakan username \n",
    "# perlu dirubah menjadi id (numerik) alasanya supaya dapat divisualisasikan menggunakan d3js\n",
    "G.edges"
   ]
  },
  {
   "cell_type": "code",
   "execution_count": 6,
   "metadata": {},
   "outputs": [],
   "source": [
    "edgelist = nx.to_pandas_edgelist(G).sort_values(by=\"weight\", ascending=False, ignore_index=True)\n",
    "# temporary list\n",
    "sources = list(set(edgelist.source))\n",
    "targets = list(set(edgelist.target))\n",
    "nodes = list(set(sources + targets))\n",
    "# merubah nama to id sebagai index utama\n",
    "nodelist = pd.DataFrame(nodes).reset_index()\n",
    "nodelist.columns = [\"id\", \"name\"]\n",
    "nodelist[\"id\"] = np.arange(1, len(nodelist) + 1)\n",
    "\n",
    "# mengambil id berdasarkan nama atau sebaliknya\n",
    "node_dict = {k: v for k, v in zip(nodelist.name, nodelist.id)}\n",
    "name_dict = {k: v for k, v in zip(nodelist.id, nodelist.name)}\n",
    "\n",
    "# temporary variable\n",
    "nodes = node_dict.keys()\n",
    "node_ids = node_dict.values()\n",
    "sources = [node_dict.get(s) for s in edgelist.source]\n",
    "targets = [node_dict.get(s) for s in edgelist.target]\n",
    "weights = [w for w in edgelist.weight]\n",
    "\n",
    "# temporary list\n",
    "edge_tuples = []\n",
    "for s, t, w in zip(sources, targets, weights):\n",
    "    edge_tuples.append((s, t, w))"
   ]
  },
  {
   "cell_type": "code",
   "execution_count": 7,
   "metadata": {},
   "outputs": [],
   "source": [
    "G = nx.Graph()\n",
    "G.add_nodes_from(list(node_ids))\n",
    "G.add_weighted_edges_from(edge_tuples)\n",
    "nx.set_node_attributes(G, name=\"username\", values=name_dict)"
   ]
  },
  {
   "cell_type": "markdown",
   "metadata": {},
   "source": [
    "## Social Network Analysis"
   ]
  },
  {
   "cell_type": "code",
   "execution_count": 8,
   "metadata": {},
   "outputs": [],
   "source": [
    "degree_c = nx.degree_centrality(G)\n",
    "betweenness_c = nx.betweenness_centrality(G)\n",
    "closeness_c = nx.closeness_centrality(G)\n",
    "eigenvector_c = nx.eigenvector_centrality_numpy(G)"
   ]
  },
  {
   "cell_type": "code",
   "execution_count": 9,
   "metadata": {},
   "outputs": [],
   "source": [
    "nx.set_node_attributes(G, name=\"degree_c\", values=degree_c)\n",
    "nx.set_node_attributes(G, name=\"betweenness_c\", values=betweenness_c)\n",
    "nx.set_node_attributes(G, name=\"closeness_c\", values=closeness_c)\n",
    "nx.set_node_attributes(G, name=\"eigenvector_c\", values=eigenvector_c)"
   ]
  },
  {
   "cell_type": "markdown",
   "metadata": {},
   "source": [
    "### Mengkategorikan nodes\n",
    "mengelompokan nodes berdasarkan nilai centrality dengan cara membulatkan nilai centrality untuk mendapatkan nilai yang setara"
   ]
  },
  {
   "cell_type": "code",
   "execution_count": 10,
   "metadata": {},
   "outputs": [
    {
     "data": {
      "text/html": [
       "<div>\n",
       "<style scoped>\n",
       "    .dataframe tbody tr th:only-of-type {\n",
       "        vertical-align: middle;\n",
       "    }\n",
       "\n",
       "    .dataframe tbody tr th {\n",
       "        vertical-align: top;\n",
       "    }\n",
       "\n",
       "    .dataframe thead th {\n",
       "        text-align: right;\n",
       "    }\n",
       "</style>\n",
       "<table border=\"1\" class=\"dataframe\">\n",
       "  <thead>\n",
       "    <tr style=\"text-align: right;\">\n",
       "      <th></th>\n",
       "      <th>username</th>\n",
       "    </tr>\n",
       "    <tr>\n",
       "      <th>values</th>\n",
       "      <th></th>\n",
       "    </tr>\n",
       "  </thead>\n",
       "  <tbody>\n",
       "    <tr>\n",
       "      <th>0.00</th>\n",
       "      <td>1550</td>\n",
       "    </tr>\n",
       "    <tr>\n",
       "      <th>0.01</th>\n",
       "      <td>16</td>\n",
       "    </tr>\n",
       "    <tr>\n",
       "      <th>0.02</th>\n",
       "      <td>2</td>\n",
       "    </tr>\n",
       "    <tr>\n",
       "      <th>0.03</th>\n",
       "      <td>3</td>\n",
       "    </tr>\n",
       "    <tr>\n",
       "      <th>0.09</th>\n",
       "      <td>1</td>\n",
       "    </tr>\n",
       "  </tbody>\n",
       "</table>\n",
       "</div>"
      ],
      "text/plain": [
       "        username\n",
       "values          \n",
       "0.00        1550\n",
       "0.01          16\n",
       "0.02           2\n",
       "0.03           3\n",
       "0.09           1"
      ]
     },
     "execution_count": 10,
     "metadata": {},
     "output_type": "execute_result"
    }
   ],
   "source": [
    "df_degree_c = pd.DataFrame(degree_c.items(), columns=['username', 'values'])\n",
    "df_degree_c.apply(lambda x: round(x, 2)).groupby(by='values').count()"
   ]
  },
  {
   "cell_type": "code",
   "execution_count": 11,
   "metadata": {},
   "outputs": [
    {
     "data": {
      "text/html": [
       "<div>\n",
       "<style scoped>\n",
       "    .dataframe tbody tr th:only-of-type {\n",
       "        vertical-align: middle;\n",
       "    }\n",
       "\n",
       "    .dataframe tbody tr th {\n",
       "        vertical-align: top;\n",
       "    }\n",
       "\n",
       "    .dataframe thead th {\n",
       "        text-align: right;\n",
       "    }\n",
       "</style>\n",
       "<table border=\"1\" class=\"dataframe\">\n",
       "  <thead>\n",
       "    <tr style=\"text-align: right;\">\n",
       "      <th></th>\n",
       "      <th>username</th>\n",
       "    </tr>\n",
       "    <tr>\n",
       "      <th>values</th>\n",
       "      <th></th>\n",
       "    </tr>\n",
       "  </thead>\n",
       "  <tbody>\n",
       "    <tr>\n",
       "      <th>0.000000</th>\n",
       "      <td>1308</td>\n",
       "    </tr>\n",
       "    <tr>\n",
       "      <th>0.000001</th>\n",
       "      <td>58</td>\n",
       "    </tr>\n",
       "    <tr>\n",
       "      <th>0.000002</th>\n",
       "      <td>23</td>\n",
       "    </tr>\n",
       "    <tr>\n",
       "      <th>0.000003</th>\n",
       "      <td>1</td>\n",
       "    </tr>\n",
       "    <tr>\n",
       "      <th>0.000004</th>\n",
       "      <td>2</td>\n",
       "    </tr>\n",
       "    <tr>\n",
       "      <th>...</th>\n",
       "      <td>...</td>\n",
       "    </tr>\n",
       "    <tr>\n",
       "      <th>0.025980</th>\n",
       "      <td>1</td>\n",
       "    </tr>\n",
       "    <tr>\n",
       "      <th>0.026979</th>\n",
       "      <td>1</td>\n",
       "    </tr>\n",
       "    <tr>\n",
       "      <th>0.027039</th>\n",
       "      <td>1</td>\n",
       "    </tr>\n",
       "    <tr>\n",
       "      <th>0.028520</th>\n",
       "      <td>1</td>\n",
       "    </tr>\n",
       "    <tr>\n",
       "      <th>0.072055</th>\n",
       "      <td>1</td>\n",
       "    </tr>\n",
       "  </tbody>\n",
       "</table>\n",
       "<p>84 rows × 1 columns</p>\n",
       "</div>"
      ],
      "text/plain": [
       "          username\n",
       "values            \n",
       "0.000000      1308\n",
       "0.000001        58\n",
       "0.000002        23\n",
       "0.000003         1\n",
       "0.000004         2\n",
       "...            ...\n",
       "0.025980         1\n",
       "0.026979         1\n",
       "0.027039         1\n",
       "0.028520         1\n",
       "0.072055         1\n",
       "\n",
       "[84 rows x 1 columns]"
      ]
     },
     "execution_count": 11,
     "metadata": {},
     "output_type": "execute_result"
    }
   ],
   "source": [
    "df_betweenness_c = pd.DataFrame(betweenness_c.items(), columns=['username', 'values'])\n",
    "df_betweenness_c.apply(lambda x: round(x, 6)).groupby(by='values').count()"
   ]
  },
  {
   "cell_type": "code",
   "execution_count": 12,
   "metadata": {},
   "outputs": [
    {
     "data": {
      "text/html": [
       "<div>\n",
       "<style scoped>\n",
       "    .dataframe tbody tr th:only-of-type {\n",
       "        vertical-align: middle;\n",
       "    }\n",
       "\n",
       "    .dataframe tbody tr th {\n",
       "        vertical-align: top;\n",
       "    }\n",
       "\n",
       "    .dataframe thead th {\n",
       "        text-align: right;\n",
       "    }\n",
       "</style>\n",
       "<table border=\"1\" class=\"dataframe\">\n",
       "  <thead>\n",
       "    <tr style=\"text-align: right;\">\n",
       "      <th></th>\n",
       "      <th>username</th>\n",
       "    </tr>\n",
       "    <tr>\n",
       "      <th>values</th>\n",
       "      <th></th>\n",
       "    </tr>\n",
       "  </thead>\n",
       "  <tbody>\n",
       "    <tr>\n",
       "      <th>0.00</th>\n",
       "      <td>1008</td>\n",
       "    </tr>\n",
       "    <tr>\n",
       "      <th>0.01</th>\n",
       "      <td>62</td>\n",
       "    </tr>\n",
       "    <tr>\n",
       "      <th>0.02</th>\n",
       "      <td>54</td>\n",
       "    </tr>\n",
       "    <tr>\n",
       "      <th>0.03</th>\n",
       "      <td>35</td>\n",
       "    </tr>\n",
       "    <tr>\n",
       "      <th>0.04</th>\n",
       "      <td>63</td>\n",
       "    </tr>\n",
       "    <tr>\n",
       "      <th>0.05</th>\n",
       "      <td>112</td>\n",
       "    </tr>\n",
       "    <tr>\n",
       "      <th>0.06</th>\n",
       "      <td>89</td>\n",
       "    </tr>\n",
       "    <tr>\n",
       "      <th>0.07</th>\n",
       "      <td>142</td>\n",
       "    </tr>\n",
       "    <tr>\n",
       "      <th>0.08</th>\n",
       "      <td>6</td>\n",
       "    </tr>\n",
       "    <tr>\n",
       "      <th>0.10</th>\n",
       "      <td>1</td>\n",
       "    </tr>\n",
       "  </tbody>\n",
       "</table>\n",
       "</div>"
      ],
      "text/plain": [
       "        username\n",
       "values          \n",
       "0.00        1008\n",
       "0.01          62\n",
       "0.02          54\n",
       "0.03          35\n",
       "0.04          63\n",
       "0.05         112\n",
       "0.06          89\n",
       "0.07         142\n",
       "0.08           6\n",
       "0.10           1"
      ]
     },
     "execution_count": 12,
     "metadata": {},
     "output_type": "execute_result"
    }
   ],
   "source": [
    "df_closeness_c = pd.DataFrame(closeness_c.items(), columns=['username', 'values'])\n",
    "df_closeness_c.apply(lambda x: round(x, 2)).groupby(by='values').count()"
   ]
  },
  {
   "cell_type": "code",
   "execution_count": 13,
   "metadata": {},
   "outputs": [
    {
     "data": {
      "text/html": [
       "<div>\n",
       "<style scoped>\n",
       "    .dataframe tbody tr th:only-of-type {\n",
       "        vertical-align: middle;\n",
       "    }\n",
       "\n",
       "    .dataframe tbody tr th {\n",
       "        vertical-align: top;\n",
       "    }\n",
       "\n",
       "    .dataframe thead th {\n",
       "        text-align: right;\n",
       "    }\n",
       "</style>\n",
       "<table border=\"1\" class=\"dataframe\">\n",
       "  <thead>\n",
       "    <tr style=\"text-align: right;\">\n",
       "      <th></th>\n",
       "      <th>username</th>\n",
       "    </tr>\n",
       "    <tr>\n",
       "      <th>values</th>\n",
       "      <th></th>\n",
       "    </tr>\n",
       "  </thead>\n",
       "  <tbody>\n",
       "    <tr>\n",
       "      <th>0.00</th>\n",
       "      <td>1397</td>\n",
       "    </tr>\n",
       "    <tr>\n",
       "      <th>0.01</th>\n",
       "      <td>17</td>\n",
       "    </tr>\n",
       "    <tr>\n",
       "      <th>0.02</th>\n",
       "      <td>5</td>\n",
       "    </tr>\n",
       "    <tr>\n",
       "      <th>0.04</th>\n",
       "      <td>2</td>\n",
       "    </tr>\n",
       "    <tr>\n",
       "      <th>0.05</th>\n",
       "      <td>96</td>\n",
       "    </tr>\n",
       "    <tr>\n",
       "      <th>0.06</th>\n",
       "      <td>14</td>\n",
       "    </tr>\n",
       "    <tr>\n",
       "      <th>0.07</th>\n",
       "      <td>23</td>\n",
       "    </tr>\n",
       "    <tr>\n",
       "      <th>0.08</th>\n",
       "      <td>15</td>\n",
       "    </tr>\n",
       "    <tr>\n",
       "      <th>0.10</th>\n",
       "      <td>1</td>\n",
       "    </tr>\n",
       "    <tr>\n",
       "      <th>0.28</th>\n",
       "      <td>1</td>\n",
       "    </tr>\n",
       "    <tr>\n",
       "      <th>0.65</th>\n",
       "      <td>1</td>\n",
       "    </tr>\n",
       "  </tbody>\n",
       "</table>\n",
       "</div>"
      ],
      "text/plain": [
       "        username\n",
       "values          \n",
       "0.00        1397\n",
       "0.01          17\n",
       "0.02           5\n",
       "0.04           2\n",
       "0.05          96\n",
       "0.06          14\n",
       "0.07          23\n",
       "0.08          15\n",
       "0.10           1\n",
       "0.28           1\n",
       "0.65           1"
      ]
     },
     "execution_count": 13,
     "metadata": {},
     "output_type": "execute_result"
    }
   ],
   "source": [
    "df_eigenvector_c = pd.DataFrame(eigenvector_c.items(), columns=['username', 'values'])\n",
    "df_eigenvector_c.apply(lambda x: round(x, 2)).groupby(by='values').count()"
   ]
  },
  {
   "cell_type": "markdown",
   "metadata": {},
   "source": [
    "setelah mendapatkan kategori nodes berdasarkan tiap nilai centrality selanjutnya memasukannya ke dalam attribut nodes"
   ]
  },
  {
   "cell_type": "code",
   "execution_count": 14,
   "metadata": {},
   "outputs": [],
   "source": [
    "for i, (_, dfg) in enumerate(df_degree_c.apply(lambda x: round(x, 2)).groupby(by='values')):\n",
    "    result = {username: i+1 for username in dfg.username}\n",
    "    nx.set_node_attributes(G, name=\"degree_c_category\", values=result)"
   ]
  },
  {
   "cell_type": "code",
   "execution_count": 15,
   "metadata": {},
   "outputs": [],
   "source": [
    "for i, (_, dfg) in enumerate(df_betweenness_c.apply(lambda x: round(x, 6)).groupby(by='values')):\n",
    "    result = {username: i+1 for username in dfg.username}\n",
    "    nx.set_node_attributes(G, name=\"betweenness_c_category\", values=result)"
   ]
  },
  {
   "cell_type": "code",
   "execution_count": 16,
   "metadata": {},
   "outputs": [],
   "source": [
    "for i, (_, dfg) in enumerate(df_closeness_c.apply(lambda x: round(x, 2)).groupby(by='values')):\n",
    "    result = {username: i+1 for username in dfg.username}\n",
    "    nx.set_node_attributes(G, name=\"closeness_c_category\", values=result)"
   ]
  },
  {
   "cell_type": "code",
   "execution_count": 17,
   "metadata": {},
   "outputs": [],
   "source": [
    "for i, (_, dfg) in enumerate(df_eigenvector_c.apply(lambda x: round(x, 2)).groupby(by='values')):\n",
    "    result = {username: i+1 for username in dfg.username}\n",
    "    nx.set_node_attributes(G, name=\"eigenvector_c_category\", values=result)"
   ]
  },
  {
   "cell_type": "markdown",
   "metadata": {},
   "source": [
    "mengexport graph ke dalam bentuk `.gexf` dan `.json`"
   ]
  },
  {
   "cell_type": "code",
   "execution_count": 18,
   "metadata": {},
   "outputs": [],
   "source": [
    "nx.write_gexf(G, \"../out/02-network.gexf\")"
   ]
  },
  {
   "cell_type": "code",
   "execution_count": 19,
   "metadata": {},
   "outputs": [],
   "source": [
    "with open(\"../out/02-network.json\", \"w\") as f:\n",
    "    json.dump(nx.node_link_data(G), f)"
   ]
  }
 ],
 "metadata": {
  "kernelspec": {
   "display_name": "research",
   "language": "python",
   "name": "python3"
  },
  "language_info": {
   "codemirror_mode": {
    "name": "ipython",
    "version": 3
   },
   "file_extension": ".py",
   "mimetype": "text/x-python",
   "name": "python",
   "nbconvert_exporter": "python",
   "pygments_lexer": "ipython3",
   "version": "3.10.14"
  }
 },
 "nbformat": 4,
 "nbformat_minor": 2
}
