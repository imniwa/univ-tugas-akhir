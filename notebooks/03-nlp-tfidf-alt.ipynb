{
 "cells": [
  {
   "cell_type": "markdown",
   "metadata": {},
   "source": [
    "# Mencari kata yang sering muncul menggunakan TF-IDF"
   ]
  },
  {
   "cell_type": "code",
   "execution_count": 21,
   "metadata": {},
   "outputs": [],
   "source": [
    "from sklearn.feature_extraction.text import TfidfVectorizer\n",
    "from ast import literal_eval\n",
    "\n",
    "import pandas as pd\n",
    "import numpy as np\n",
    "import json"
   ]
  },
  {
   "cell_type": "markdown",
   "metadata": {},
   "source": [
    "## Load Data"
   ]
  },
  {
   "cell_type": "code",
   "execution_count": 27,
   "metadata": {},
   "outputs": [],
   "source": [
    "data = pd.read_csv('../out/01-preprocessing.tsv', sep=\"\\t\")\n",
    "data = data[['raw_content', 'username', 'mention', 'cleaned_content']]\n",
    "data['mention'] = data['mention'].apply(literal_eval)\n",
    "data = data.explode('mention', ignore_index=True)"
   ]
  },
  {
   "cell_type": "code",
   "execution_count": 23,
   "metadata": {},
   "outputs": [],
   "source": [
    "tfidf_vectorizer = TfidfVectorizer()"
   ]
  },
  {
   "cell_type": "code",
   "execution_count": 28,
   "metadata": {},
   "outputs": [],
   "source": [
    "data_output = []"
   ]
  },
  {
   "cell_type": "code",
   "execution_count": 29,
   "metadata": {},
   "outputs": [],
   "source": [
    "for username, df in data.groupby(by='username'):\n",
    "    if len(df) == 1:\n",
    "        continue\n",
    "    content = list(df['cleaned_content'].apply(literal_eval))\n",
    "    mention = list(df['mention'])\n",
    "    raw_content = list(df['raw_content'])\n",
    "    tfidf_input = [\" \".join(c) for c in content]\n",
    "    if any(tfidf_input) or all(tfidf_input):\n",
    "        try:\n",
    "            tfidf_matrix = tfidf_vectorizer.fit_transform(tfidf_input)\n",
    "        except:\n",
    "            print(tfidf_input)\n",
    "        feature_names = tfidf_vectorizer.get_feature_names_out()\n",
    "        result = []\n",
    "        \n",
    "        for i, doc in enumerate(content):\n",
    "            feature_index = tfidf_matrix[i, :].nonzero()[1]\n",
    "            tfidf_scores = zip(feature_index, [tfidf_matrix[i, x] for x in feature_index])\n",
    "            c_doc = {\n",
    "                'username': username,\n",
    "                'mention': mention[i],\n",
    "                'raw_content': raw_content[i],\n",
    "                'tf_idf': []\n",
    "            }\n",
    "            for w, s in [(feature_names[i], s) for (i, s) in tfidf_scores]:\n",
    "                c_doc['tf_idf'].append({'token': w, 'score': s})\n",
    "            result.append(c_doc)\n",
    "        \n",
    "        [data_output.append(x) for x in result]"
   ]
  },
  {
   "cell_type": "code",
   "execution_count": 30,
   "metadata": {},
   "outputs": [],
   "source": [
    "with open('../out/02-tfidf-alt.json', 'w') as f:\n",
    "    json.dump({'data': data_output}, f, indent=4)"
   ]
  }
 ],
 "metadata": {
  "kernelspec": {
   "display_name": "research-3.10",
   "language": "python",
   "name": "python3"
  },
  "language_info": {
   "codemirror_mode": {
    "name": "ipython",
    "version": 3
   },
   "file_extension": ".py",
   "mimetype": "text/x-python",
   "name": "python",
   "nbconvert_exporter": "python",
   "pygments_lexer": "ipython3",
   "version": "3.10.14"
  }
 },
 "nbformat": 4,
 "nbformat_minor": 2
}
