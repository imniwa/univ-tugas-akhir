{
 "cells": [
  {
   "cell_type": "markdown",
   "metadata": {},
   "source": [
    "# Latent Dirichlet Allocation"
   ]
  },
  {
   "cell_type": "code",
   "execution_count": 3,
   "metadata": {},
   "outputs": [],
   "source": [
    "import pandas as pd\n",
    "from gensim import corpora, models\n",
    "from ast import literal_eval\n",
    "\n",
    "import pandas as pd\n",
    "import numpy as np\n",
    "import json"
   ]
  },
  {
   "cell_type": "code",
   "execution_count": 4,
   "metadata": {},
   "outputs": [],
   "source": [
    "data = pd.read_csv('../out/01-preprocessing.tsv', sep='\\t')\n",
    "data = data[['raw_content', 'username', 'mention', 'cleaned_content']]\n",
    "data['mention'] = data['mention'].apply(literal_eval)"
   ]
  },
  {
   "cell_type": "code",
   "execution_count": 6,
   "metadata": {},
   "outputs": [],
   "source": [
    "data_output = []"
   ]
  },
  {
   "cell_type": "code",
   "execution_count": 17,
   "metadata": {},
   "outputs": [
    {
     "name": "stdout",
     "output_type": "stream",
     "text": [
      "[(0, [('bp', 0.08296671), ('konser', 0.052378885), ('coldplay', 0.046617754), ('fans', 0.04312334), ('wkwk', 0.031097231)]), (1, [('bp', 0.05545754), ('konser', 0.050310835), ('udh', 0.039626032), ('coldplay', 0.039297365), ('wkwk', 0.03692435)])]\n"
     ]
    }
   ],
   "source": [
    "for username, df in data.groupby(by='username'):\n",
    "    if len(df) <= 1:\n",
    "        continue\n",
    "    content = list(df['cleaned_content'].apply(literal_eval))\n",
    "    mention = list(df['mention'])\n",
    "    raw_content = list(df['raw_content'])\n",
    "    dictionary = corpora.Dictionary(content)\n",
    "    corpus = [dictionary.doc2bow(doc) for doc in content]\n",
    "    lda_model = models.LdaModel(corpus, num_topics=2, id2word=dictionary)\n",
    "    \n",
    "    print(lda_model.show_topics(num_topics=3, num_words=5, formatted=False))\n",
    "    break"
   ]
  }
 ],
 "metadata": {
  "kernelspec": {
   "display_name": "research-3.10",
   "language": "python",
   "name": "python3"
  },
  "language_info": {
   "codemirror_mode": {
    "name": "ipython",
    "version": 3
   },
   "file_extension": ".py",
   "mimetype": "text/x-python",
   "name": "python",
   "nbconvert_exporter": "python",
   "pygments_lexer": "ipython3",
   "version": "3.10.14"
  }
 },
 "nbformat": 4,
 "nbformat_minor": 2
}
