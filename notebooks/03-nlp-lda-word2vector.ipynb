{
 "cells": [
  {
   "cell_type": "markdown",
   "metadata": {},
   "source": [
    "# Latent Dirichlet Allocation"
   ]
  },
  {
   "cell_type": "code",
   "execution_count": 17,
   "metadata": {},
   "outputs": [],
   "source": [
    "import pandas as pd\n",
    "from gensim import corpora, models\n",
    "from ast import literal_eval\n",
    "\n",
    "import pandas as pd\n",
    "import numpy as np\n",
    "import json"
   ]
  },
  {
   "cell_type": "code",
   "execution_count": 18,
   "metadata": {},
   "outputs": [],
   "source": [
    "data = pd.read_csv('../out/01-preprocessing.tsv', sep='\\t')\n",
    "data = data[['raw_content', 'username', 'mention', 'cleaned_content']]\n",
    "data['mention'] = data['mention'].apply(literal_eval)\n",
    "data_by_mention = data.explode('mention').reset_index(drop=True).copy(deep=True)"
   ]
  },
  {
   "cell_type": "code",
   "execution_count": 65,
   "metadata": {},
   "outputs": [],
   "source": [
    "data_output = {}"
   ]
  },
  {
   "cell_type": "code",
   "execution_count": 66,
   "metadata": {},
   "outputs": [
    {
     "name": "stdout",
     "output_type": "stream",
     "text": [
      "BrandZe1 Dictionary<0 unique tokens: []> [[]]\n",
      "SORAZKl Dictionary<0 unique tokens: []> [[]]\n",
      "agungmuhar11194 Dictionary<0 unique tokens: []> [[]]\n",
      "ambilbulan Dictionary<0 unique tokens: []> [[]]\n",
      "arthrtitis Dictionary<0 unique tokens: []> [[]]\n",
      "bedoeL28 Dictionary<0 unique tokens: []> [[]]\n",
      "brrrmi Dictionary<0 unique tokens: []> [[]]\n",
      "deyybel Dictionary<0 unique tokens: []> [[]]\n",
      "farabira Dictionary<0 unique tokens: []> [[]]\n",
      "freakygurlll_ Dictionary<0 unique tokens: []> [[]]\n",
      "gervasiusbayu Dictionary<0 unique tokens: []> [[]]\n",
      "gusashdarma Dictionary<0 unique tokens: []> [[]]\n",
      "harybro Dictionary<0 unique tokens: []> [[]]\n",
      "ismettaufik Dictionary<0 unique tokens: []> [[]]\n",
      "mo0nphas3 Dictionary<0 unique tokens: []> [[]]\n",
      "moerss41 Dictionary<0 unique tokens: []> [[]]\n",
      "moneyheist_____ Dictionary<0 unique tokens: []> [[]]\n",
      "rrrizzk Dictionary<0 unique tokens: []> [[]]\n",
      "tabroni177 Dictionary<0 unique tokens: []> [[]]\n",
      "thattangerine Dictionary<0 unique tokens: []> [[]]\n"
     ]
    }
   ],
   "source": [
    "for username, df in data.groupby(by='username'):\n",
    "    # if len(df) <= 1:\n",
    "    #     continue\n",
    "    content = list(df['cleaned_content'].apply(literal_eval))\n",
    "    mention = list(df['mention'])\n",
    "    raw_content = list(df['raw_content'])\n",
    "    \n",
    "    try:\n",
    "        dictionary = corpora.Dictionary(content)\n",
    "        corpus = [dictionary.doc2bow(doc) for doc in content]\n",
    "        lda_model = models.LdaModel(corpus, num_topics=3, id2word=dictionary)\n",
    "    except:\n",
    "        print(username, dictionary, corpus)\n",
    "    \n",
    "    topic = []\n",
    "    for i, x in lda_model.show_topics(num_topics=3, num_words=5, formatted=False):\n",
    "        topic.append([{'word': word, 'score': str(round(score, 4))} for word, score in x])\n",
    "        \n",
    "    data_output[username.lower()] = {\n",
    "        'topic': topic,\n",
    "        'source': [{\n",
    "            'username': username,\n",
    "            'content': c\n",
    "        } for c in zip(raw_content)]\n",
    "    }"
   ]
  },
  {
   "cell_type": "code",
   "execution_count": 67,
   "metadata": {},
   "outputs": [
    {
     "name": "stdout",
     "output_type": "stream",
     "text": [
      "TYOrivera Dictionary<0 unique tokens: []> [[]]\n",
      "anggi_anggoy Dictionary<0 unique tokens: []> [[]]\n",
      "nadiaaaps_ Dictionary<0 unique tokens: []> [[]]\n"
     ]
    }
   ],
   "source": [
    "for username, df in data_by_mention.groupby(by='mention'):\n",
    "    # if len(df) <= 1:\n",
    "    #     continue\n",
    "    content = list(df['cleaned_content'].apply(literal_eval))\n",
    "    mentioned = list(df['username'])\n",
    "    raw_content = list(df['raw_content'])\n",
    "    \n",
    "    try:\n",
    "        dictionary = corpora.Dictionary(content)\n",
    "        corpus = [dictionary.doc2bow(doc) for doc in content]\n",
    "        lda_model = models.LdaModel(corpus, num_topics=3, id2word=dictionary)\n",
    "    except:\n",
    "        print(username, dictionary, corpus)\n",
    "    \n",
    "    topic = []\n",
    "    for i, x in lda_model.show_topics(num_topics=3, num_words=5, formatted=False):\n",
    "        topic.append([{'word': word, 'score': str(round(score, 4))} for word, score in x])\n",
    "        \n",
    "    data_output[username.lower()] = {\n",
    "        'topic': topic,\n",
    "        'source': [{\n",
    "            'username': m,\n",
    "            'content': c\n",
    "        } for m, c in zip(mentioned,raw_content)]\n",
    "    }"
   ]
  },
  {
   "cell_type": "code",
   "execution_count": 68,
   "metadata": {},
   "outputs": [],
   "source": [
    "output = {\n",
    "    'data': [{'username': k, 'topic': v['topic'], 'source': v['source']} for k, v in data_output.items()]\n",
    "}"
   ]
  },
  {
   "cell_type": "code",
   "execution_count": 69,
   "metadata": {},
   "outputs": [],
   "source": [
    "with open('../out/02-lda-v2.json', 'w') as f:\n",
    "    json.dump(output, f, indent=4)"
   ]
  }
 ],
 "metadata": {
  "kernelspec": {
   "display_name": "research-3.10",
   "language": "python",
   "name": "python3"
  },
  "language_info": {
   "codemirror_mode": {
    "name": "ipython",
    "version": 3
   },
   "file_extension": ".py",
   "mimetype": "text/x-python",
   "name": "python",
   "nbconvert_exporter": "python",
   "pygments_lexer": "ipython3",
   "version": "3.10.14"
  }
 },
 "nbformat": 4,
 "nbformat_minor": 2
}
