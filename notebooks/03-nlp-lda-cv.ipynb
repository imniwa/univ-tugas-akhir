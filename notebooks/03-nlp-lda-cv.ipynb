{
 "cells": [
  {
   "cell_type": "markdown",
   "metadata": {},
   "source": [
    "# Latent Dirichlet Allocation"
   ]
  },
  {
   "cell_type": "code",
   "execution_count": 1,
   "metadata": {},
   "outputs": [],
   "source": [
    "import pandas as pd\n",
    "from gensim import corpora, models\n",
    "from ast import literal_eval\n",
    "\n",
    "import pandas as pd\n",
    "import numpy as np\n",
    "import json"
   ]
  },
  {
   "cell_type": "code",
   "execution_count": 2,
   "metadata": {},
   "outputs": [],
   "source": [
    "data = pd.read_csv('../out/01-preprocessing.tsv', sep='\\t')\n",
    "data = data[['raw_content', 'username', 'mention', 'cleaned_content']]\n",
    "data['mention'] = data['mention'].apply(literal_eval)\n",
    "data_by_mention = data.explode('mention').reset_index(drop=True).copy(deep=True)"
   ]
  },
  {
   "cell_type": "code",
   "execution_count": 4,
   "metadata": {},
   "outputs": [],
   "source": [
    "data_coldplay = []"
   ]
  },
  {
   "cell_type": "code",
   "execution_count": 5,
   "metadata": {},
   "outputs": [],
   "source": [
    "for username, df in data.groupby(by='username'):\n",
    "    if username != 'coldplay':\n",
    "        continue\n",
    "    data_coldplay.append(df)"
   ]
  },
  {
   "cell_type": "code",
   "execution_count": 7,
   "metadata": {},
   "outputs": [],
   "source": [
    "for username, df in data_by_mention.groupby(by='mention'):\n",
    "    if username != 'coldplay':\n",
    "        continue\n",
    "    data_coldplay.append(df)"
   ]
  },
  {
   "cell_type": "code",
   "execution_count": 14,
   "metadata": {},
   "outputs": [
    {
     "data": {
      "text/html": [
       "<div>\n",
       "<style scoped>\n",
       "    .dataframe tbody tr th:only-of-type {\n",
       "        vertical-align: middle;\n",
       "    }\n",
       "\n",
       "    .dataframe tbody tr th {\n",
       "        vertical-align: top;\n",
       "    }\n",
       "\n",
       "    .dataframe thead th {\n",
       "        text-align: right;\n",
       "    }\n",
       "</style>\n",
       "<table border=\"1\" class=\"dataframe\">\n",
       "  <thead>\n",
       "    <tr style=\"text-align: right;\">\n",
       "      <th></th>\n",
       "      <th>raw_content</th>\n",
       "      <th>username</th>\n",
       "      <th>mention</th>\n",
       "      <th>cleaned_content</th>\n",
       "    </tr>\n",
       "  </thead>\n",
       "  <tbody>\n",
       "    <tr>\n",
       "      <th>0</th>\n",
       "      <td>@rrzzaa__ @IDWantsColdplay I’m so happy to hea...</td>\n",
       "      <td>coldplay</td>\n",
       "      <td>[rrzzaa__, IDWantsColdplay, thepauldugdale]</td>\n",
       "      <td>['i', 'm', 'so', 'happy', 'to', 'hear', 'you',...</td>\n",
       "    </tr>\n",
       "    <tr>\n",
       "      <th>1</th>\n",
       "      <td>Huhu ada lagiii, HALOOO @coldplay https://t.co...</td>\n",
       "      <td>bekstreettt</td>\n",
       "      <td>coldplay</td>\n",
       "      <td>['huhu', 'lagiii', 'halooo']</td>\n",
       "    </tr>\n",
       "    <tr>\n",
       "      <th>2</th>\n",
       "      <td>Salah satu tanda @coldplay ke Indonesia untuk ...</td>\n",
       "      <td>SeleccionINA</td>\n",
       "      <td>coldplay</td>\n",
       "      <td>['salah', 'tanda', 'indonesia', 'tur', 'dunia'...</td>\n",
       "    </tr>\n",
       "    <tr>\n",
       "      <th>3</th>\n",
       "      <td>Salah satu tanda @coldplay ke Indonesia untuk ...</td>\n",
       "      <td>SeleccionINA</td>\n",
       "      <td>coldplay</td>\n",
       "      <td>['salah', 'tanda', 'indonesia', 'tur', 'dunia'...</td>\n",
       "    </tr>\n",
       "    <tr>\n",
       "      <th>4</th>\n",
       "      <td>@IDWantsColdplay @coldplay Bismillah menang wa...</td>\n",
       "      <td>finyjr</td>\n",
       "      <td>coldplay</td>\n",
       "      <td>['bismillah', 'menang', 'war', 'tiket', 'aamiin']</td>\n",
       "    </tr>\n",
       "    <tr>\n",
       "      <th>...</th>\n",
       "      <td>...</td>\n",
       "      <td>...</td>\n",
       "      <td>...</td>\n",
       "      <td>...</td>\n",
       "    </tr>\n",
       "    <tr>\n",
       "      <th>1693</th>\n",
       "      <td>@GRhs292374 @IDWantsColdplay @coldplay Hi kaa ...</td>\n",
       "      <td>Silvieoctavian1</td>\n",
       "      <td>coldplay</td>\n",
       "      <td>['hi', 'kaa', 'buka', 'yah', 'testimony', 'cek...</td>\n",
       "    </tr>\n",
       "    <tr>\n",
       "      <th>1694</th>\n",
       "      <td>@IDWantsColdplay @coldplay Amin 1 tiket😇</td>\n",
       "      <td>everglowstuf</td>\n",
       "      <td>coldplay</td>\n",
       "      <td>['amin', 'tiket']</td>\n",
       "    </tr>\n",
       "    <tr>\n",
       "      <th>1695</th>\n",
       "      <td>Duetin @coldplay sama @gloriajessicaID di Jaka...</td>\n",
       "      <td>endehendeh</td>\n",
       "      <td>coldplay</td>\n",
       "      <td>['duetin', 'jakarta', 'coldplayinjakarta']</td>\n",
       "    </tr>\n",
       "    <tr>\n",
       "      <th>1696</th>\n",
       "      <td>@EmirFateh @anwaribrahim @coldplay Zaman Pas P...</td>\n",
       "      <td>mandalorian1605</td>\n",
       "      <td>coldplay</td>\n",
       "      <td>['zaman', 'pn', 'konsert', 'billie', 'eiliah',...</td>\n",
       "    </tr>\n",
       "    <tr>\n",
       "      <th>1697</th>\n",
       "      <td>@coldplay Musik haram</td>\n",
       "      <td>berenyatulang</td>\n",
       "      <td>coldplay</td>\n",
       "      <td>['musik', 'haram']</td>\n",
       "    </tr>\n",
       "  </tbody>\n",
       "</table>\n",
       "<p>1698 rows × 4 columns</p>\n",
       "</div>"
      ],
      "text/plain": [
       "                                            raw_content         username  \\\n",
       "0     @rrzzaa__ @IDWantsColdplay I’m so happy to hea...         coldplay   \n",
       "1     Huhu ada lagiii, HALOOO @coldplay https://t.co...      bekstreettt   \n",
       "2     Salah satu tanda @coldplay ke Indonesia untuk ...     SeleccionINA   \n",
       "3     Salah satu tanda @coldplay ke Indonesia untuk ...     SeleccionINA   \n",
       "4     @IDWantsColdplay @coldplay Bismillah menang wa...           finyjr   \n",
       "...                                                 ...              ...   \n",
       "1693  @GRhs292374 @IDWantsColdplay @coldplay Hi kaa ...  Silvieoctavian1   \n",
       "1694           @IDWantsColdplay @coldplay Amin 1 tiket😇     everglowstuf   \n",
       "1695  Duetin @coldplay sama @gloriajessicaID di Jaka...       endehendeh   \n",
       "1696  @EmirFateh @anwaribrahim @coldplay Zaman Pas P...  mandalorian1605   \n",
       "1697                              @coldplay Musik haram    berenyatulang   \n",
       "\n",
       "                                          mention  \\\n",
       "0     [rrzzaa__, IDWantsColdplay, thepauldugdale]   \n",
       "1                                        coldplay   \n",
       "2                                        coldplay   \n",
       "3                                        coldplay   \n",
       "4                                        coldplay   \n",
       "...                                           ...   \n",
       "1693                                     coldplay   \n",
       "1694                                     coldplay   \n",
       "1695                                     coldplay   \n",
       "1696                                     coldplay   \n",
       "1697                                     coldplay   \n",
       "\n",
       "                                        cleaned_content  \n",
       "0     ['i', 'm', 'so', 'happy', 'to', 'hear', 'you',...  \n",
       "1                          ['huhu', 'lagiii', 'halooo']  \n",
       "2     ['salah', 'tanda', 'indonesia', 'tur', 'dunia'...  \n",
       "3     ['salah', 'tanda', 'indonesia', 'tur', 'dunia'...  \n",
       "4     ['bismillah', 'menang', 'war', 'tiket', 'aamiin']  \n",
       "...                                                 ...  \n",
       "1693  ['hi', 'kaa', 'buka', 'yah', 'testimony', 'cek...  \n",
       "1694                                  ['amin', 'tiket']  \n",
       "1695         ['duetin', 'jakarta', 'coldplayinjakarta']  \n",
       "1696  ['zaman', 'pn', 'konsert', 'billie', 'eiliah',...  \n",
       "1697                                 ['musik', 'haram']  \n",
       "\n",
       "[1698 rows x 4 columns]"
      ]
     },
     "execution_count": 14,
     "metadata": {},
     "output_type": "execute_result"
    }
   ],
   "source": [
    "df_coldplay = pd.concat(data_coldplay).reset_index(drop=True)\n",
    "df_coldplay"
   ]
  },
  {
   "cell_type": "code",
   "execution_count": 16,
   "metadata": {},
   "outputs": [],
   "source": [
    "content = list(df_coldplay['cleaned_content'].apply(literal_eval))\n",
    "dictionary = corpora.Dictionary(content)\n",
    "corpus = [dictionary.doc2bow(doc) for doc in content]\n",
    "lda_model = models.LdaModel(corpus, num_topics=3, id2word=dictionary)"
   ]
  },
  {
   "cell_type": "code",
   "execution_count": 17,
   "metadata": {},
   "outputs": [
    {
     "data": {
      "text/plain": [
       "[(0,\n",
       "  [('ga', 0.013505594),\n",
       "   ('nonton', 0.011004235),\n",
       "   ('tiket', 0.0096602375),\n",
       "   ('jakarta', 0.009237548),\n",
       "   ('gak', 0.008041168)]),\n",
       " (1,\n",
       "  [('tiket', 0.038210172),\n",
       "   ('war', 0.022726862),\n",
       "   ('allah', 0.011174999),\n",
       "   ('bang', 0.009729713),\n",
       "   ('bca', 0.0080764545)]),\n",
       " (2,\n",
       "  [('coldplay', 0.018884676),\n",
       "   ('konser', 0.018717457),\n",
       "   ('tiket', 0.013730012),\n",
       "   ('kak', 0.009837772),\n",
       "   ('nonton', 0.008964083)])]"
      ]
     },
     "execution_count": 17,
     "metadata": {},
     "output_type": "execute_result"
    }
   ],
   "source": [
    "lda_model.show_topics(num_topics=3, num_words=5, formatted=False)"
   ]
  },
  {
   "cell_type": "markdown",
   "metadata": {},
   "source": [
    "## Export TO JSON"
   ]
  },
  {
   "cell_type": "code",
   "execution_count": 65,
   "metadata": {},
   "outputs": [],
   "source": [
    "data_output = {}"
   ]
  },
  {
   "cell_type": "code",
   "execution_count": 66,
   "metadata": {},
   "outputs": [
    {
     "name": "stdout",
     "output_type": "stream",
     "text": [
      "BrandZe1 Dictionary<0 unique tokens: []> [[]]\n",
      "SORAZKl Dictionary<0 unique tokens: []> [[]]\n",
      "agungmuhar11194 Dictionary<0 unique tokens: []> [[]]\n",
      "ambilbulan Dictionary<0 unique tokens: []> [[]]\n",
      "arthrtitis Dictionary<0 unique tokens: []> [[]]\n",
      "bedoeL28 Dictionary<0 unique tokens: []> [[]]\n",
      "brrrmi Dictionary<0 unique tokens: []> [[]]\n",
      "deyybel Dictionary<0 unique tokens: []> [[]]\n",
      "farabira Dictionary<0 unique tokens: []> [[]]\n",
      "freakygurlll_ Dictionary<0 unique tokens: []> [[]]\n",
      "gervasiusbayu Dictionary<0 unique tokens: []> [[]]\n",
      "gusashdarma Dictionary<0 unique tokens: []> [[]]\n",
      "harybro Dictionary<0 unique tokens: []> [[]]\n",
      "ismettaufik Dictionary<0 unique tokens: []> [[]]\n",
      "mo0nphas3 Dictionary<0 unique tokens: []> [[]]\n",
      "moerss41 Dictionary<0 unique tokens: []> [[]]\n",
      "moneyheist_____ Dictionary<0 unique tokens: []> [[]]\n",
      "rrrizzk Dictionary<0 unique tokens: []> [[]]\n",
      "tabroni177 Dictionary<0 unique tokens: []> [[]]\n",
      "thattangerine Dictionary<0 unique tokens: []> [[]]\n"
     ]
    }
   ],
   "source": [
    "for username, df in data.groupby(by='username'):\n",
    "    # if len(df) <= 1:\n",
    "    #     continue\n",
    "    content = list(df['cleaned_content'].apply(literal_eval))\n",
    "    mention = list(df['mention'])\n",
    "    raw_content = list(df['raw_content'])\n",
    "    \n",
    "    try:\n",
    "        dictionary = corpora.Dictionary(content)\n",
    "        corpus = [dictionary.doc2bow(doc) for doc in content]\n",
    "        lda_model = models.LdaModel(corpus, num_topics=3, id2word=dictionary)\n",
    "    except:\n",
    "        print(username, dictionary, corpus)\n",
    "    \n",
    "    topic = []\n",
    "    for i, x in lda_model.show_topics(num_topics=3, num_words=5, formatted=False):\n",
    "        topic.append([{'word': word, 'score': str(round(score, 4))} for word, score in x])\n",
    "        \n",
    "    data_output[username.lower()] = {\n",
    "        'topic': topic,\n",
    "        'source': [{\n",
    "            'username': username,\n",
    "            'content': c\n",
    "        } for c in zip(raw_content)]\n",
    "    }"
   ]
  },
  {
   "cell_type": "code",
   "execution_count": 67,
   "metadata": {},
   "outputs": [
    {
     "name": "stdout",
     "output_type": "stream",
     "text": [
      "TYOrivera Dictionary<0 unique tokens: []> [[]]\n",
      "anggi_anggoy Dictionary<0 unique tokens: []> [[]]\n",
      "nadiaaaps_ Dictionary<0 unique tokens: []> [[]]\n"
     ]
    }
   ],
   "source": [
    "for username, df in data_by_mention.groupby(by='mention'):\n",
    "    # if len(df) <= 1:\n",
    "    #     continue\n",
    "    content = list(df['cleaned_content'].apply(literal_eval))\n",
    "    mentioned = list(df['username'])\n",
    "    raw_content = list(df['raw_content'])\n",
    "    \n",
    "    try:\n",
    "        dictionary = corpora.Dictionary(content)\n",
    "        corpus = [dictionary.doc2bow(doc) for doc in content]\n",
    "        lda_model = models.LdaModel(corpus, num_topics=3, id2word=dictionary)\n",
    "    except:\n",
    "        print(username, dictionary, corpus)\n",
    "    \n",
    "    topic = []\n",
    "    for i, x in lda_model.show_topics(num_topics=3, num_words=5, formatted=False):\n",
    "        topic.append([{'word': word, 'score': str(round(score, 4))} for word, score in x])\n",
    "        \n",
    "    data_output[username.lower()] = {\n",
    "        'topic': topic,\n",
    "        'source': [{\n",
    "            'username': m,\n",
    "            'content': c\n",
    "        } for m, c in zip(mentioned,raw_content)]\n",
    "    }"
   ]
  },
  {
   "cell_type": "code",
   "execution_count": 68,
   "metadata": {},
   "outputs": [],
   "source": [
    "output = {\n",
    "    'data': [{'username': k, 'topic': v['topic'], 'source': v['source']} for k, v in data_output.items()]\n",
    "}"
   ]
  },
  {
   "cell_type": "code",
   "execution_count": 69,
   "metadata": {},
   "outputs": [],
   "source": [
    "with open('../out/02-lda-v2.json', 'w') as f:\n",
    "    json.dump(output, f, indent=4)"
   ]
  }
 ],
 "metadata": {
  "kernelspec": {
   "display_name": "research-3.10",
   "language": "python",
   "name": "python3"
  },
  "language_info": {
   "codemirror_mode": {
    "name": "ipython",
    "version": 3
   },
   "file_extension": ".py",
   "mimetype": "text/x-python",
   "name": "python",
   "nbconvert_exporter": "python",
   "pygments_lexer": "ipython3",
   "version": "3.10.14"
  }
 },
 "nbformat": 4,
 "nbformat_minor": 2
}
