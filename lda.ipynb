{
 "cells": [
  {
   "cell_type": "code",
   "execution_count": 47,
   "metadata": {},
   "outputs": [],
   "source": [
    "from gensim import corpora\n",
    "from gensim.models.ldamodel import LdaModel, CoherenceModel\n",
    "import pandas as pd\n",
    "from ast import literal_eval"
   ]
  },
  {
   "cell_type": "code",
   "execution_count": 48,
   "metadata": {},
   "outputs": [],
   "source": [
    "df = pd.read_csv('./data/tsv/cleaned_content.tsv', sep=\"\\t\")\n",
    "df['content'] = df['content'].apply(lambda x: literal_eval(x))"
   ]
  },
  {
   "cell_type": "code",
   "execution_count": 55,
   "metadata": {},
   "outputs": [],
   "source": [
    "dictionary = corpora.Dictionary(df['content'])"
   ]
  },
  {
   "cell_type": "code",
   "execution_count": 61,
   "metadata": {},
   "outputs": [],
   "source": [
    "data_dtm = {}\n",
    "for username, data in df.groupby(by='username'):\n",
    "  data_dtm[username] = [dictionary.doc2bow(x) for x in data['content'].iloc]"
   ]
  },
  {
   "cell_type": "code",
   "execution_count": 62,
   "metadata": {},
   "outputs": [
    {
     "name": "stderr",
     "output_type": "stream",
     "text": [
      "/home/kur/anaconda3/envs/skripsi/lib/python3.11/site-packages/gensim/models/ldamodel.py:850: RuntimeWarning: overflow encountered in exp2\n",
      "  perwordbound, np.exp2(-perwordbound), len(chunk), corpus_words\n",
      "/home/kur/anaconda3/envs/skripsi/lib/python3.11/site-packages/gensim/models/ldamodel.py:847: RuntimeWarning: divide by zero encountered in scalar divide\n",
      "  perwordbound = self.bound(chunk, subsample_ratio=subsample_ratio) / (subsample_ratio * corpus_words)\n",
      "/home/kur/anaconda3/envs/skripsi/lib/python3.11/site-packages/gensim/models/ldamodel.py:847: RuntimeWarning: invalid value encountered in scalar divide\n",
      "  perwordbound = self.bound(chunk, subsample_ratio=subsample_ratio) / (subsample_ratio * corpus_words)\n"
     ]
    }
   ],
   "source": [
    "for key, val in data_dtm.items():\n",
    "  data_dtm[key] = LdaModel(corpus=val, id2word=dictionary, num_topics=3, passes=10, random_state=7)"
   ]
  },
  {
   "cell_type": "code",
   "execution_count": 69,
   "metadata": {},
   "outputs": [
    {
     "name": "stdout",
     "output_type": "stream",
     "text": [
      "[(0, [('band', 0.0011182259), ('butut', 0.0006388105), ('alip', 0.0006387991), ('scream', 0.00063879584), ('rawr', 0.0006387926), ('metal', 0.0006387923), ('modal', 0.0006387852), ('coldplay', 0.0006387776), ('niee', 0.00015982165), ('jad', 0.00015982165)]), (1, [('band', 0.00016069492), ('modal', 0.00016069159), ('alip', 0.00016068012), ('metal', 0.00016067958), ('rawr', 0.00016067787), ('scream', 0.00016067563), ('coldplay', 0.0001606751), ('butut', 0.0001606689), ('niee', 0.00016051346), ('jad', 0.00016051346)]), (2, [('band', 0.00016071067), ('coldplay', 0.00016071007), ('metal', 0.00016069284), ('rawr', 0.0001606925), ('scream', 0.00016069127), ('modal', 0.00016068682), ('butut', 0.0001606851), ('alip', 0.0001606839), ('jad', 0.00016051343), ('niee', 0.00016051343)])]\n"
     ]
    }
   ],
   "source": [
    "for key, lda in data_dtm.items():\n",
    "  print(lda.show_topics(num_topics=3, num_words=10, formatted=False))\n",
    "  break"
   ]
  }
 ],
 "metadata": {
  "kernelspec": {
   "display_name": "skripsi",
   "language": "python",
   "name": "python3"
  },
  "language_info": {
   "codemirror_mode": {
    "name": "ipython",
    "version": 3
   },
   "file_extension": ".py",
   "mimetype": "text/x-python",
   "name": "python",
   "nbconvert_exporter": "python",
   "pygments_lexer": "ipython3",
   "version": "3.11.5"
  }
 },
 "nbformat": 4,
 "nbformat_minor": 2
}
